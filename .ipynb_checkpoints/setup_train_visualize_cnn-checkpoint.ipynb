{
 "cells": [
  {
   "cell_type": "code",
   "execution_count": 122,
   "metadata": {},
   "outputs": [],
   "source": [
    "import pandas as pd\n",
    "import numpy as np\n",
    "from gensim.models.word2vec import Word2Vec"
   ]
  },
  {
   "cell_type": "code",
   "execution_count": 123,
   "metadata": {},
   "outputs": [],
   "source": [
    "#import relevant data\n",
    "with_time = True\n",
    "if with_time:\n",
    "    control_data = pd.read_csv(\"../cleaned_data/control_w_time.csv\", index_col = 0)\n",
    "    case_data = pd.read_csv(\"../cleaned_data/case_w_time.csv\", index_col = 0)\n",
    "    all_events = pd.read_csv(\"../cleaned_data/events_id_w_time.csv\", index_col = 0)\n",
    "    word2vec_model = Word2Vec.load(\"../word2vec_model/w2vmodel_wt\")\n",
    "    \n",
    "    control_demo = pd.read_csv(\"../cleaned_data/control_demo_wt.csv\", index_col = 0)\n",
    "    case_demo = pd.read_csv(\"../cleaned_data/case_demo_wt.csv\", index_col = 0)\n",
    "else:\n",
    "    control_data = pd.read_csv(\"../cleaned_data/control.csv\", index_col = 0)\n",
    "    case_data = pd.read_csv(\"../cleaned_data/case.csv\", index_col = 0)\n",
    "    all_events = pd.read_csv(\"../cleaned_data/events_id.csv\", index_col = 0)\n",
    "    word2vec_model = Word2Vec.load(\"../word2vec_model/w2vmodel\")\n",
    "    \n",
    "    control_demo = pd.read_csv(\"../cleaned_data/control_demo.csv\", index_col = 0)\n",
    "    case_demo = pd.read_csv(\"../cleaned_data/case_demo.csv\", index_col = 0)"
   ]
  },
  {
   "cell_type": "code",
   "execution_count": 124,
   "metadata": {},
   "outputs": [
    {
     "data": {
      "text/html": [
       "<div>\n",
       "<style scoped>\n",
       "    .dataframe tbody tr th:only-of-type {\n",
       "        vertical-align: middle;\n",
       "    }\n",
       "\n",
       "    .dataframe tbody tr th {\n",
       "        vertical-align: top;\n",
       "    }\n",
       "\n",
       "    .dataframe thead th {\n",
       "        text-align: right;\n",
       "    }\n",
       "</style>\n",
       "<table border=\"1\" class=\"dataframe\">\n",
       "  <thead>\n",
       "    <tr style=\"text-align: right;\">\n",
       "      <th></th>\n",
       "      <th>subject_id</th>\n",
       "      <th>gender</th>\n",
       "      <th>AGE</th>\n",
       "      <th>AMERICAN INDIAN/ALASKA NATIVE</th>\n",
       "      <th>ASIAN</th>\n",
       "      <th>BLACK/AFRICAN AMERICAN</th>\n",
       "      <th>HISPANIC/LATINO</th>\n",
       "      <th>OTHER</th>\n",
       "      <th>UNABLE TO OBTAIN</th>\n",
       "      <th>UNKNOWN</th>\n",
       "      <th>WHITE</th>\n",
       "    </tr>\n",
       "  </thead>\n",
       "  <tbody>\n",
       "    <tr>\n",
       "      <th>328</th>\n",
       "      <td>10019992</td>\n",
       "      <td>0</td>\n",
       "      <td>44</td>\n",
       "      <td>0</td>\n",
       "      <td>0</td>\n",
       "      <td>0</td>\n",
       "      <td>0</td>\n",
       "      <td>0</td>\n",
       "      <td>0</td>\n",
       "      <td>0</td>\n",
       "      <td>1</td>\n",
       "    </tr>\n",
       "    <tr>\n",
       "      <th>1435</th>\n",
       "      <td>10078892</td>\n",
       "      <td>0</td>\n",
       "      <td>37</td>\n",
       "      <td>0</td>\n",
       "      <td>0</td>\n",
       "      <td>0</td>\n",
       "      <td>0</td>\n",
       "      <td>0</td>\n",
       "      <td>0</td>\n",
       "      <td>0</td>\n",
       "      <td>1</td>\n",
       "    </tr>\n",
       "    <tr>\n",
       "      <th>2448</th>\n",
       "      <td>10114736</td>\n",
       "      <td>0</td>\n",
       "      <td>49</td>\n",
       "      <td>0</td>\n",
       "      <td>0</td>\n",
       "      <td>0</td>\n",
       "      <td>0</td>\n",
       "      <td>0</td>\n",
       "      <td>0</td>\n",
       "      <td>0</td>\n",
       "      <td>1</td>\n",
       "    </tr>\n",
       "    <tr>\n",
       "      <th>4073</th>\n",
       "      <td>10182430</td>\n",
       "      <td>0</td>\n",
       "      <td>39</td>\n",
       "      <td>0</td>\n",
       "      <td>0</td>\n",
       "      <td>1</td>\n",
       "      <td>0</td>\n",
       "      <td>0</td>\n",
       "      <td>0</td>\n",
       "      <td>0</td>\n",
       "      <td>0</td>\n",
       "    </tr>\n",
       "    <tr>\n",
       "      <th>4074</th>\n",
       "      <td>10182430</td>\n",
       "      <td>0</td>\n",
       "      <td>39</td>\n",
       "      <td>0</td>\n",
       "      <td>0</td>\n",
       "      <td>0</td>\n",
       "      <td>0</td>\n",
       "      <td>1</td>\n",
       "      <td>0</td>\n",
       "      <td>0</td>\n",
       "      <td>0</td>\n",
       "    </tr>\n",
       "  </tbody>\n",
       "</table>\n",
       "</div>"
      ],
      "text/plain": [
       "      subject_id  gender  AGE  AMERICAN INDIAN/ALASKA NATIVE  ASIAN  \\\n",
       "328     10019992       0   44                              0      0   \n",
       "1435    10078892       0   37                              0      0   \n",
       "2448    10114736       0   49                              0      0   \n",
       "4073    10182430       0   39                              0      0   \n",
       "4074    10182430       0   39                              0      0   \n",
       "\n",
       "      BLACK/AFRICAN AMERICAN  HISPANIC/LATINO  OTHER  UNABLE TO OBTAIN  \\\n",
       "328                        0                0      0                 0   \n",
       "1435                       0                0      0                 0   \n",
       "2448                       0                0      0                 0   \n",
       "4073                       1                0      0                 0   \n",
       "4074                       0                0      1                 0   \n",
       "\n",
       "      UNKNOWN  WHITE  \n",
       "328         0      1  \n",
       "1435        0      1  \n",
       "2448        0      1  \n",
       "4073        0      0  \n",
       "4074        0      0  "
      ]
     },
     "execution_count": 124,
     "metadata": {},
     "output_type": "execute_result"
    }
   ],
   "source": [
    "control_demo.head()"
   ]
  },
  {
   "cell_type": "code",
   "execution_count": 125,
   "metadata": {},
   "outputs": [],
   "source": [
    "#construct an input list of arrays with event index (start from 1)\n",
    "control_temp = control_data.groupby(\"subject_id\").apply(lambda x: x.eve_index.values)\n",
    "case_temp = case_data.groupby(\"subject_id\").apply(lambda x: x.eve_index.values)\n",
    "\n",
    "control_temp = control_temp.sort_index()\n",
    "case_temp = case_temp.sort_index()"
   ]
  },
  {
   "cell_type": "code",
   "execution_count": 126,
   "metadata": {},
   "outputs": [],
   "source": [
    "control_patients = control_temp.index.values\n",
    "case_patients = case_temp.index.values\n",
    "all_patients = np.concatenate([control_patients,case_patients])"
   ]
  },
  {
   "cell_type": "code",
   "execution_count": 127,
   "metadata": {},
   "outputs": [],
   "source": [
    "#construct labels\n",
    "Y_control = np.zeros(len(control_patients))\n",
    "Y_case = np.ones(len(case_patients))\n",
    "Y = np.concatenate([Y_control,Y_case])"
   ]
  },
  {
   "cell_type": "code",
   "execution_count": 128,
   "metadata": {},
   "outputs": [],
   "source": [
    "#set up demographic input layer \n",
    "#group by operation automatic sorts the subject id so demographic data is in the same order as events data)\n",
    "X_demo_control = control_demo.sort_values(by=\"subject_id\")\n",
    "X_demo_case = case_demo.sort_values(by=\"subject_id\")\n",
    "X_demo = np.concatenate([X_demo_control.iloc[:,1:3].values ,X_demo_case.iloc[:,1:3].values])"
   ]
  },
  {
   "cell_type": "code",
   "execution_count": 129,
   "metadata": {},
   "outputs": [],
   "source": [
    "#find maximum number of events(used for set the parameters of embedding layer\n",
    "#all sequences of events are padded to the max length)\n",
    "c_max = control_data.groupby(\"subject_id\")[\"eve_index\"].count().max()\n",
    "ca_max = case_data.groupby(\"subject_id\")[\"eve_index\"].count().max()\n",
    "max_num_event_patient = np.max([c_max,ca_max])"
   ]
  },
  {
   "cell_type": "code",
   "execution_count": 130,
   "metadata": {},
   "outputs": [
    {
     "name": "stderr",
     "output_type": "stream",
     "text": [
      "<string>:6: VisibleDeprecationWarning: Creating an ndarray from ragged nested sequences (which is a list-or-tuple of lists-or-tuples-or ndarrays with different lengths or shapes) is deprecated. If you meant to do this, you must specify 'dtype=object' when creating the ndarray.\n"
     ]
    }
   ],
   "source": [
    "#contruct training set of sequences with paddings, so all the sequence has the same length of max_length, \n",
    "#with 0s padded before in shorter sequences\n",
    "np.random.seed(seed=6250)\n",
    "from tensorflow.keras.preprocessing.sequence import pad_sequences\n",
    "\n",
    "X_control = [np.array(events).astype(\"int\") for events in control_temp]\n",
    "X_case = [np.array(events).astype(\"int\") for events in case_temp]\n",
    "X_all = np.concatenate([X_control,X_case])\n",
    "\n",
    "X = pad_sequences(X_all, maxlen=None)"
   ]
  },
  {
   "cell_type": "code",
   "execution_count": 131,
   "metadata": {},
   "outputs": [
    {
     "data": {
      "text/plain": [
       "array([[    0,     0,     0, ..., 35322, 30848, 31782],\n",
       "       [    0,     0,     0, ..., 29340,   114, 29340],\n",
       "       [    0,     0,     0, ..., 32824, 34157, 33014],\n",
       "       ...,\n",
       "       [    0,     0,     0, ..., 32170, 32170, 36806],\n",
       "       [    0,     0,     0, ..., 12585, 20475, 36807],\n",
       "       [    0,     0,     0, ..., 30594, 35881, 36807]], dtype=int32)"
      ]
     },
     "execution_count": 131,
     "metadata": {},
     "output_type": "execute_result"
    }
   ],
   "source": [
    "X"
   ]
  },
  {
   "cell_type": "code",
   "execution_count": 132,
   "metadata": {},
   "outputs": [
    {
     "name": "stdout",
     "output_type": "stream",
     "text": [
      "842\n",
      "(438, 842)\n",
      "(438,)\n"
     ]
    }
   ],
   "source": [
    "print(X[0].shape[0])\n",
    "print (X.shape)\n",
    "print (Y.shape)"
   ]
  },
  {
   "cell_type": "code",
   "execution_count": 133,
   "metadata": {},
   "outputs": [],
   "source": [
    "#shuffle\n",
    "shuffled_index = np.random.permutation(len(all_patients))\n",
    "\n",
    "#split train, dev, test set 7:1:2\n",
    "train_index = shuffled_index[:int(len(all_patients)*0.7)]\n",
    "dev_index =  shuffled_index[int(len(all_patients)*0.7):int(len(all_patients)*0.8)]\n",
    "test_index =  shuffled_index[int(len(all_patients)*0.8):]"
   ]
  },
  {
   "cell_type": "code",
   "execution_count": 134,
   "metadata": {},
   "outputs": [
    {
     "name": "stdout",
     "output_type": "stream",
     "text": [
      "(438,)\n",
      "(306,) (44,) (88,)\n"
     ]
    }
   ],
   "source": [
    "print (shuffled_index.shape)\n",
    "print (train_index.shape, dev_index.shape, test_index.shape)"
   ]
  },
  {
   "cell_type": "code",
   "execution_count": 135,
   "metadata": {},
   "outputs": [],
   "source": [
    "all_patients_shuffle = all_patients[shuffled_index]\n",
    "\n",
    "Y_train = Y[train_index]\n",
    "Y_dev = Y[dev_index]\n",
    "Y_test = Y[test_index]\n",
    "\n",
    "X_train = X[train_index]\n",
    "X_dev = X[dev_index]\n",
    "X_test = X[test_index]\n",
    "\n",
    "X_demo_train = X_demo[train_index]\n",
    "X_demo_dev = X_demo[dev_index]\n",
    "X_demo_test = X_demo[test_index]"
   ]
  },
  {
   "cell_type": "code",
   "execution_count": 136,
   "metadata": {},
   "outputs": [
    {
     "name": "stdout",
     "output_type": "stream",
     "text": [
      "36769\n"
     ]
    }
   ],
   "source": [
    "#contruct embedding matrix dim of (number of different events, dim of embedding)\n",
    "num_events = len(all_events)\n",
    "print(num_events)"
   ]
  },
  {
   "cell_type": "code",
   "execution_count": 137,
   "metadata": {},
   "outputs": [],
   "source": [
    "dim_embedding = len(word2vec_model.wv[\"1\"])"
   ]
  },
  {
   "cell_type": "code",
   "execution_count": 138,
   "metadata": {},
   "outputs": [
    {
     "name": "stdout",
     "output_type": "stream",
     "text": [
      "100\n"
     ]
    }
   ],
   "source": [
    "print(dim_embedding)"
   ]
  },
  {
   "cell_type": "code",
   "execution_count": 158,
   "metadata": {},
   "outputs": [],
   "source": [
    "#contruct embedding matrix dim of (number of different events, dim of embedding)\n",
    "num_events = len(all_events)\n",
    "dim_embedding = len(word2vec_model.wv[\"1\"])\n",
    "#adding the dummy row for padding at index \"0\"\n",
    "embedding_matrix = np.zeros((num_events+1, dim_embedding))\n",
    "for i in range(1, num_events):\n",
    "    embedding_matrix[i] = word2vec_model.wv[i]"
   ]
  },
  {
   "cell_type": "code",
   "execution_count": 159,
   "metadata": {},
   "outputs": [
    {
     "data": {
      "text/plain": [
       "array([[ 0.        ,  0.        ,  0.        , ...,  0.        ,\n",
       "         0.        ,  0.        ],\n",
       "       [-0.65899014, -0.31489101, -0.03198135, ..., -0.31628633,\n",
       "         0.01713326,  0.02221249],\n",
       "       [-0.50833392, -0.14767984,  0.01217468, ...,  0.00226545,\n",
       "         0.09520426,  0.18843877],\n",
       "       ...,\n",
       "       [-0.20115116,  0.04379302,  0.00378813, ..., -0.03426295,\n",
       "         0.24104443, -0.08053544],\n",
       "       [-0.28696933, -0.1629563 , -0.1262079 , ..., -0.01282212,\n",
       "         0.19591483, -0.04550172],\n",
       "       [ 0.        ,  0.        ,  0.        , ...,  0.        ,\n",
       "         0.        ,  0.        ]])"
      ]
     },
     "execution_count": 159,
     "metadata": {},
     "output_type": "execute_result"
    }
   ],
   "source": [
    "embedding_matrix"
   ]
  },
  {
   "cell_type": "code",
   "execution_count": 160,
   "metadata": {},
   "outputs": [
    {
     "name": "stderr",
     "output_type": "stream",
     "text": [
      "/opt/anaconda3/lib/python3.7/site-packages/keras/optimizers/optimizer_v2/nadam.py:78: UserWarning: The `lr` argument is deprecated, use `learning_rate` instead.\n",
      "  super(Nadam, self).__init__(name, **kwargs)\n"
     ]
    }
   ],
   "source": [
    "#set up the model\n",
    "from keras.layers import Conv1D, Dense, Input,GlobalMaxPooling1D, MaxPooling1D, concatenate, Embedding,BatchNormalization, Dropout\n",
    "from keras.optimizers import SGD, Adam, RMSprop,Nadam\n",
    "from keras.models import Model\n",
    "from keras.models import load_model\n",
    "from keras.initializers import glorot_normal\n",
    "\n",
    "input_events = Input(shape=(max_num_event_patient,))\n",
    "init = glorot_normal(seed = 6250)\n",
    "\n",
    "#embedding layer\n",
    "embedding_raw = Embedding(40000, dim_embedding,embeddings_initializer = init, input_length=max_num_event_patient)(input_events)\n",
    "embedding = BatchNormalization()(embedding_raw)\n",
    "#1D conv\n",
    "x_2 = Conv1D(filters = 4, kernel_size = 2,padding = \"valid\", activation='relu')(embedding)\n",
    "x_3 = Conv1D(filters = 4, kernel_size = 3,padding = \"valid\", activation='relu')(embedding)\n",
    "x_4 = Conv1D(filters = 4, kernel_size = 4,padding = \"valid\", activation='relu')(embedding)\n",
    "x_5 = Conv1D(filters = 4, kernel_size = 5,padding = \"valid\", activation='relu')(embedding)\n",
    "\n",
    "pool_2 = GlobalMaxPooling1D()(x_2)\n",
    "pool_3 = GlobalMaxPooling1D()(x_3)\n",
    "pool_4 = GlobalMaxPooling1D()(x_4)\n",
    "pool_5 = GlobalMaxPooling1D()(x_5)\n",
    "\n",
    "#need to adjust the shape for demographics if demo feature changes\n",
    "#now its age, sex (tried ethnicity(one hot dim = 5) but not working well)\n",
    "\n",
    "input_demo = Input(shape=(2,))\n",
    "\n",
    "#concatenate max_pooling results\n",
    "patient_embed = concatenate([input_demo,pool_2, pool_3,pool_4,pool_5])\n",
    "\n",
    "#fully connected part\n",
    "dense1 = Dense(6, activation = \"relu\")(patient_embed)\n",
    "dense1 = Dropout(0.2)(dense1)\n",
    "output = Dense(1, activation = \"sigmoid\" )(dense1)\n",
    "\n",
    "model = Model(inputs=[input_events, input_demo], outputs=output)\n",
    "model.compile(optimizer=Nadam(lr = 0.0005),loss='binary_crossentropy',metrics=['accuracy'])"
   ]
  },
  {
   "cell_type": "code",
   "execution_count": 162,
   "metadata": {},
   "outputs": [
    {
     "name": "stdout",
     "output_type": "stream",
     "text": [
      "Epoch 1/100\n",
      "5/5 [==============================] - 1s 287ms/step - loss: 0.2994 - accuracy: 0.8725 - val_loss: 3.5392 - val_accuracy: 0.2955\n",
      "Epoch 2/100\n",
      "5/5 [==============================] - 1s 253ms/step - loss: 0.3012 - accuracy: 0.8693 - val_loss: 3.5079 - val_accuracy: 0.2955\n",
      "Epoch 3/100\n",
      "5/5 [==============================] - 1s 246ms/step - loss: 0.3001 - accuracy: 0.8595 - val_loss: 3.4847 - val_accuracy: 0.2955\n",
      "Epoch 4/100\n",
      "5/5 [==============================] - 1s 294ms/step - loss: 0.2402 - accuracy: 0.8856 - val_loss: 3.4650 - val_accuracy: 0.2955\n",
      "Epoch 5/100\n",
      "5/5 [==============================] - 2s 326ms/step - loss: 0.2643 - accuracy: 0.8660 - val_loss: 3.4411 - val_accuracy: 0.2955\n",
      "Epoch 6/100\n",
      "5/5 [==============================] - 2s 353ms/step - loss: 0.2237 - accuracy: 0.8824 - val_loss: 3.4166 - val_accuracy: 0.2955\n",
      "Epoch 7/100\n",
      "5/5 [==============================] - 2s 319ms/step - loss: 0.2743 - accuracy: 0.8595 - val_loss: 3.4032 - val_accuracy: 0.2955\n",
      "Epoch 8/100\n",
      "5/5 [==============================] - 2s 309ms/step - loss: 0.1949 - accuracy: 0.9020 - val_loss: 3.3935 - val_accuracy: 0.2955\n",
      "Epoch 9/100\n",
      "5/5 [==============================] - 1s 271ms/step - loss: 0.1959 - accuracy: 0.9118 - val_loss: 3.3716 - val_accuracy: 0.2955\n",
      "Epoch 10/100\n",
      "5/5 [==============================] - 1s 273ms/step - loss: 0.2475 - accuracy: 0.8725 - val_loss: 3.3557 - val_accuracy: 0.2955\n",
      "Epoch 11/100\n",
      "5/5 [==============================] - 2s 340ms/step - loss: 0.1837 - accuracy: 0.9052 - val_loss: 3.3409 - val_accuracy: 0.2955\n",
      "Epoch 12/100\n",
      "5/5 [==============================] - 2s 390ms/step - loss: 0.2049 - accuracy: 0.9020 - val_loss: 3.3151 - val_accuracy: 0.2955\n",
      "Epoch 13/100\n",
      "5/5 [==============================] - 2s 313ms/step - loss: 0.2094 - accuracy: 0.8922 - val_loss: 3.2847 - val_accuracy: 0.2955\n",
      "Epoch 14/100\n",
      "5/5 [==============================] - 1s 304ms/step - loss: 0.1830 - accuracy: 0.9150 - val_loss: 3.2764 - val_accuracy: 0.2955\n",
      "Epoch 15/100\n",
      "5/5 [==============================] - 1s 288ms/step - loss: 0.1870 - accuracy: 0.9118 - val_loss: 3.2533 - val_accuracy: 0.2955\n",
      "Epoch 16/100\n",
      "5/5 [==============================] - 2s 329ms/step - loss: 0.2290 - accuracy: 0.8758 - val_loss: 3.2411 - val_accuracy: 0.2955\n",
      "Epoch 17/100\n",
      "5/5 [==============================] - 2s 335ms/step - loss: 0.1646 - accuracy: 0.9183 - val_loss: 3.2192 - val_accuracy: 0.2955\n",
      "Epoch 18/100\n",
      "5/5 [==============================] - 2s 332ms/step - loss: 0.1752 - accuracy: 0.9118 - val_loss: 3.2056 - val_accuracy: 0.2955\n",
      "Epoch 19/100\n",
      "5/5 [==============================] - 1s 247ms/step - loss: 0.1613 - accuracy: 0.9118 - val_loss: 3.1843 - val_accuracy: 0.2955\n",
      "Epoch 20/100\n",
      "5/5 [==============================] - 1s 241ms/step - loss: 0.1494 - accuracy: 0.9346 - val_loss: 3.1787 - val_accuracy: 0.2955\n",
      "Epoch 21/100\n",
      "5/5 [==============================] - 1s 249ms/step - loss: 0.1850 - accuracy: 0.9085 - val_loss: 3.1660 - val_accuracy: 0.2955\n",
      "Epoch 22/100\n",
      "5/5 [==============================] - 1s 264ms/step - loss: 0.1800 - accuracy: 0.9118 - val_loss: 3.1345 - val_accuracy: 0.2955\n",
      "Epoch 23/100\n",
      "5/5 [==============================] - 1s 286ms/step - loss: 0.1645 - accuracy: 0.9150 - val_loss: 3.1162 - val_accuracy: 0.2955\n",
      "Epoch 24/100\n",
      "5/5 [==============================] - 1s 259ms/step - loss: 0.2026 - accuracy: 0.8987 - val_loss: 3.1037 - val_accuracy: 0.2955\n",
      "Epoch 25/100\n",
      "5/5 [==============================] - 1s 290ms/step - loss: 0.1760 - accuracy: 0.9150 - val_loss: 3.0879 - val_accuracy: 0.2955\n",
      "Epoch 26/100\n",
      "5/5 [==============================] - 1s 274ms/step - loss: 0.1593 - accuracy: 0.9477 - val_loss: 3.0734 - val_accuracy: 0.2955\n",
      "Epoch 27/100\n",
      "5/5 [==============================] - 1s 247ms/step - loss: 0.1794 - accuracy: 0.9183 - val_loss: 3.0417 - val_accuracy: 0.2955\n",
      "Epoch 28/100\n",
      "5/5 [==============================] - 1s 257ms/step - loss: 0.1451 - accuracy: 0.9510 - val_loss: 3.0128 - val_accuracy: 0.2955\n",
      "Epoch 29/100\n",
      "5/5 [==============================] - 1s 259ms/step - loss: 0.1621 - accuracy: 0.9412 - val_loss: 3.0015 - val_accuracy: 0.2955\n",
      "Epoch 30/100\n",
      "5/5 [==============================] - 1s 243ms/step - loss: 0.1832 - accuracy: 0.9281 - val_loss: 2.9666 - val_accuracy: 0.2955\n",
      "Epoch 31/100\n",
      "5/5 [==============================] - 1s 245ms/step - loss: 0.2057 - accuracy: 0.9052 - val_loss: 2.9521 - val_accuracy: 0.2955\n",
      "Epoch 32/100\n",
      "5/5 [==============================] - 1s 243ms/step - loss: 0.1304 - accuracy: 0.9575 - val_loss: 2.9326 - val_accuracy: 0.2955\n",
      "Epoch 33/100\n",
      "5/5 [==============================] - 1s 272ms/step - loss: 0.1373 - accuracy: 0.9248 - val_loss: 2.9016 - val_accuracy: 0.2955\n",
      "Epoch 34/100\n",
      "5/5 [==============================] - 1s 271ms/step - loss: 0.1268 - accuracy: 0.9346 - val_loss: 2.8826 - val_accuracy: 0.2955\n",
      "Epoch 35/100\n",
      "5/5 [==============================] - 1s 298ms/step - loss: 0.1239 - accuracy: 0.9542 - val_loss: 2.8783 - val_accuracy: 0.2955\n",
      "Epoch 36/100\n",
      "5/5 [==============================] - 1s 292ms/step - loss: 0.1555 - accuracy: 0.9216 - val_loss: 2.8431 - val_accuracy: 0.2955\n",
      "Epoch 37/100\n",
      "5/5 [==============================] - 1s 290ms/step - loss: 0.1418 - accuracy: 0.9444 - val_loss: 2.8313 - val_accuracy: 0.2955\n",
      "Epoch 38/100\n",
      "5/5 [==============================] - 1s 284ms/step - loss: 0.1419 - accuracy: 0.9248 - val_loss: 2.8093 - val_accuracy: 0.2955\n",
      "Epoch 39/100\n",
      "5/5 [==============================] - 1s 299ms/step - loss: 0.1264 - accuracy: 0.9542 - val_loss: 2.7864 - val_accuracy: 0.2955\n",
      "Epoch 40/100\n",
      "5/5 [==============================] - 2s 310ms/step - loss: 0.1434 - accuracy: 0.9412 - val_loss: 2.7416 - val_accuracy: 0.2955\n",
      "Epoch 41/100\n",
      "5/5 [==============================] - 1s 293ms/step - loss: 0.1369 - accuracy: 0.9542 - val_loss: 2.7298 - val_accuracy: 0.2955\n",
      "Epoch 42/100\n",
      "5/5 [==============================] - 1s 278ms/step - loss: 0.1173 - accuracy: 0.9412 - val_loss: 2.6929 - val_accuracy: 0.2955\n",
      "Epoch 43/100\n",
      "5/5 [==============================] - 1s 283ms/step - loss: 0.1430 - accuracy: 0.9477 - val_loss: 2.6973 - val_accuracy: 0.2955\n",
      "Epoch 44/100\n",
      "5/5 [==============================] - 1s 270ms/step - loss: 0.1317 - accuracy: 0.9412 - val_loss: 2.6625 - val_accuracy: 0.2955\n",
      "Epoch 45/100\n",
      "5/5 [==============================] - 1s 280ms/step - loss: 0.1296 - accuracy: 0.9314 - val_loss: 2.6508 - val_accuracy: 0.2955\n",
      "Epoch 46/100\n",
      "5/5 [==============================] - 1s 259ms/step - loss: 0.1303 - accuracy: 0.9444 - val_loss: 2.6247 - val_accuracy: 0.2955\n",
      "Epoch 47/100\n",
      "5/5 [==============================] - 1s 272ms/step - loss: 0.1350 - accuracy: 0.9412 - val_loss: 2.5718 - val_accuracy: 0.2955\n",
      "Epoch 48/100\n",
      "5/5 [==============================] - 2s 345ms/step - loss: 0.1575 - accuracy: 0.9510 - val_loss: 2.5537 - val_accuracy: 0.2955\n",
      "Epoch 49/100\n",
      "5/5 [==============================] - 1s 285ms/step - loss: 0.1223 - accuracy: 0.9412 - val_loss: 2.5486 - val_accuracy: 0.2955\n",
      "Epoch 50/100\n",
      "5/5 [==============================] - 1s 250ms/step - loss: 0.1233 - accuracy: 0.9412 - val_loss: 2.5079 - val_accuracy: 0.2955\n",
      "Epoch 51/100\n",
      "5/5 [==============================] - 1s 247ms/step - loss: 0.1129 - accuracy: 0.9542 - val_loss: 2.4766 - val_accuracy: 0.2955\n",
      "Epoch 52/100\n",
      "5/5 [==============================] - 1s 244ms/step - loss: 0.1020 - accuracy: 0.9641 - val_loss: 2.4530 - val_accuracy: 0.2955\n",
      "Epoch 53/100\n",
      "5/5 [==============================] - 1s 252ms/step - loss: 0.1088 - accuracy: 0.9575 - val_loss: 2.4247 - val_accuracy: 0.2955\n",
      "Epoch 54/100\n",
      "5/5 [==============================] - 1s 275ms/step - loss: 0.1214 - accuracy: 0.9444 - val_loss: 2.3919 - val_accuracy: 0.2955\n",
      "Epoch 55/100\n",
      "5/5 [==============================] - 2s 323ms/step - loss: 0.1166 - accuracy: 0.9575 - val_loss: 2.3645 - val_accuracy: 0.2955\n",
      "Epoch 56/100\n",
      "5/5 [==============================] - 1s 292ms/step - loss: 0.1123 - accuracy: 0.9477 - val_loss: 2.3547 - val_accuracy: 0.2955\n",
      "Epoch 57/100\n",
      "5/5 [==============================] - 1s 273ms/step - loss: 0.0961 - accuracy: 0.9608 - val_loss: 2.3153 - val_accuracy: 0.2955\n",
      "Epoch 58/100\n",
      "5/5 [==============================] - 1s 275ms/step - loss: 0.0817 - accuracy: 0.9706 - val_loss: 2.3196 - val_accuracy: 0.2955\n"
     ]
    },
    {
     "name": "stdout",
     "output_type": "stream",
     "text": [
      "Epoch 59/100\n",
      "5/5 [==============================] - 1s 274ms/step - loss: 0.1026 - accuracy: 0.9608 - val_loss: 2.2723 - val_accuracy: 0.2955\n",
      "Epoch 60/100\n",
      "5/5 [==============================] - 1s 271ms/step - loss: 0.0891 - accuracy: 0.9641 - val_loss: 2.2667 - val_accuracy: 0.2955\n",
      "Epoch 61/100\n",
      "5/5 [==============================] - 1s 274ms/step - loss: 0.1029 - accuracy: 0.9477 - val_loss: 2.2268 - val_accuracy: 0.3182\n",
      "Epoch 62/100\n",
      "5/5 [==============================] - 1s 282ms/step - loss: 0.1009 - accuracy: 0.9608 - val_loss: 2.1883 - val_accuracy: 0.3182\n",
      "Epoch 63/100\n",
      "5/5 [==============================] - 2s 329ms/step - loss: 0.1152 - accuracy: 0.9281 - val_loss: 2.1163 - val_accuracy: 0.3182\n",
      "Epoch 64/100\n",
      "5/5 [==============================] - 1s 296ms/step - loss: 0.1062 - accuracy: 0.9673 - val_loss: 2.0706 - val_accuracy: 0.3182\n",
      "Epoch 65/100\n",
      "5/5 [==============================] - 2s 338ms/step - loss: 0.0752 - accuracy: 0.9739 - val_loss: 2.0628 - val_accuracy: 0.3182\n",
      "Epoch 66/100\n",
      "5/5 [==============================] - 2s 317ms/step - loss: 0.1027 - accuracy: 0.9379 - val_loss: 2.0315 - val_accuracy: 0.3182\n",
      "Epoch 67/100\n",
      "5/5 [==============================] - 1s 299ms/step - loss: 0.1069 - accuracy: 0.9706 - val_loss: 2.0285 - val_accuracy: 0.3182\n",
      "Epoch 68/100\n",
      "5/5 [==============================] - 1s 261ms/step - loss: 0.1058 - accuracy: 0.9608 - val_loss: 1.9976 - val_accuracy: 0.3182\n",
      "Epoch 69/100\n",
      "5/5 [==============================] - 1s 277ms/step - loss: 0.0818 - accuracy: 0.9739 - val_loss: 1.9837 - val_accuracy: 0.3182\n",
      "Epoch 70/100\n",
      "5/5 [==============================] - 2s 305ms/step - loss: 0.1037 - accuracy: 0.9608 - val_loss: 1.9277 - val_accuracy: 0.3182\n",
      "Epoch 71/100\n",
      "5/5 [==============================] - 1s 251ms/step - loss: 0.0819 - accuracy: 0.9739 - val_loss: 1.8867 - val_accuracy: 0.3182\n",
      "Epoch 72/100\n",
      "5/5 [==============================] - 1s 243ms/step - loss: 0.0779 - accuracy: 0.9673 - val_loss: 1.8778 - val_accuracy: 0.3182\n",
      "Epoch 73/100\n",
      "5/5 [==============================] - 1s 247ms/step - loss: 0.0921 - accuracy: 0.9608 - val_loss: 1.8347 - val_accuracy: 0.3182\n",
      "Epoch 74/100\n",
      "5/5 [==============================] - 1s 252ms/step - loss: 0.0897 - accuracy: 0.9444 - val_loss: 1.8154 - val_accuracy: 0.3182\n",
      "Epoch 75/100\n",
      "5/5 [==============================] - 1s 249ms/step - loss: 0.0688 - accuracy: 0.9739 - val_loss: 1.7714 - val_accuracy: 0.3182\n",
      "Epoch 76/100\n",
      "5/5 [==============================] - 1s 250ms/step - loss: 0.0770 - accuracy: 0.9575 - val_loss: 1.7338 - val_accuracy: 0.3182\n",
      "Epoch 77/100\n",
      "5/5 [==============================] - 1s 256ms/step - loss: 0.1117 - accuracy: 0.9641 - val_loss: 1.7014 - val_accuracy: 0.3409\n",
      "Epoch 78/100\n",
      "5/5 [==============================] - 1s 283ms/step - loss: 0.0808 - accuracy: 0.9673 - val_loss: 1.6640 - val_accuracy: 0.3636\n",
      "Epoch 79/100\n",
      "5/5 [==============================] - 1s 260ms/step - loss: 0.0758 - accuracy: 0.9804 - val_loss: 1.6015 - val_accuracy: 0.3636\n",
      "Epoch 80/100\n",
      "5/5 [==============================] - 1s 261ms/step - loss: 0.0612 - accuracy: 0.9837 - val_loss: 1.5920 - val_accuracy: 0.3636\n",
      "Epoch 81/100\n",
      "5/5 [==============================] - 1s 251ms/step - loss: 0.0883 - accuracy: 0.9706 - val_loss: 1.5841 - val_accuracy: 0.3636\n",
      "Epoch 82/100\n",
      "5/5 [==============================] - 1s 253ms/step - loss: 0.0677 - accuracy: 0.9542 - val_loss: 1.5571 - val_accuracy: 0.4318\n",
      "Epoch 83/100\n",
      "5/5 [==============================] - 1s 255ms/step - loss: 0.0918 - accuracy: 0.9575 - val_loss: 1.5280 - val_accuracy: 0.4773\n",
      "Epoch 84/100\n",
      "5/5 [==============================] - 1s 251ms/step - loss: 0.0798 - accuracy: 0.9739 - val_loss: 1.5034 - val_accuracy: 0.5000\n",
      "Epoch 85/100\n",
      "5/5 [==============================] - 1s 249ms/step - loss: 0.0670 - accuracy: 0.9706 - val_loss: 1.5052 - val_accuracy: 0.5000\n",
      "Epoch 86/100\n",
      "5/5 [==============================] - 1s 261ms/step - loss: 0.0568 - accuracy: 0.9706 - val_loss: 1.4454 - val_accuracy: 0.5000\n",
      "Epoch 87/100\n",
      "5/5 [==============================] - 1s 250ms/step - loss: 0.0578 - accuracy: 0.9804 - val_loss: 1.4393 - val_accuracy: 0.5227\n",
      "Epoch 88/100\n",
      "5/5 [==============================] - 1s 251ms/step - loss: 0.0636 - accuracy: 0.9739 - val_loss: 1.4143 - val_accuracy: 0.5682\n",
      "Epoch 89/100\n",
      "5/5 [==============================] - 1s 254ms/step - loss: 0.0775 - accuracy: 0.9542 - val_loss: 1.3872 - val_accuracy: 0.5682\n",
      "Epoch 90/100\n",
      "5/5 [==============================] - 1s 247ms/step - loss: 0.0527 - accuracy: 0.9706 - val_loss: 1.3598 - val_accuracy: 0.5682\n",
      "Epoch 91/100\n",
      "5/5 [==============================] - 1s 262ms/step - loss: 0.0936 - accuracy: 0.9477 - val_loss: 1.3184 - val_accuracy: 0.5909\n",
      "Epoch 92/100\n",
      "5/5 [==============================] - 1s 248ms/step - loss: 0.0605 - accuracy: 0.9771 - val_loss: 1.2935 - val_accuracy: 0.5909\n",
      "Epoch 93/100\n",
      "5/5 [==============================] - 2s 321ms/step - loss: 0.0589 - accuracy: 0.9837 - val_loss: 1.3057 - val_accuracy: 0.5909\n",
      "Epoch 94/100\n",
      "5/5 [==============================] - 2s 337ms/step - loss: 0.0596 - accuracy: 0.9739 - val_loss: 1.2996 - val_accuracy: 0.6136\n",
      "Epoch 95/100\n",
      "5/5 [==============================] - 2s 315ms/step - loss: 0.0645 - accuracy: 0.9641 - val_loss: 1.3524 - val_accuracy: 0.6136\n",
      "Epoch 96/100\n",
      "5/5 [==============================] - 2s 306ms/step - loss: 0.0545 - accuracy: 0.9706 - val_loss: 1.2945 - val_accuracy: 0.6136\n",
      "Epoch 97/100\n",
      "5/5 [==============================] - 1s 256ms/step - loss: 0.0528 - accuracy: 0.9771 - val_loss: 1.2165 - val_accuracy: 0.6136\n",
      "Epoch 98/100\n",
      "5/5 [==============================] - 1s 255ms/step - loss: 0.0419 - accuracy: 0.9837 - val_loss: 1.1762 - val_accuracy: 0.6364\n",
      "Epoch 99/100\n",
      "5/5 [==============================] - 1s 254ms/step - loss: 0.0458 - accuracy: 0.9739 - val_loss: 1.1620 - val_accuracy: 0.6364\n",
      "Epoch 100/100\n",
      "5/5 [==============================] - 1s 286ms/step - loss: 0.0620 - accuracy: 0.9673 - val_loss: 1.1245 - val_accuracy: 0.6364\n"
     ]
    },
    {
     "data": {
      "text/plain": [
       "<keras.callbacks.History at 0x7fb971acefd0>"
      ]
     },
     "execution_count": 162,
     "metadata": {},
     "output_type": "execute_result"
    }
   ],
   "source": [
    "model.fit([X_train, X_demo_train],Y_train, epochs=100,batch_size =64,shuffle=True,validation_data=([X_dev, X_demo_dev], Y_dev))"
   ]
  },
  {
   "cell_type": "code",
   "execution_count": 163,
   "metadata": {},
   "outputs": [],
   "source": [
    "!rm cnn-model.h5\n",
    "model.save('cnn-model.h5')"
   ]
  },
  {
   "cell_type": "code",
   "execution_count": 164,
   "metadata": {},
   "outputs": [
    {
     "name": "stdout",
     "output_type": "stream",
     "text": [
      "3/3 [==============================] - 0s 22ms/step - loss: 1.0460 - accuracy: 0.5909\n"
     ]
    },
    {
     "data": {
      "text/plain": [
       "[1.0459723472595215, 0.5909090638160706]"
      ]
     },
     "execution_count": 164,
     "metadata": {},
     "output_type": "execute_result"
    }
   ],
   "source": [
    "model.evaluate([X_test, X_demo_test], Y_test)"
   ]
  },
  {
   "cell_type": "code",
   "execution_count": 165,
   "metadata": {},
   "outputs": [
    {
     "name": "stdout",
     "output_type": "stream",
     "text": [
      "3/3 [==============================] - 0s 21ms/step\n",
      "0.8216145833333333\n"
     ]
    }
   ],
   "source": [
    "from sklearn import metrics\n",
    "print(metrics.roc_auc_score(Y_test, model.predict([X_test, X_demo_test])))"
   ]
  },
  {
   "cell_type": "code",
   "execution_count": null,
   "metadata": {},
   "outputs": [],
   "source": []
  },
  {
   "cell_type": "code",
   "execution_count": 166,
   "metadata": {},
   "outputs": [],
   "source": [
    "#Visualize patient representation trained by CNN"
   ]
  },
  {
   "cell_type": "code",
   "execution_count": 168,
   "metadata": {},
   "outputs": [
    {
     "name": "stdout",
     "output_type": "stream",
     "text": [
      "14/14 [==============================] - 0s 25ms/step\n"
     ]
    }
   ],
   "source": [
    "#get embedding\n",
    "patient_embedding=Model(inputs=[input_events, input_demo], outputs=patient_embed).predict([X, X_demo[0:438]])"
   ]
  },
  {
   "cell_type": "code",
   "execution_count": 169,
   "metadata": {},
   "outputs": [
    {
     "data": {
      "text/plain": [
       "(438, 18)"
      ]
     },
     "execution_count": 169,
     "metadata": {},
     "output_type": "execute_result"
    }
   ],
   "source": [
    "patient_embedding.shape"
   ]
  },
  {
   "cell_type": "code",
   "execution_count": 170,
   "metadata": {},
   "outputs": [],
   "source": [
    "from sklearn.manifold import TSNE\n",
    "from time import time"
   ]
  },
  {
   "cell_type": "code",
   "execution_count": 172,
   "metadata": {},
   "outputs": [
    {
     "name": "stdout",
     "output_type": "stream",
     "text": [
      "Computing t-SNE embedding\n",
      "t-SNE: 5.7 sec\n"
     ]
    },
    {
     "data": {
      "image/png": "[encoded data removed]",
      "text/plain": [
       "<Figure size 1080x576 with 1 Axes>"
      ]
     },
     "metadata": {
      "needs_background": "light"
     },
     "output_type": "display_data"
    }
   ],
   "source": [
    "#use t-sne to visualize patient representations in control group and case group\n",
    "print(\"Computing t-SNE embedding\")\n",
    "tsne = TSNE(n_components=2, perplexity =2,init='pca', random_state=0,method='exact')\n",
    "t0 = time()\n",
    "patient_tsne = tsne.fit_transform(patient_embedding)\n",
    "\n",
    "t1 = time()\n",
    "print(\"t-SNE: %.2g sec\" % (t1 - t0))\n",
    "\n",
    "import matplotlib.pyplot as plt\n",
    "from matplotlib.ticker import NullFormatter\n",
    "from sklearn.utils import check_random_state\n",
    "\n",
    "fig = plt.figure(figsize=(15, 8))\n",
    "ax = fig.add_subplot(1,1,1)\n",
    "plt.scatter(patient_tsne[:,0], patient_tsne[:,1], c=Y,cmap=plt.cm.rainbow_r)\n",
    "plt.title(\"t-SNE (%.2g sec)\" % (t1 - t0))\n",
    "ax.xaxis.set_major_formatter(NullFormatter())\n",
    "ax.yaxis.set_major_formatter(NullFormatter())\n",
    "plt.axis('tight')\n",
    "\n",
    "plt.show()"
   ]
  },
  {
   "cell_type": "code",
   "execution_count": null,
   "metadata": {},
   "outputs": [],
   "source": []
  },
  {
   "cell_type": "code",
   "execution_count": null,
   "metadata": {},
   "outputs": [],
   "source": [
    "#Doing Kmeans upon learned feature embeddings"
   ]
  },
  {
   "cell_type": "code",
   "execution_count": 173,
   "metadata": {},
   "outputs": [],
   "source": [
    "#get case embeddings\n",
    "case_embedding = patient_embedding[Y==1]"
   ]
  },
  {
   "cell_type": "code",
   "execution_count": 174,
   "metadata": {},
   "outputs": [
    {
     "data": {
      "text/plain": [
       "(146, 18)"
      ]
     },
     "execution_count": 174,
     "metadata": {},
     "output_type": "execute_result"
    }
   ],
   "source": [
    "case_embedding.shape"
   ]
  },
  {
   "cell_type": "code",
   "execution_count": 175,
   "metadata": {},
   "outputs": [],
   "source": [
    "from sklearn.cluster import KMeans\n",
    "%matplotlib inline "
   ]
  },
  {
   "cell_type": "code",
   "execution_count": 176,
   "metadata": {},
   "outputs": [],
   "source": [
    "kmeans_wss=[]\n",
    "kmeans_idx=[]\n",
    "for i in range(2,20):\n",
    "\n",
    "    kmeans_clustering = KMeans( n_clusters = i).fit(case_embedding)\n",
    "    kmeans_idx.append(kmeans_clustering.labels_)\n",
    "    kmeans_wss.append(kmeans_clustering.inertia_)"
   ]
  },
  {
   "cell_type": "code",
   "execution_count": 177,
   "metadata": {},
   "outputs": [
    {
     "data": {
      "text/plain": [
       "[<matplotlib.lines.Line2D at 0x7fb9a1779310>]"
      ]
     },
     "execution_count": 177,
     "metadata": {},
     "output_type": "execute_result"
    },
    {
     "data": {
      "image/png": "[encoded data removed]",
      "text/plain": [
       "<Figure size 432x288 with 1 Axes>"
      ]
     },
     "metadata": {
      "needs_background": "light"
     },
     "output_type": "display_data"
    }
   ],
   "source": [
    "#find good # of clusters \n",
    "plt.plot(range(2,20), kmeans_wss)"
   ]
  },
  {
   "cell_type": "code",
   "execution_count": 178,
   "metadata": {},
   "outputs": [],
   "source": [
    "#Visualize 3 clusters in case group using pateint representation"
   ]
  },
  {
   "cell_type": "code",
   "execution_count": 179,
   "metadata": {},
   "outputs": [],
   "source": [
    "case_class = KMeans(n_clusters = 3).fit(case_embedding).labels_ +1"
   ]
  },
  {
   "cell_type": "code",
   "execution_count": 208,
   "metadata": {},
   "outputs": [
    {
     "name": "stdout",
     "output_type": "stream",
     "text": [
      "Computing t-SNE embedding\n",
      "t-SNE: 2.1 sec\n"
     ]
    },
    {
     "data": {
      "text/plain": [
       "Text(0.5, 1.0, 't-SNE: 2.1 sec')"
      ]
     },
     "execution_count": 208,
     "metadata": {},
     "output_type": "execute_result"
    },
    {
     "data": {
      "image/png": "[encoded data removed]",
      "text/plain": [
       "<Figure size 1080x1080 with 1 Axes>"
      ]
     },
     "metadata": {},
     "output_type": "display_data"
    }
   ],
   "source": [
    "#visualize and tag tsne graph using kmeans result \n",
    "print(\"Computing t-SNE embedding\")\n",
    "tsne = TSNE(n_components=3, perplexity =10,init='pca', learning_rate=500,early_exaggeration=2.0,random_state=6250,method='exact')  \n",
    "t0 = time()\n",
    "case_tsne = tsne.fit_transform(case_embedding)\n",
    "t1 = time()\n",
    "print(\"t-SNE: %.2g sec\" % (t1 - t0))\n",
    "x_min, x_max = np.min(case_tsne, 0), np.max(case_tsne, 0)\n",
    "case_tsne = (case_tsne - x_min) / (x_max - x_min)\n",
    "\n",
    "plt.figure(figsize=(15,15))\n",
    "ax = plt.subplot(111)\n",
    "for i in range(case_tsne.shape[0]):\n",
    "    plt.text(case_tsne[i, 0], case_tsne[i, 1], str(case_class[i]),\n",
    "                color=plt.cm.Set1(case_class[i]/10.0),\n",
    "                fontdict={'weight': 'bold', 'size': 9})\n",
    "\n",
    "plt.xticks([]), plt.yticks([])\n",
    "plt.title(\"t-SNE: %.2g sec\" % (t1 - t0))"
   ]
  },
  {
   "cell_type": "code",
   "execution_count": null,
   "metadata": {},
   "outputs": [],
   "source": [
    "#TopK n-gram in Each Cluster"
   ]
  },
  {
   "cell_type": "code",
   "execution_count": 187,
   "metadata": {},
   "outputs": [],
   "source": [
    "from nltk import ngrams\n",
    "import operator\n",
    "\n",
    "def topk(X_case, case_class, cluster,k,n):\n",
    "    codes_class=[]\n",
    "    d={}\n",
    "    for i in np.where(case_class==cluster)[0]:\n",
    "        codes_class += list(ngrams(X_case[i],n))\n",
    "    for e in codes_class:\n",
    "        d[e] = d.get(e,0)+1\n",
    "    d2 = {k: v/float(sum(d.values())) for (k,v) in d.items()}\n",
    "\n",
    "    sorted_code = sorted(d2.items(), key=operator.itemgetter(1),reverse=True)\n",
    "\n",
    "    return [x[0] for x in sorted_code[:k]]"
   ]
  },
  {
   "cell_type": "code",
   "execution_count": 190,
   "metadata": {},
   "outputs": [],
   "source": [
    "event_id_dict = dict(zip(all_events.eve_index,all_events.events))"
   ]
  },
  {
   "cell_type": "code",
   "execution_count": 191,
   "metadata": {},
   "outputs": [],
   "source": [
    "def top_grams(event_pairs):\n",
    "    return [tuple(event_id_dict[x] for x in tup) for (i,tup) in enumerate(event_pairs)]"
   ]
  },
  {
   "cell_type": "code",
   "execution_count": 192,
   "metadata": {},
   "outputs": [
    {
     "name": "stdout",
     "output_type": "stream",
     "text": [
      "'cluster:1'\n",
      "[('acetaminophen',),\n",
      " ('sodium chloride 0.9%  flush',),\n",
      " ('docusate sodium',),\n",
      " ('lactated ringers',),\n",
      " ('timetoken366+day',),\n",
      " ('ondansetron',),\n",
      " ('ibuprofen',),\n",
      " ('calcium carbonate',),\n",
      " ('ketorolac',),\n",
      " ('hydromorphone (dilaudid)',)]\n",
      "[('docusate sodium', 'calcium carbonate'),\n",
      " ('calcium carbonate', 'milk of magnesia'),\n",
      " ('milk of magnesia', 'bisacodyl'),\n",
      " ('acetaminophen', 'docusate sodium'),\n",
      " ('lactated ringers', 'simethicone'),\n",
      " ('bisacodyl', 'ibuprofen'),\n",
      " ('acetaminophen', 'ondansetron'),\n",
      " ('ketorolac', 'ketorolac'),\n",
      " ('sodium chloride 0.9%  flush', 'acetaminophen'),\n",
      " ('ondansetron', 'docusate sodium')]\n",
      "[('docusate sodium', 'calcium carbonate', 'milk of magnesia'),\n",
      " ('calcium carbonate', 'milk of magnesia', 'bisacodyl'),\n",
      " ('milk of magnesia', 'bisacodyl', 'ibuprofen'),\n",
      " ('acetaminophen', 'docusate sodium', 'calcium carbonate'),\n",
      " ('acetaminophen', 'ondansetron', 'docusate sodium'),\n",
      " ('ondansetron', 'docusate sodium', 'calcium carbonate'),\n",
      " ('ibuprofen', 'ketorolac', 'ketorolac'),\n",
      " ('bisacodyl', 'ibuprofen', 'ketorolac'),\n",
      " ('sodium chloride 0.9%  flush', 'acetaminophen', 'docusate sodium'),\n",
      " ('metoclopramide', 'acetaminophen', 'ondansetron')]\n",
      "\n",
      "\n",
      "'cluster:2'\n",
      "[('acetaminophen',),\n",
      " ('sodium chloride 0.9%  flush',),\n",
      " ('docusate sodium',),\n",
      " ('lactated ringers',),\n",
      " ('timetoken366+day',),\n",
      " ('ondansetron',),\n",
      " ('milk of magnesia',),\n",
      " ('ketorolac',),\n",
      " ('bisacodyl',),\n",
      " ('insulin',)]\n",
      "[('docusate sodium', 'calcium carbonate'),\n",
      " ('calcium carbonate', 'milk of magnesia'),\n",
      " ('insulin', 'insulin'),\n",
      " ('milk of magnesia', 'bisacodyl'),\n",
      " ('ketorolac', 'ketorolac'),\n",
      " ('acetaminophen', 'ondansetron'),\n",
      " ('bisacodyl', 'ibuprofen'),\n",
      " ('acetaminophen', 'docusate sodium'),\n",
      " ('ondansetron', 'docusate sodium'),\n",
      " ('lactated ringers', 'simethicone')]\n",
      "[('insulin', 'insulin', 'insulin'),\n",
      " ('docusate sodium', 'calcium carbonate', 'milk of magnesia'),\n",
      " ('calcium carbonate', 'milk of magnesia', 'bisacodyl'),\n",
      " ('milk of magnesia', 'bisacodyl', 'ibuprofen'),\n",
      " ('acetaminophen', 'docusate sodium', 'calcium carbonate'),\n",
      " ('acetaminophen', 'ondansetron', 'docusate sodium'),\n",
      " ('ketorolac', 'ketorolac', 'ketorolac'),\n",
      " ('ondansetron', 'docusate sodium', 'calcium carbonate'),\n",
      " ('metoclopramide', 'acetaminophen', 'ondansetron'),\n",
      " ('ibuprofen', 'ketorolac', 'ketorolac')]\n",
      "\n",
      "\n",
      "'cluster:3'\n",
      "[('acetaminophen',),\n",
      " ('timetoken366+day',),\n",
      " ('sodium chloride 0.9%  flush',),\n",
      " ('ibuprofen',),\n",
      " ('docusate sodium',),\n",
      " ('bisacodyl',),\n",
      " ('simethicone',),\n",
      " ('milk of magnesia',),\n",
      " ('calcium carbonate',),\n",
      " ('ketorolac',)]\n",
      "[('docusate sodium', 'calcium carbonate'),\n",
      " ('milk of magnesia', 'bisacodyl'),\n",
      " ('calcium carbonate', 'milk of magnesia'),\n",
      " ('acetaminophen', 'docusate sodium'),\n",
      " ('ketorolac', 'ketorolac'),\n",
      " ('bisacodyl', 'ibuprofen'),\n",
      " ('lactated ringers', 'simethicone'),\n",
      " ('tetanus-diphtox-acellular pertuss (adacel)', 'timetoken366+day'),\n",
      " ('sodium chloride 0.9%  flush', 'acetaminophen'),\n",
      " ('ibuprofen', 'lactated ringers')]\n",
      "[('docusate sodium', 'calcium carbonate', 'milk of magnesia'),\n",
      " ('calcium carbonate', 'milk of magnesia', 'bisacodyl'),\n",
      " ('acetaminophen', 'docusate sodium', 'calcium carbonate'),\n",
      " ('milk of magnesia', 'bisacodyl', 'ibuprofen'),\n",
      " ('milk of magnesia', 'bisacodyl', 'codeine sulfate'),\n",
      " ('bisacodyl', 'codeine sulfate', 'ibuprofen'),\n",
      " ('ketorolac', 'ketorolac', 'ketorolac'),\n",
      " ('ondansetron', 'docusate sodium', 'calcium carbonate'),\n",
      " ('oxycodone-acetaminophen (5mg-325mg)',\n",
      "  'dibucaine',\n",
      "  'tetanus-diphtox-acellular pertuss (adacel)'),\n",
      " ('ibuprofen', 'lactated ringers', 'simethicone')]\n",
      "\n",
      "\n"
     ]
    }
   ],
   "source": [
    "import pprint\n",
    "pp = pprint.PrettyPrinter()\n",
    "for c in range(1,4):\n",
    "    pp.pprint('cluster:' + str(c))\n",
    "    onegram = topk(X_case,case_class,c,10,1)\n",
    "    twogram = topk(X_case,case_class,c,10,2)\n",
    "    threegram = topk(X_case,case_class,c,10,3)\n",
    "    pp.pprint(top_grams(onegram))\n",
    "    pp.pprint(top_grams(twogram))\n",
    "    pp.pprint(top_grams(threegram))\n",
    "    print(\"\")\n",
    "    print(\"\")"
   ]
  },
  {
   "cell_type": "code",
   "execution_count": 193,
   "metadata": {},
   "outputs": [],
   "source": [
    "#model2 = Model(inputs = input_events_r,outputs = x_2_r)\n",
    "model2 = Model(inputs = input_events,outputs = x_2)\n",
    "model3 = Model(inputs = input_events,outputs = x_3)\n",
    "model4 = Model(inputs = input_events,outputs = x_4)"
   ]
  },
  {
   "cell_type": "code",
   "execution_count": 194,
   "metadata": {},
   "outputs": [
    {
     "name": "stdout",
     "output_type": "stream",
     "text": [
      "14/14 [==============================] - 0s 10ms/step\n"
     ]
    },
    {
     "data": {
      "text/plain": [
       "(438, 841, 4)"
      ]
     },
     "execution_count": 194,
     "metadata": {},
     "output_type": "execute_result"
    }
   ],
   "source": [
    "model2.predict(X).shape"
   ]
  },
  {
   "cell_type": "code",
   "execution_count": 197,
   "metadata": {},
   "outputs": [
    {
     "name": "stdout",
     "output_type": "stream",
     "text": [
      "14/14 [==============================] - 0s 9ms/step\n",
      "14/14 [==============================] - 0s 10ms/step\n",
      "14/14 [==============================] - 0s 11ms/step\n"
     ]
    }
   ],
   "source": [
    "#the temperal dimention of output size is max_events - n \n",
    "patient_feature_weights2 = model2.predict(X).reshape(4, 438, 841)\n",
    "patient_feature_weights3 = model3.predict(X).reshape(4, 438, 840)\n",
    "patient_feature_weights4 = model4.predict(X).reshape(4, 438, 839)"
   ]
  },
  {
   "cell_type": "code",
   "execution_count": 202,
   "metadata": {},
   "outputs": [],
   "source": [
    "def get_top_events(filter_output, top_num = 500, filter_size = 2):\n",
    "    top = filter_output.flatten().argsort()[-top_num:]\n",
    "    \n",
    "    top_feature_med = []\n",
    "    top_feature_diag = []\n",
    "    top_feature_proc = []\n",
    "    \n",
    "    event_width = filter_output.shape[1]\n",
    "    for idx in top:\n",
    "        patient_idx = int(np.floor(idx/event_width))\n",
    "        event_idx =  idx%event_width\n",
    "        real_patient_id = all_patients_shuffle[patient_idx]\n",
    "        real_event_id = X[patient_idx,event_idx:event_idx+2]\n",
    "        if np.sum(real_event_id) !=0:\n",
    "            for eve in real_event_id:\n",
    "                if eve >= 1612:\n",
    "                    top_feature_med.append(eve)\n",
    "                elif eve < 1612 and eve >= 944:\n",
    "                    top_feature_proc.append(eve)\n",
    "                elif eve < 944 and eve > 0:\n",
    "                    top_feature_diag.append(eve)\n",
    "                \n",
    "    top_counts_med = pd.Series(top_feature_med).value_counts()\n",
    "    top_counts_diag = pd.Series(top_feature_diag).value_counts()\n",
    "    top_counts_proc = pd.Series(top_feature_proc).value_counts()\n",
    "    \n",
    "    top_counts_med = pd.DataFrame({\"index\": top_counts_med.index, \"counts\":top_counts_med})\n",
    "    top_counts_diag = pd.DataFrame({\"index\": top_counts_diag.index, \"counts\":top_counts_diag})\n",
    "    top_counts_proc = pd.DataFrame({\"index\": top_counts_proc.index, \"counts\":top_counts_proc})\n",
    "    \n",
    "    return top_counts_med, top_counts_diag, top_counts_proc"
   ]
  },
  {
   "cell_type": "code",
   "execution_count": 203,
   "metadata": {},
   "outputs": [
    {
     "name": "stderr",
     "output_type": "stream",
     "text": [
      "/opt/anaconda3/lib/python3.7/site-packages/ipykernel_launcher.py:25: DeprecationWarning: The default dtype for empty Series will be 'object' instead of 'float64' in a future version. Specify a dtype explicitly to silence this warning.\n"
     ]
    }
   ],
   "source": [
    "eve_list_med = []\n",
    "eve_list_diag = []\n",
    "eve_list_proc = []\n",
    "for i in range(4):\n",
    "    te2_med, te2_diag, te2_proc = get_top_events(patient_feature_weights2[i])\n",
    "    te3_med, te3_diag, te3_proc = get_top_events(patient_feature_weights3[i])\n",
    "    te4_med, te4_diag, te4_proc = get_top_events(patient_feature_weights4[i])\n",
    "    \n",
    "    eve_list_med.append(te2_med)\n",
    "    eve_list_med.append(te3_med)\n",
    "    eve_list_med.append(te4_med)\n",
    "    \n",
    "    eve_list_diag.append(te2_diag)\n",
    "    eve_list_diag.append(te3_diag)\n",
    "    eve_list_diag.append(te4_diag)\n",
    "    \n",
    "    eve_list_proc.append(te2_proc)\n",
    "    eve_list_proc.append(te3_proc)\n",
    "    eve_list_proc.append(te4_proc)"
   ]
  },
  {
   "cell_type": "code",
   "execution_count": 204,
   "metadata": {},
   "outputs": [
    {
     "ename": "KeyError",
     "evalue": "10",
     "output_type": "error",
     "traceback": [
      "\u001b[0;31m---------------------------------------------------------------------------\u001b[0m",
      "\u001b[0;31mKeyError\u001b[0m                                  Traceback (most recent call last)",
      "\u001b[0;32m/opt/anaconda3/lib/python3.7/site-packages/pandas/core/indexes/base.py\u001b[0m in \u001b[0;36mget_loc\u001b[0;34m(self, key, method, tolerance)\u001b[0m\n\u001b[1;32m   3079\u001b[0m             \u001b[0;32mtry\u001b[0m\u001b[0;34m:\u001b[0m\u001b[0;34m\u001b[0m\u001b[0;34m\u001b[0m\u001b[0m\n\u001b[0;32m-> 3080\u001b[0;31m                 \u001b[0;32mreturn\u001b[0m \u001b[0mself\u001b[0m\u001b[0;34m.\u001b[0m\u001b[0m_engine\u001b[0m\u001b[0;34m.\u001b[0m\u001b[0mget_loc\u001b[0m\u001b[0;34m(\u001b[0m\u001b[0mcasted_key\u001b[0m\u001b[0;34m)\u001b[0m\u001b[0;34m\u001b[0m\u001b[0;34m\u001b[0m\u001b[0m\n\u001b[0m\u001b[1;32m   3081\u001b[0m             \u001b[0;32mexcept\u001b[0m \u001b[0mKeyError\u001b[0m \u001b[0;32mas\u001b[0m \u001b[0merr\u001b[0m\u001b[0;34m:\u001b[0m\u001b[0;34m\u001b[0m\u001b[0;34m\u001b[0m\u001b[0m\n",
      "\u001b[0;32mpandas/_libs/index.pyx\u001b[0m in \u001b[0;36mpandas._libs.index.IndexEngine.get_loc\u001b[0;34m()\u001b[0m\n",
      "\u001b[0;32mpandas/_libs/index.pyx\u001b[0m in \u001b[0;36mpandas._libs.index.IndexEngine.get_loc\u001b[0;34m()\u001b[0m\n",
      "\u001b[0;32mpandas/_libs/hashtable_class_helper.pxi\u001b[0m in \u001b[0;36mpandas._libs.hashtable.Float64HashTable.get_item\u001b[0;34m()\u001b[0m\n",
      "\u001b[0;32mpandas/_libs/hashtable_class_helper.pxi\u001b[0m in \u001b[0;36mpandas._libs.hashtable.Float64HashTable.get_item\u001b[0;34m()\u001b[0m\n",
      "\u001b[0;31mKeyError\u001b[0m: 10.0",
      "\nThe above exception was the direct cause of the following exception:\n",
      "\u001b[0;31mKeyError\u001b[0m                                  Traceback (most recent call last)",
      "\u001b[0;32m<ipython-input-204-8fbf86626e1d>\u001b[0m in \u001b[0;36m<module>\u001b[0;34m\u001b[0m\n\u001b[1;32m      2\u001b[0m \u001b[0mfinal_top_diag\u001b[0m \u001b[0;34m=\u001b[0m \u001b[0meve_counts_d\u001b[0m\u001b[0;34m.\u001b[0m\u001b[0mmerge\u001b[0m\u001b[0;34m(\u001b[0m\u001b[0mall_events\u001b[0m\u001b[0;34m,\u001b[0m \u001b[0mhow\u001b[0m \u001b[0;34m=\u001b[0m \u001b[0;34m\"left\"\u001b[0m\u001b[0;34m,\u001b[0m \u001b[0mleft_index\u001b[0m \u001b[0;34m=\u001b[0m \u001b[0;32mTrue\u001b[0m\u001b[0;34m,\u001b[0m \u001b[0mright_on\u001b[0m \u001b[0;34m=\u001b[0m \u001b[0;34m\"eve_index\"\u001b[0m\u001b[0;34m)\u001b[0m\u001b[0;34m\u001b[0m\u001b[0;34m\u001b[0m\u001b[0m\n\u001b[1;32m      3\u001b[0m \u001b[0;34m\u001b[0m\u001b[0m\n\u001b[0;32m----> 4\u001b[0;31m \u001b[0meve_counts_p\u001b[0m \u001b[0;34m=\u001b[0m \u001b[0mpd\u001b[0m\u001b[0;34m.\u001b[0m\u001b[0mconcat\u001b[0m\u001b[0;34m(\u001b[0m\u001b[0meve_list_proc\u001b[0m\u001b[0;34m,\u001b[0m \u001b[0maxis\u001b[0m \u001b[0;34m=\u001b[0m \u001b[0;36m0\u001b[0m\u001b[0;34m)\u001b[0m\u001b[0;34m.\u001b[0m\u001b[0mgroupby\u001b[0m\u001b[0;34m(\u001b[0m\u001b[0;34m\"index\"\u001b[0m\u001b[0;34m)\u001b[0m\u001b[0;34m.\u001b[0m\u001b[0msum\u001b[0m\u001b[0;34m(\u001b[0m\u001b[0;34m)\u001b[0m\u001b[0;34m.\u001b[0m\u001b[0msort_values\u001b[0m\u001b[0;34m(\u001b[0m\u001b[0mby\u001b[0m \u001b[0;34m=\u001b[0m \u001b[0;34m\"counts\"\u001b[0m\u001b[0;34m,\u001b[0m \u001b[0mascending\u001b[0m \u001b[0;34m=\u001b[0m \u001b[0;32mFalse\u001b[0m\u001b[0;34m)\u001b[0m\u001b[0;34m[\u001b[0m\u001b[0;34m:\u001b[0m\u001b[0;36m10\u001b[0m\u001b[0;34m]\u001b[0m\u001b[0;34m\u001b[0m\u001b[0;34m\u001b[0m\u001b[0m\n\u001b[0m\u001b[1;32m      5\u001b[0m \u001b[0mfinal_top_proc\u001b[0m \u001b[0;34m=\u001b[0m \u001b[0meve_counts_p\u001b[0m\u001b[0;34m.\u001b[0m\u001b[0mmerge\u001b[0m\u001b[0;34m(\u001b[0m\u001b[0mall_events\u001b[0m\u001b[0;34m,\u001b[0m \u001b[0mhow\u001b[0m \u001b[0;34m=\u001b[0m \u001b[0;34m\"left\"\u001b[0m\u001b[0;34m,\u001b[0m \u001b[0mleft_index\u001b[0m \u001b[0;34m=\u001b[0m \u001b[0;32mTrue\u001b[0m\u001b[0;34m,\u001b[0m \u001b[0mright_on\u001b[0m \u001b[0;34m=\u001b[0m \u001b[0;34m\"eve_index\"\u001b[0m\u001b[0;34m)\u001b[0m\u001b[0;34m\u001b[0m\u001b[0;34m\u001b[0m\u001b[0m\n\u001b[1;32m      6\u001b[0m \u001b[0;34m\u001b[0m\u001b[0m\n",
      "\u001b[0;32m/opt/anaconda3/lib/python3.7/site-packages/pandas/core/frame.py\u001b[0m in \u001b[0;36m__getitem__\u001b[0;34m(self, key)\u001b[0m\n\u001b[1;32m   2997\u001b[0m \u001b[0;34m\u001b[0m\u001b[0m\n\u001b[1;32m   2998\u001b[0m         \u001b[0;31m# Do we have a slicer (on rows)?\u001b[0m\u001b[0;34m\u001b[0m\u001b[0;34m\u001b[0m\u001b[0;34m\u001b[0m\u001b[0m\n\u001b[0;32m-> 2999\u001b[0;31m         \u001b[0mindexer\u001b[0m \u001b[0;34m=\u001b[0m \u001b[0mconvert_to_index_sliceable\u001b[0m\u001b[0;34m(\u001b[0m\u001b[0mself\u001b[0m\u001b[0;34m,\u001b[0m \u001b[0mkey\u001b[0m\u001b[0;34m)\u001b[0m\u001b[0;34m\u001b[0m\u001b[0;34m\u001b[0m\u001b[0m\n\u001b[0m\u001b[1;32m   3000\u001b[0m         \u001b[0;32mif\u001b[0m \u001b[0mindexer\u001b[0m \u001b[0;32mis\u001b[0m \u001b[0;32mnot\u001b[0m \u001b[0;32mNone\u001b[0m\u001b[0;34m:\u001b[0m\u001b[0;34m\u001b[0m\u001b[0;34m\u001b[0m\u001b[0m\n\u001b[1;32m   3001\u001b[0m             \u001b[0;32mif\u001b[0m \u001b[0misinstance\u001b[0m\u001b[0;34m(\u001b[0m\u001b[0mindexer\u001b[0m\u001b[0;34m,\u001b[0m \u001b[0mnp\u001b[0m\u001b[0;34m.\u001b[0m\u001b[0mndarray\u001b[0m\u001b[0;34m)\u001b[0m\u001b[0;34m:\u001b[0m\u001b[0;34m\u001b[0m\u001b[0;34m\u001b[0m\u001b[0m\n",
      "\u001b[0;32m/opt/anaconda3/lib/python3.7/site-packages/pandas/core/indexing.py\u001b[0m in \u001b[0;36mconvert_to_index_sliceable\u001b[0;34m(obj, key)\u001b[0m\n\u001b[1;32m   2208\u001b[0m     \u001b[0midx\u001b[0m \u001b[0;34m=\u001b[0m \u001b[0mobj\u001b[0m\u001b[0;34m.\u001b[0m\u001b[0mindex\u001b[0m\u001b[0;34m\u001b[0m\u001b[0;34m\u001b[0m\u001b[0m\n\u001b[1;32m   2209\u001b[0m     \u001b[0;32mif\u001b[0m \u001b[0misinstance\u001b[0m\u001b[0;34m(\u001b[0m\u001b[0mkey\u001b[0m\u001b[0;34m,\u001b[0m \u001b[0mslice\u001b[0m\u001b[0;34m)\u001b[0m\u001b[0;34m:\u001b[0m\u001b[0;34m\u001b[0m\u001b[0;34m\u001b[0m\u001b[0m\n\u001b[0;32m-> 2210\u001b[0;31m         \u001b[0;32mreturn\u001b[0m \u001b[0midx\u001b[0m\u001b[0;34m.\u001b[0m\u001b[0m_convert_slice_indexer\u001b[0m\u001b[0;34m(\u001b[0m\u001b[0mkey\u001b[0m\u001b[0;34m,\u001b[0m \u001b[0mkind\u001b[0m\u001b[0;34m=\u001b[0m\u001b[0;34m\"getitem\"\u001b[0m\u001b[0;34m)\u001b[0m\u001b[0;34m\u001b[0m\u001b[0;34m\u001b[0m\u001b[0m\n\u001b[0m\u001b[1;32m   2211\u001b[0m \u001b[0;34m\u001b[0m\u001b[0m\n\u001b[1;32m   2212\u001b[0m     \u001b[0;32melif\u001b[0m \u001b[0misinstance\u001b[0m\u001b[0;34m(\u001b[0m\u001b[0mkey\u001b[0m\u001b[0;34m,\u001b[0m \u001b[0mstr\u001b[0m\u001b[0;34m)\u001b[0m\u001b[0;34m:\u001b[0m\u001b[0;34m\u001b[0m\u001b[0;34m\u001b[0m\u001b[0m\n",
      "\u001b[0;32m/opt/anaconda3/lib/python3.7/site-packages/pandas/core/indexes/numeric.py\u001b[0m in \u001b[0;36m_convert_slice_indexer\u001b[0;34m(self, key, kind)\u001b[0m\n\u001b[1;32m    377\u001b[0m         \u001b[0;31m# We always treat __getitem__ slicing as label-based\u001b[0m\u001b[0;34m\u001b[0m\u001b[0;34m\u001b[0m\u001b[0;34m\u001b[0m\u001b[0m\n\u001b[1;32m    378\u001b[0m         \u001b[0;31m# translate to locations\u001b[0m\u001b[0;34m\u001b[0m\u001b[0;34m\u001b[0m\u001b[0;34m\u001b[0m\u001b[0m\n\u001b[0;32m--> 379\u001b[0;31m         \u001b[0;32mreturn\u001b[0m \u001b[0mself\u001b[0m\u001b[0;34m.\u001b[0m\u001b[0mslice_indexer\u001b[0m\u001b[0;34m(\u001b[0m\u001b[0mkey\u001b[0m\u001b[0;34m.\u001b[0m\u001b[0mstart\u001b[0m\u001b[0;34m,\u001b[0m \u001b[0mkey\u001b[0m\u001b[0;34m.\u001b[0m\u001b[0mstop\u001b[0m\u001b[0;34m,\u001b[0m \u001b[0mkey\u001b[0m\u001b[0;34m.\u001b[0m\u001b[0mstep\u001b[0m\u001b[0;34m,\u001b[0m \u001b[0mkind\u001b[0m\u001b[0;34m=\u001b[0m\u001b[0mkind\u001b[0m\u001b[0;34m)\u001b[0m\u001b[0;34m\u001b[0m\u001b[0;34m\u001b[0m\u001b[0m\n\u001b[0m\u001b[1;32m    380\u001b[0m \u001b[0;34m\u001b[0m\u001b[0m\n\u001b[1;32m    381\u001b[0m     \u001b[0;34m@\u001b[0m\u001b[0mdoc\u001b[0m\u001b[0;34m(\u001b[0m\u001b[0mIndex\u001b[0m\u001b[0;34m.\u001b[0m\u001b[0mget_loc\u001b[0m\u001b[0;34m)\u001b[0m\u001b[0;34m\u001b[0m\u001b[0;34m\u001b[0m\u001b[0m\n",
      "\u001b[0;32m/opt/anaconda3/lib/python3.7/site-packages/pandas/core/indexes/base.py\u001b[0m in \u001b[0;36mslice_indexer\u001b[0;34m(self, start, end, step, kind)\u001b[0m\n\u001b[1;32m   5275\u001b[0m         \u001b[0mslice\u001b[0m\u001b[0;34m(\u001b[0m\u001b[0;36m1\u001b[0m\u001b[0;34m,\u001b[0m \u001b[0;36m3\u001b[0m\u001b[0;34m,\u001b[0m \u001b[0;32mNone\u001b[0m\u001b[0;34m)\u001b[0m\u001b[0;34m\u001b[0m\u001b[0;34m\u001b[0m\u001b[0m\n\u001b[1;32m   5276\u001b[0m         \"\"\"\n\u001b[0;32m-> 5277\u001b[0;31m         \u001b[0mstart_slice\u001b[0m\u001b[0;34m,\u001b[0m \u001b[0mend_slice\u001b[0m \u001b[0;34m=\u001b[0m \u001b[0mself\u001b[0m\u001b[0;34m.\u001b[0m\u001b[0mslice_locs\u001b[0m\u001b[0;34m(\u001b[0m\u001b[0mstart\u001b[0m\u001b[0;34m,\u001b[0m \u001b[0mend\u001b[0m\u001b[0;34m,\u001b[0m \u001b[0mstep\u001b[0m\u001b[0;34m=\u001b[0m\u001b[0mstep\u001b[0m\u001b[0;34m,\u001b[0m \u001b[0mkind\u001b[0m\u001b[0;34m=\u001b[0m\u001b[0mkind\u001b[0m\u001b[0;34m)\u001b[0m\u001b[0;34m\u001b[0m\u001b[0;34m\u001b[0m\u001b[0m\n\u001b[0m\u001b[1;32m   5278\u001b[0m \u001b[0;34m\u001b[0m\u001b[0m\n\u001b[1;32m   5279\u001b[0m         \u001b[0;31m# return a slice\u001b[0m\u001b[0;34m\u001b[0m\u001b[0;34m\u001b[0m\u001b[0;34m\u001b[0m\u001b[0m\n",
      "\u001b[0;32m/opt/anaconda3/lib/python3.7/site-packages/pandas/core/indexes/base.py\u001b[0m in \u001b[0;36mslice_locs\u001b[0;34m(self, start, end, step, kind)\u001b[0m\n\u001b[1;32m   5480\u001b[0m         \u001b[0mend_slice\u001b[0m \u001b[0;34m=\u001b[0m \u001b[0;32mNone\u001b[0m\u001b[0;34m\u001b[0m\u001b[0;34m\u001b[0m\u001b[0m\n\u001b[1;32m   5481\u001b[0m         \u001b[0;32mif\u001b[0m \u001b[0mend\u001b[0m \u001b[0;32mis\u001b[0m \u001b[0;32mnot\u001b[0m \u001b[0;32mNone\u001b[0m\u001b[0;34m:\u001b[0m\u001b[0;34m\u001b[0m\u001b[0;34m\u001b[0m\u001b[0m\n\u001b[0;32m-> 5482\u001b[0;31m             \u001b[0mend_slice\u001b[0m \u001b[0;34m=\u001b[0m \u001b[0mself\u001b[0m\u001b[0;34m.\u001b[0m\u001b[0mget_slice_bound\u001b[0m\u001b[0;34m(\u001b[0m\u001b[0mend\u001b[0m\u001b[0;34m,\u001b[0m \u001b[0;34m\"right\"\u001b[0m\u001b[0;34m,\u001b[0m \u001b[0mkind\u001b[0m\u001b[0;34m)\u001b[0m\u001b[0;34m\u001b[0m\u001b[0;34m\u001b[0m\u001b[0m\n\u001b[0m\u001b[1;32m   5483\u001b[0m         \u001b[0;32mif\u001b[0m \u001b[0mend_slice\u001b[0m \u001b[0;32mis\u001b[0m \u001b[0;32mNone\u001b[0m\u001b[0;34m:\u001b[0m\u001b[0;34m\u001b[0m\u001b[0;34m\u001b[0m\u001b[0m\n\u001b[1;32m   5484\u001b[0m             \u001b[0mend_slice\u001b[0m \u001b[0;34m=\u001b[0m \u001b[0mlen\u001b[0m\u001b[0;34m(\u001b[0m\u001b[0mself\u001b[0m\u001b[0;34m)\u001b[0m\u001b[0;34m\u001b[0m\u001b[0;34m\u001b[0m\u001b[0m\n",
      "\u001b[0;32m/opt/anaconda3/lib/python3.7/site-packages/pandas/core/indexes/base.py\u001b[0m in \u001b[0;36mget_slice_bound\u001b[0;34m(self, label, side, kind)\u001b[0m\n\u001b[1;32m   5394\u001b[0m             \u001b[0;32mexcept\u001b[0m \u001b[0mValueError\u001b[0m\u001b[0;34m:\u001b[0m\u001b[0;34m\u001b[0m\u001b[0;34m\u001b[0m\u001b[0m\n\u001b[1;32m   5395\u001b[0m                 \u001b[0;31m# raise the original KeyError\u001b[0m\u001b[0;34m\u001b[0m\u001b[0;34m\u001b[0m\u001b[0;34m\u001b[0m\u001b[0m\n\u001b[0;32m-> 5396\u001b[0;31m                 \u001b[0;32mraise\u001b[0m \u001b[0merr\u001b[0m\u001b[0;34m\u001b[0m\u001b[0;34m\u001b[0m\u001b[0m\n\u001b[0m\u001b[1;32m   5397\u001b[0m \u001b[0;34m\u001b[0m\u001b[0m\n\u001b[1;32m   5398\u001b[0m         \u001b[0;32mif\u001b[0m \u001b[0misinstance\u001b[0m\u001b[0;34m(\u001b[0m\u001b[0mslc\u001b[0m\u001b[0;34m,\u001b[0m \u001b[0mnp\u001b[0m\u001b[0;34m.\u001b[0m\u001b[0mndarray\u001b[0m\u001b[0;34m)\u001b[0m\u001b[0;34m:\u001b[0m\u001b[0;34m\u001b[0m\u001b[0;34m\u001b[0m\u001b[0m\n",
      "\u001b[0;32m/opt/anaconda3/lib/python3.7/site-packages/pandas/core/indexes/base.py\u001b[0m in \u001b[0;36mget_slice_bound\u001b[0;34m(self, label, side, kind)\u001b[0m\n\u001b[1;32m   5388\u001b[0m         \u001b[0;31m# we need to look up the label\u001b[0m\u001b[0;34m\u001b[0m\u001b[0;34m\u001b[0m\u001b[0;34m\u001b[0m\u001b[0m\n\u001b[1;32m   5389\u001b[0m         \u001b[0;32mtry\u001b[0m\u001b[0;34m:\u001b[0m\u001b[0;34m\u001b[0m\u001b[0;34m\u001b[0m\u001b[0m\n\u001b[0;32m-> 5390\u001b[0;31m             \u001b[0mslc\u001b[0m \u001b[0;34m=\u001b[0m \u001b[0mself\u001b[0m\u001b[0;34m.\u001b[0m\u001b[0mget_loc\u001b[0m\u001b[0;34m(\u001b[0m\u001b[0mlabel\u001b[0m\u001b[0;34m)\u001b[0m\u001b[0;34m\u001b[0m\u001b[0;34m\u001b[0m\u001b[0m\n\u001b[0m\u001b[1;32m   5391\u001b[0m         \u001b[0;32mexcept\u001b[0m \u001b[0mKeyError\u001b[0m \u001b[0;32mas\u001b[0m \u001b[0merr\u001b[0m\u001b[0;34m:\u001b[0m\u001b[0;34m\u001b[0m\u001b[0;34m\u001b[0m\u001b[0m\n\u001b[1;32m   5392\u001b[0m             \u001b[0;32mtry\u001b[0m\u001b[0;34m:\u001b[0m\u001b[0;34m\u001b[0m\u001b[0;34m\u001b[0m\u001b[0m\n",
      "\u001b[0;32m/opt/anaconda3/lib/python3.7/site-packages/pandas/core/indexes/numeric.py\u001b[0m in \u001b[0;36mget_loc\u001b[0;34m(self, key, method, tolerance)\u001b[0m\n\u001b[1;32m    393\u001b[0m             \u001b[0;32mreturn\u001b[0m \u001b[0mnan_idxs\u001b[0m\u001b[0;34m\u001b[0m\u001b[0;34m\u001b[0m\u001b[0m\n\u001b[1;32m    394\u001b[0m \u001b[0;34m\u001b[0m\u001b[0m\n\u001b[0;32m--> 395\u001b[0;31m         \u001b[0;32mreturn\u001b[0m \u001b[0msuper\u001b[0m\u001b[0;34m(\u001b[0m\u001b[0;34m)\u001b[0m\u001b[0;34m.\u001b[0m\u001b[0mget_loc\u001b[0m\u001b[0;34m(\u001b[0m\u001b[0mkey\u001b[0m\u001b[0;34m,\u001b[0m \u001b[0mmethod\u001b[0m\u001b[0;34m=\u001b[0m\u001b[0mmethod\u001b[0m\u001b[0;34m,\u001b[0m \u001b[0mtolerance\u001b[0m\u001b[0;34m=\u001b[0m\u001b[0mtolerance\u001b[0m\u001b[0;34m)\u001b[0m\u001b[0;34m\u001b[0m\u001b[0;34m\u001b[0m\u001b[0m\n\u001b[0m\u001b[1;32m    396\u001b[0m \u001b[0;34m\u001b[0m\u001b[0m\n\u001b[1;32m    397\u001b[0m     \u001b[0;31m# ----------------------------------------------------------------\u001b[0m\u001b[0;34m\u001b[0m\u001b[0;34m\u001b[0m\u001b[0;34m\u001b[0m\u001b[0m\n",
      "\u001b[0;32m/opt/anaconda3/lib/python3.7/site-packages/pandas/core/indexes/base.py\u001b[0m in \u001b[0;36mget_loc\u001b[0;34m(self, key, method, tolerance)\u001b[0m\n\u001b[1;32m   3080\u001b[0m                 \u001b[0;32mreturn\u001b[0m \u001b[0mself\u001b[0m\u001b[0;34m.\u001b[0m\u001b[0m_engine\u001b[0m\u001b[0;34m.\u001b[0m\u001b[0mget_loc\u001b[0m\u001b[0;34m(\u001b[0m\u001b[0mcasted_key\u001b[0m\u001b[0;34m)\u001b[0m\u001b[0;34m\u001b[0m\u001b[0;34m\u001b[0m\u001b[0m\n\u001b[1;32m   3081\u001b[0m             \u001b[0;32mexcept\u001b[0m \u001b[0mKeyError\u001b[0m \u001b[0;32mas\u001b[0m \u001b[0merr\u001b[0m\u001b[0;34m:\u001b[0m\u001b[0;34m\u001b[0m\u001b[0;34m\u001b[0m\u001b[0m\n\u001b[0;32m-> 3082\u001b[0;31m                 \u001b[0;32mraise\u001b[0m \u001b[0mKeyError\u001b[0m\u001b[0;34m(\u001b[0m\u001b[0mkey\u001b[0m\u001b[0;34m)\u001b[0m \u001b[0;32mfrom\u001b[0m \u001b[0merr\u001b[0m\u001b[0;34m\u001b[0m\u001b[0;34m\u001b[0m\u001b[0m\n\u001b[0m\u001b[1;32m   3083\u001b[0m \u001b[0;34m\u001b[0m\u001b[0m\n\u001b[1;32m   3084\u001b[0m         \u001b[0;32mif\u001b[0m \u001b[0mtolerance\u001b[0m \u001b[0;32mis\u001b[0m \u001b[0;32mnot\u001b[0m \u001b[0;32mNone\u001b[0m\u001b[0;34m:\u001b[0m\u001b[0;34m\u001b[0m\u001b[0;34m\u001b[0m\u001b[0m\n",
      "\u001b[0;31mKeyError\u001b[0m: 10"
     ]
    }
   ],
   "source": [
    "eve_counts_d = pd.concat(eve_list_diag, axis = 0).groupby(\"index\").sum().sort_values(by = \"counts\", ascending = False)[:10]\n",
    "final_top_diag = eve_counts_d.merge(all_events, how = \"left\", left_index = True, right_on = \"eve_index\")\n",
    "\n",
    "eve_counts_p = pd.concat(eve_list_proc, axis = 0).groupby(\"index\").sum().sort_values(by = \"counts\", ascending = False)[:10]\n",
    "final_top_proc = eve_counts_p.merge(all_events, how = \"left\", left_index = True, right_on = \"eve_index\")\n",
    "\n",
    "eve_counts_m = pd.concat(eve_list_med, axis = 0).groupby(\"index\").sum().sort_values(by = \"counts\", ascending = False)[:10]\n",
    "final_top_med = eve_counts_m.merge(all_events, how = \"left\", left_index = True, right_on = \"eve_index\")"
   ]
  },
  {
   "cell_type": "code",
   "execution_count": null,
   "metadata": {},
   "outputs": [],
   "source": []
  }
 ],
 "metadata": {
  "kernelspec": {
   "display_name": "Python 3 (ipykernel)",
   "language": "python",
   "name": "python3"
  },
  "language_info": {
   "codemirror_mode": {
    "name": "ipython",
    "version": 3
   },
   "file_extension": ".py",
   "mimetype": "text/x-python",
   "name": "python",
   "nbconvert_exporter": "python",
   "pygments_lexer": "ipython3",
   "version": "3.9.7"
  }
 },
 "nbformat": 4,
 "nbformat_minor": 2
}
