{
 "cells": [
  {
   "cell_type": "code",
   "execution_count": null,
   "id": "d652178a",
   "metadata": {},
   "outputs": [],
   "source": [
    "# Word2vec model code learn form these blog\n",
    "\n",
    "# https://www.analyticsvidhya.com/blog/2021/07/word2vec-for-word-embeddings-a-beginners-guide/\n",
    "# https://www.tensorflow.org/tutorials/text/word2vec\n",
    "# https://radimrehurek.com/gensim/models/word2vec.html\n",
    "# https://github.com/harmanpreet93/train-word2vec/blob/master/train-word2vec.ipynb\n"
   ]
  },
  {
   "cell_type": "code",
   "execution_count": 1,
   "id": "a9daeadb",
   "metadata": {},
   "outputs": [],
   "source": [
    "import numpy as np\n",
    "import pandas as pd\n",
    "import matplotlib as plt\n",
    "%matplotlib inline"
   ]
  },
  {
   "cell_type": "code",
   "execution_count": 2,
   "id": "3066f7f7",
   "metadata": {},
   "outputs": [],
   "source": [
    "#pip install -U gensim"
   ]
  },
  {
   "cell_type": "code",
   "execution_count": 3,
   "id": "fb2b465a",
   "metadata": {},
   "outputs": [],
   "source": [
    "from gensim.models import word2vec"
   ]
  },
  {
   "cell_type": "code",
   "execution_count": 4,
   "id": "8aa7aa1a",
   "metadata": {},
   "outputs": [],
   "source": [
    "with_time = True\n",
    "if not with_time:\n",
    "    corpus = pd.read_csv(\"../cleaned_data/all_events_data_mv.csv\", dtype = str)\n",
    "    corpus_2 = pd.read_csv(\"../cleaned_data/all_events_data.csv\", dtype = str)\n",
    "else:\n",
    "    corpus = pd.read_csv(\"../cleaned_data/all_events_data_w_time_mv.csv\", dtype = str)\n",
    "    corpus_2 = pd.read_csv(\"../cleaned_data/all_events_data_w_time.csv\", dtype = str)"
   ]
  },
  {
   "cell_type": "code",
   "execution_count": 5,
   "id": "5d91d507",
   "metadata": {},
   "outputs": [],
   "source": [
    "#transfrom it to sentences format\n",
    "a = corpus.groupby(\"subject_id\").apply(lambda x: x.eve_index.tolist())"
   ]
  },
  {
   "cell_type": "code",
   "execution_count": 6,
   "id": "dfd62548",
   "metadata": {},
   "outputs": [],
   "source": [
    "a_2 = corpus_2.groupby(\"subject_id\").apply(lambda x: x.eve_index.tolist())"
   ]
  },
  {
   "cell_type": "code",
   "execution_count": 7,
   "id": "04e9a707",
   "metadata": {},
   "outputs": [],
   "source": [
    "sentence_list = a.values.tolist()\n",
    "sentence_list2 = a_2.values.tolist()"
   ]
  },
  {
   "cell_type": "code",
   "execution_count": 8,
   "id": "669fb5d3",
   "metadata": {},
   "outputs": [],
   "source": [
    "model = word2vec.Word2Vec(sentence_list, vector_size=100, window=20, min_count=1, workers=2,sg=1)"
   ]
  },
  {
   "cell_type": "code",
   "execution_count": 9,
   "id": "88b07ebb",
   "metadata": {},
   "outputs": [],
   "source": [
    "if not with_time:\n",
    "    model.save(\"../word2vec_model/w2vmodel_mv\")\n",
    "else:\n",
    "    model.save(\"../word2vec_model/w2vmodel_mv_wt\")"
   ]
  },
  {
   "cell_type": "code",
   "execution_count": 10,
   "id": "1884fcb2",
   "metadata": {},
   "outputs": [],
   "source": [
    "model = word2vec.Word2Vec.load(\"../word2vec_model/w2vmodel_mv\")"
   ]
  },
  {
   "cell_type": "code",
   "execution_count": 11,
   "id": "2d20d197",
   "metadata": {},
   "outputs": [
    {
     "data": {
      "text/plain": [
       "[('4008', 0.8929041624069214),\n",
       " ('3996', 0.8829689621925354),\n",
       " ('3992', 0.8811960816383362),\n",
       " ('3995', 0.8747525811195374),\n",
       " ('3984', 0.8655263781547546),\n",
       " ('3999', 0.863235354423523),\n",
       " ('3991', 0.8628774881362915),\n",
       " ('3997', 0.8628700375556946),\n",
       " ('3990', 0.8504300713539124),\n",
       " ('3986', 0.8448721766471863)]"
      ]
     },
     "execution_count": 11,
     "metadata": {},
     "output_type": "execute_result"
    }
   ],
   "source": [
    "#10646 is very similar to 10648 and 10649 which are drugs all belong to triamcinolone acetonide familiy\n",
    "model.wv.most_similar('4000')"
   ]
  },
  {
   "cell_type": "code",
   "execution_count": 12,
   "id": "e6f725ad",
   "metadata": {},
   "outputs": [],
   "source": [
    "model2 = word2vec.Word2Vec(sentence_list2, vector_size=100, window=20, min_count=1, workers=4,sg=1)"
   ]
  },
  {
   "cell_type": "code",
   "execution_count": 13,
   "id": "109ba0fc",
   "metadata": {},
   "outputs": [],
   "source": [
    "if not with_time:\n",
    "    model2.save(\"../word2vec_model/w2vmodel\")\n",
    "else:\n",
    "    model2.save(\"../word2vec_model/w2vmodel_wt\")"
   ]
  },
  {
   "cell_type": "code",
   "execution_count": 14,
   "id": "50902412",
   "metadata": {},
   "outputs": [],
   "source": [
    "model2 = word2vec.Word2Vec.load(\"../word2vec_model/w2vmodel\")"
   ]
  },
  {
   "cell_type": "code",
   "execution_count": 15,
   "id": "7a2c3d83",
   "metadata": {},
   "outputs": [
    {
     "data": {
      "text/plain": [
       "[('4377', 0.9165517687797546),\n",
       " ('1711', 0.8940651416778564),\n",
       " ('4343', 0.8583479523658752),\n",
       " ('1210', 0.8526436686515808),\n",
       " ('4872', 0.852055549621582),\n",
       " ('4856', 0.850497841835022),\n",
       " ('4863', 0.848952054977417),\n",
       " ('1211', 0.8338650465011597),\n",
       " ('4865', 0.8240242004394531),\n",
       " ('4854', 0.8235945105552673)]"
      ]
     },
     "execution_count": 15,
     "metadata": {},
     "output_type": "execute_result"
    }
   ],
   "source": [
    "model2.wv.most_similar('4382')"
   ]
  }
 ],
 "metadata": {
  "kernelspec": {
   "display_name": "Python 3 (ipykernel)",
   "language": "python",
   "name": "python3"
  },
  "language_info": {
   "codemirror_mode": {
    "name": "ipython",
    "version": 3
   },
   "file_extension": ".py",
   "mimetype": "text/x-python",
   "name": "python",
   "nbconvert_exporter": "python",
   "pygments_lexer": "ipython3",
   "version": "3.9.7"
  }
 },
 "nbformat": 4,
 "nbformat_minor": 5
}
