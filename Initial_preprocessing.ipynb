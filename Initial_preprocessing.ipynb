{
 "cells": [
  {
   "cell_type": "code",
   "execution_count": 1,
   "id": "d2b8a000",
   "metadata": {},
   "outputs": [],
   "source": [
    "import numpy as np\n",
    "import pandas as pd\n",
    "import matplotlib as plt\n",
    "%matplotlib inline"
   ]
  },
  {
   "cell_type": "code",
   "execution_count": 2,
   "id": "078026f3",
   "metadata": {},
   "outputs": [],
   "source": [
    "diag = pd.read_csv(\"../data/diagnoses_icd.csv\", dtype = str)"
   ]
  },
  {
   "cell_type": "code",
   "execution_count": 3,
   "id": "2225c85b",
   "metadata": {},
   "outputs": [
    {
     "data": {
      "text/html": [
       "<div>\n",
       "<style scoped>\n",
       "    .dataframe tbody tr th:only-of-type {\n",
       "        vertical-align: middle;\n",
       "    }\n",
       "\n",
       "    .dataframe tbody tr th {\n",
       "        vertical-align: top;\n",
       "    }\n",
       "\n",
       "    .dataframe thead th {\n",
       "        text-align: right;\n",
       "    }\n",
       "</style>\n",
       "<table border=\"1\" class=\"dataframe\">\n",
       "  <thead>\n",
       "    <tr style=\"text-align: right;\">\n",
       "      <th></th>\n",
       "      <th>subject_id</th>\n",
       "      <th>hadm_id</th>\n",
       "      <th>seq_num</th>\n",
       "      <th>icd_code</th>\n",
       "      <th>icd_version</th>\n",
       "    </tr>\n",
       "  </thead>\n",
       "  <tbody>\n",
       "    <tr>\n",
       "      <th>0</th>\n",
       "      <td>15734973</td>\n",
       "      <td>20475282</td>\n",
       "      <td>3</td>\n",
       "      <td>2825</td>\n",
       "      <td>9</td>\n",
       "    </tr>\n",
       "    <tr>\n",
       "      <th>1</th>\n",
       "      <td>15734973</td>\n",
       "      <td>20475282</td>\n",
       "      <td>2</td>\n",
       "      <td>V0251</td>\n",
       "      <td>9</td>\n",
       "    </tr>\n",
       "    <tr>\n",
       "      <th>2</th>\n",
       "      <td>15734973</td>\n",
       "      <td>20475282</td>\n",
       "      <td>5</td>\n",
       "      <td>V270</td>\n",
       "      <td>9</td>\n",
       "    </tr>\n",
       "    <tr>\n",
       "      <th>3</th>\n",
       "      <td>15734973</td>\n",
       "      <td>20475282</td>\n",
       "      <td>1</td>\n",
       "      <td>64891</td>\n",
       "      <td>9</td>\n",
       "    </tr>\n",
       "    <tr>\n",
       "      <th>4</th>\n",
       "      <td>15734973</td>\n",
       "      <td>20475282</td>\n",
       "      <td>4</td>\n",
       "      <td>66481</td>\n",
       "      <td>9</td>\n",
       "    </tr>\n",
       "  </tbody>\n",
       "</table>\n",
       "</div>"
      ],
      "text/plain": [
       "  subject_id   hadm_id seq_num icd_code icd_version\n",
       "0   15734973  20475282       3     2825           9\n",
       "1   15734973  20475282       2    V0251           9\n",
       "2   15734973  20475282       5     V270           9\n",
       "3   15734973  20475282       1    64891           9\n",
       "4   15734973  20475282       4    66481           9"
      ]
     },
     "execution_count": 3,
     "metadata": {},
     "output_type": "execute_result"
    }
   ],
   "source": [
    "diag.head(5)"
   ]
  },
  {
   "cell_type": "code",
   "execution_count": 4,
   "id": "b1d0bc5a",
   "metadata": {},
   "outputs": [],
   "source": [
    "d=diag['icd_code']\n",
    "# print(diag['icd_code'])\n",
    "d.head(5)\n",
    "d.to_csv(\"../icd_code.csv\")"
   ]
  },
  {
   "cell_type": "code",
   "execution_count": 5,
   "id": "43f3b62e",
   "metadata": {},
   "outputs": [
    {
     "name": "stdout",
     "output_type": "stream",
     "text": [
      "5280351\n",
      "27170\n",
      "255106\n"
     ]
    }
   ],
   "source": [
    "print(diag.shape[0])\n",
    "print(diag.icd_code.nunique())\n",
    "print(diag.subject_id.nunique())"
   ]
  },
  {
   "cell_type": "code",
   "execution_count": 6,
   "id": "a1b4432e",
   "metadata": {},
   "outputs": [],
   "source": [
    "group_icd_codes = True"
   ]
  },
  {
   "cell_type": "code",
   "execution_count": 7,
   "id": "a9c2f52f",
   "metadata": {},
   "outputs": [],
   "source": [
    "if group_icd_codes:\n",
    "    diag[\"icd_code\"] = diag[\"icd_code\"].apply(lambda x: str(x)[:8])"
   ]
  },
  {
   "cell_type": "code",
   "execution_count": 8,
   "id": "5dcea785",
   "metadata": {},
   "outputs": [
    {
     "name": "stdout",
     "output_type": "stream",
     "text": [
      "0\n"
     ]
    }
   ],
   "source": [
    "#plenty of people diagnosed Gestational Diabetes\n",
    "print(diag[diag[\"icd_code\"] == \"O244\"].subject_id.nunique())"
   ]
  },
  {
   "cell_type": "code",
   "execution_count": 9,
   "id": "0a50cd9b",
   "metadata": {},
   "outputs": [
    {
     "data": {
      "text/plain": [
       "0     2825\n",
       "1    V0251\n",
       "2     V270\n",
       "3    64891\n",
       "4    66481\n",
       "Name: icd_code, dtype: object"
      ]
     },
     "execution_count": 9,
     "metadata": {},
     "output_type": "execute_result"
    }
   ],
   "source": [
    "diag[\"icd_code\"].head()"
   ]
  },
  {
   "cell_type": "code",
   "execution_count": 10,
   "id": "926fa42e",
   "metadata": {},
   "outputs": [],
   "source": [
    "#use first 3 digits to group diagonisis codes to avoid sparsity\n",
    "diag_clean = diag.loc[:,[\"subject_id\", \"icd_code\"]]\n",
    "diag_count = diag_clean.groupby(\"icd_code\").count()"
   ]
  },
  {
   "cell_type": "code",
   "execution_count": 11,
   "id": "a9f16bcc",
   "metadata": {},
   "outputs": [
    {
     "name": "stdout",
     "output_type": "stream",
     "text": [
      "(27170, 1)\n",
      "(11792, 1)\n"
     ]
    }
   ],
   "source": [
    "print(diag_count.shape)\n",
    "print(diag_count[diag_count.subject_id < 5].shape)"
   ]
  },
  {
   "cell_type": "code",
   "execution_count": 12,
   "id": "7660e644",
   "metadata": {},
   "outputs": [
    {
     "data": {
      "text/html": [
       "<div>\n",
       "<style scoped>\n",
       "    .dataframe tbody tr th:only-of-type {\n",
       "        vertical-align: middle;\n",
       "    }\n",
       "\n",
       "    .dataframe tbody tr th {\n",
       "        vertical-align: top;\n",
       "    }\n",
       "\n",
       "    .dataframe thead th {\n",
       "        text-align: right;\n",
       "    }\n",
       "</style>\n",
       "<table border=\"1\" class=\"dataframe\">\n",
       "  <thead>\n",
       "    <tr style=\"text-align: right;\">\n",
       "      <th></th>\n",
       "      <th>subject_id</th>\n",
       "      <th>icd_code</th>\n",
       "    </tr>\n",
       "  </thead>\n",
       "  <tbody>\n",
       "    <tr>\n",
       "      <th>0</th>\n",
       "      <td>15734973</td>\n",
       "      <td>2825</td>\n",
       "    </tr>\n",
       "    <tr>\n",
       "      <th>1</th>\n",
       "      <td>15734973</td>\n",
       "      <td>V0251</td>\n",
       "    </tr>\n",
       "    <tr>\n",
       "      <th>2</th>\n",
       "      <td>15734973</td>\n",
       "      <td>V270</td>\n",
       "    </tr>\n",
       "    <tr>\n",
       "      <th>3</th>\n",
       "      <td>15734973</td>\n",
       "      <td>64891</td>\n",
       "    </tr>\n",
       "    <tr>\n",
       "      <th>4</th>\n",
       "      <td>15734973</td>\n",
       "      <td>66481</td>\n",
       "    </tr>\n",
       "  </tbody>\n",
       "</table>\n",
       "</div>"
      ],
      "text/plain": [
       "  subject_id icd_code\n",
       "0   15734973     2825\n",
       "1   15734973    V0251\n",
       "2   15734973     V270\n",
       "3   15734973    64891\n",
       "4   15734973    66481"
      ]
     },
     "execution_count": 12,
     "metadata": {},
     "output_type": "execute_result"
    }
   ],
   "source": [
    "diag_clean.head(5)"
   ]
  },
  {
   "cell_type": "code",
   "execution_count": 13,
   "id": "8c0cdb4e",
   "metadata": {},
   "outputs": [],
   "source": [
    "admission = pd.read_csv(\"../data/admissions.csv\", dtype = str)\n",
    "admission = admission.loc[:,[\"subject_id\", \"hadm_id\", \"admittime\"]]"
   ]
  },
  {
   "cell_type": "code",
   "execution_count": 14,
   "id": "ca64d824",
   "metadata": {},
   "outputs": [],
   "source": [
    "diag_w_time = diag.merge(admission, how = \"inner\", on=[\"subject_id\", \"hadm_id\"])\n",
    "diag_w_time.rename(columns = {\"admittime\": \"time\", \"icd_code\":\"events\"}, inplace = True )"
   ]
  },
  {
   "cell_type": "code",
   "execution_count": 15,
   "id": "3508c13b",
   "metadata": {},
   "outputs": [
    {
     "data": {
      "text/plain": [
       "(5280347, 6)"
      ]
     },
     "execution_count": 15,
     "metadata": {},
     "output_type": "execute_result"
    }
   ],
   "source": [
    "diag_w_time.shape"
   ]
  },
  {
   "cell_type": "code",
   "execution_count": 16,
   "id": "3e45d749",
   "metadata": {},
   "outputs": [
    {
     "data": {
      "text/html": [
       "<div>\n",
       "<style scoped>\n",
       "    .dataframe tbody tr th:only-of-type {\n",
       "        vertical-align: middle;\n",
       "    }\n",
       "\n",
       "    .dataframe tbody tr th {\n",
       "        vertical-align: top;\n",
       "    }\n",
       "\n",
       "    .dataframe thead th {\n",
       "        text-align: right;\n",
       "    }\n",
       "</style>\n",
       "<table border=\"1\" class=\"dataframe\">\n",
       "  <thead>\n",
       "    <tr style=\"text-align: right;\">\n",
       "      <th></th>\n",
       "      <th>subject_id</th>\n",
       "      <th>hadm_id</th>\n",
       "      <th>seq_num</th>\n",
       "      <th>events</th>\n",
       "      <th>icd_version</th>\n",
       "      <th>time</th>\n",
       "    </tr>\n",
       "  </thead>\n",
       "  <tbody>\n",
       "    <tr>\n",
       "      <th>0</th>\n",
       "      <td>15734973</td>\n",
       "      <td>20475282</td>\n",
       "      <td>3</td>\n",
       "      <td>2825</td>\n",
       "      <td>9</td>\n",
       "      <td>2112-02-02 07:53:00</td>\n",
       "    </tr>\n",
       "    <tr>\n",
       "      <th>1</th>\n",
       "      <td>15734973</td>\n",
       "      <td>20475282</td>\n",
       "      <td>2</td>\n",
       "      <td>V0251</td>\n",
       "      <td>9</td>\n",
       "      <td>2112-02-02 07:53:00</td>\n",
       "    </tr>\n",
       "    <tr>\n",
       "      <th>2</th>\n",
       "      <td>15734973</td>\n",
       "      <td>20475282</td>\n",
       "      <td>5</td>\n",
       "      <td>V270</td>\n",
       "      <td>9</td>\n",
       "      <td>2112-02-02 07:53:00</td>\n",
       "    </tr>\n",
       "    <tr>\n",
       "      <th>3</th>\n",
       "      <td>15734973</td>\n",
       "      <td>20475282</td>\n",
       "      <td>1</td>\n",
       "      <td>64891</td>\n",
       "      <td>9</td>\n",
       "      <td>2112-02-02 07:53:00</td>\n",
       "    </tr>\n",
       "    <tr>\n",
       "      <th>4</th>\n",
       "      <td>15734973</td>\n",
       "      <td>20475282</td>\n",
       "      <td>4</td>\n",
       "      <td>66481</td>\n",
       "      <td>9</td>\n",
       "      <td>2112-02-02 07:53:00</td>\n",
       "    </tr>\n",
       "  </tbody>\n",
       "</table>\n",
       "</div>"
      ],
      "text/plain": [
       "  subject_id   hadm_id seq_num events icd_version                 time\n",
       "0   15734973  20475282       3   2825           9  2112-02-02 07:53:00\n",
       "1   15734973  20475282       2  V0251           9  2112-02-02 07:53:00\n",
       "2   15734973  20475282       5   V270           9  2112-02-02 07:53:00\n",
       "3   15734973  20475282       1  64891           9  2112-02-02 07:53:00\n",
       "4   15734973  20475282       4  66481           9  2112-02-02 07:53:00"
      ]
     },
     "execution_count": 16,
     "metadata": {},
     "output_type": "execute_result"
    }
   ],
   "source": [
    "diag_w_time.head()"
   ]
  },
  {
   "cell_type": "code",
   "execution_count": 17,
   "id": "a213ce21",
   "metadata": {},
   "outputs": [],
   "source": [
    "diag_clean = diag_w_time.loc[:,[\"subject_id\", \"events\", \"time\"]]"
   ]
  },
  {
   "cell_type": "code",
   "execution_count": 18,
   "id": "f0c64de8",
   "metadata": {},
   "outputs": [
    {
     "data": {
      "text/plain": [
       "(5280347, 3)"
      ]
     },
     "execution_count": 18,
     "metadata": {},
     "output_type": "execute_result"
    }
   ],
   "source": [
    "#filter out all empty or null diag codes\n",
    "diag_clean[\"events\"] = diag_clean.events.str.strip()\n",
    "diag_clean = diag_clean[~diag_clean.events.isnull()]\n",
    "diag_clean = diag_clean[diag_clean.events != \"\"]\n",
    "diag_clean.shape"
   ]
  },
  {
   "cell_type": "code",
   "execution_count": 19,
   "id": "ff2ffa74",
   "metadata": {},
   "outputs": [
    {
     "name": "stdout",
     "output_type": "stream",
     "text": [
      "0\n",
      "0\n"
     ]
    }
   ],
   "source": [
    "#make sure no empty/null events\n",
    "print(diag_clean[diag_clean.events.apply(lambda x: len(x.strip())) == 0].shape[0])\n",
    "print(diag_clean[diag_clean.events.isnull()].shape[0])"
   ]
  },
  {
   "cell_type": "code",
   "execution_count": 20,
   "id": "8c6ba14a",
   "metadata": {},
   "outputs": [
    {
     "data": {
      "text/html": [
       "<div>\n",
       "<style scoped>\n",
       "    .dataframe tbody tr th:only-of-type {\n",
       "        vertical-align: middle;\n",
       "    }\n",
       "\n",
       "    .dataframe tbody tr th {\n",
       "        vertical-align: top;\n",
       "    }\n",
       "\n",
       "    .dataframe thead th {\n",
       "        text-align: right;\n",
       "    }\n",
       "</style>\n",
       "<table border=\"1\" class=\"dataframe\">\n",
       "  <thead>\n",
       "    <tr style=\"text-align: right;\">\n",
       "      <th></th>\n",
       "      <th>subject_id</th>\n",
       "      <th>events</th>\n",
       "      <th>time</th>\n",
       "    </tr>\n",
       "  </thead>\n",
       "  <tbody>\n",
       "    <tr>\n",
       "      <th>0</th>\n",
       "      <td>15734973</td>\n",
       "      <td>2825</td>\n",
       "      <td>2112-02-02 07:53:00</td>\n",
       "    </tr>\n",
       "    <tr>\n",
       "      <th>1</th>\n",
       "      <td>15734973</td>\n",
       "      <td>V0251</td>\n",
       "      <td>2112-02-02 07:53:00</td>\n",
       "    </tr>\n",
       "    <tr>\n",
       "      <th>2</th>\n",
       "      <td>15734973</td>\n",
       "      <td>V270</td>\n",
       "      <td>2112-02-02 07:53:00</td>\n",
       "    </tr>\n",
       "    <tr>\n",
       "      <th>3</th>\n",
       "      <td>15734973</td>\n",
       "      <td>64891</td>\n",
       "      <td>2112-02-02 07:53:00</td>\n",
       "    </tr>\n",
       "    <tr>\n",
       "      <th>4</th>\n",
       "      <td>15734973</td>\n",
       "      <td>66481</td>\n",
       "      <td>2112-02-02 07:53:00</td>\n",
       "    </tr>\n",
       "  </tbody>\n",
       "</table>\n",
       "</div>"
      ],
      "text/plain": [
       "  subject_id events                 time\n",
       "0   15734973   2825  2112-02-02 07:53:00\n",
       "1   15734973  V0251  2112-02-02 07:53:00\n",
       "2   15734973   V270  2112-02-02 07:53:00\n",
       "3   15734973  64891  2112-02-02 07:53:00\n",
       "4   15734973  66481  2112-02-02 07:53:00"
      ]
     },
     "execution_count": 20,
     "metadata": {},
     "output_type": "execute_result"
    }
   ],
   "source": [
    "#diagnosis data with time\n",
    "diag_clean.head()"
   ]
  },
  {
   "cell_type": "code",
   "execution_count": 21,
   "id": "71736a4e",
   "metadata": {},
   "outputs": [],
   "source": [
    "pres = pd.read_csv(\"../data/prescriptions.csv\", dtype = str)"
   ]
  },
  {
   "cell_type": "code",
   "execution_count": 22,
   "id": "a38cb1ca",
   "metadata": {},
   "outputs": [
    {
     "data": {
      "text/plain": [
       "count     10254.000000\n",
       "mean       1658.674859\n",
       "std       17580.626662\n",
       "min           1.000000\n",
       "25%           1.000000\n",
       "50%           2.000000\n",
       "75%          14.000000\n",
       "max      637105.000000\n",
       "Name: subject_id, dtype: float64"
      ]
     },
     "execution_count": 22,
     "metadata": {},
     "output_type": "execute_result"
    }
   ],
   "source": [
    "#again extremely skewed distribution, might need to group rare codes \n",
    "pres_clean = pres.loc[:, [\"subject_id\", \"starttime\", \"drug\"]]\n",
    "drug_ct = pres_clean.groupby(\"drug\").count()[\"subject_id\"]\n",
    "drug_ct.describe()"
   ]
  },
  {
   "cell_type": "code",
   "execution_count": 23,
   "id": "fb0c00b8",
   "metadata": {},
   "outputs": [
    {
     "data": {
      "text/plain": [
       "17008053"
      ]
     },
     "execution_count": 23,
     "metadata": {},
     "output_type": "execute_result"
    }
   ],
   "source": [
    "pres_clean.shape[0]"
   ]
  },
  {
   "cell_type": "code",
   "execution_count": 24,
   "id": "5c86809c",
   "metadata": {},
   "outputs": [],
   "source": [
    "pres_clean.rename(columns = {\"starttime\":\"time\", \"drug\":\"events\"},inplace = True)"
   ]
  },
  {
   "cell_type": "code",
   "execution_count": 25,
   "id": "613946ca",
   "metadata": {},
   "outputs": [
    {
     "data": {
      "text/html": [
       "<div>\n",
       "<style scoped>\n",
       "    .dataframe tbody tr th:only-of-type {\n",
       "        vertical-align: middle;\n",
       "    }\n",
       "\n",
       "    .dataframe tbody tr th {\n",
       "        vertical-align: top;\n",
       "    }\n",
       "\n",
       "    .dataframe thead th {\n",
       "        text-align: right;\n",
       "    }\n",
       "</style>\n",
       "<table border=\"1\" class=\"dataframe\">\n",
       "  <thead>\n",
       "    <tr style=\"text-align: right;\">\n",
       "      <th></th>\n",
       "      <th>subject_id</th>\n",
       "      <th>time</th>\n",
       "      <th>events</th>\n",
       "    </tr>\n",
       "  </thead>\n",
       "  <tbody>\n",
       "    <tr>\n",
       "      <th>0</th>\n",
       "      <td>17868682</td>\n",
       "      <td>2160-01-07 08:00:00</td>\n",
       "      <td>BuPROPion (Sustained Release)</td>\n",
       "    </tr>\n",
       "    <tr>\n",
       "      <th>1</th>\n",
       "      <td>17868682</td>\n",
       "      <td>2160-01-07 08:00:00</td>\n",
       "      <td>BuPROPion (Sustained Release)</td>\n",
       "    </tr>\n",
       "    <tr>\n",
       "      <th>2</th>\n",
       "      <td>17868682</td>\n",
       "      <td>2160-01-07 10:00:00</td>\n",
       "      <td>Aspirin</td>\n",
       "    </tr>\n",
       "    <tr>\n",
       "      <th>3</th>\n",
       "      <td>17868682</td>\n",
       "      <td>2160-01-07 14:00:00</td>\n",
       "      <td>1/2 NS</td>\n",
       "    </tr>\n",
       "    <tr>\n",
       "      <th>4</th>\n",
       "      <td>17868682</td>\n",
       "      <td>2160-01-07 15:00:00</td>\n",
       "      <td>Pneumococcal Vac Polyvalent</td>\n",
       "    </tr>\n",
       "  </tbody>\n",
       "</table>\n",
       "</div>"
      ],
      "text/plain": [
       "  subject_id                 time                         events\n",
       "0   17868682  2160-01-07 08:00:00  BuPROPion (Sustained Release)\n",
       "1   17868682  2160-01-07 08:00:00  BuPROPion (Sustained Release)\n",
       "2   17868682  2160-01-07 10:00:00                        Aspirin\n",
       "3   17868682  2160-01-07 14:00:00                         1/2 NS\n",
       "4   17868682  2160-01-07 15:00:00    Pneumococcal Vac Polyvalent"
      ]
     },
     "execution_count": 25,
     "metadata": {},
     "output_type": "execute_result"
    }
   ],
   "source": [
    "pres_clean.head()"
   ]
  },
  {
   "cell_type": "code",
   "execution_count": 26,
   "id": "2f4a1655",
   "metadata": {},
   "outputs": [
    {
     "name": "stdout",
     "output_type": "stream",
     "text": [
      "0\n",
      "0\n",
      "17008052\n"
     ]
    }
   ],
   "source": [
    "#delete all null/empty observations\n",
    "pres_clean[\"events\"] = pres_clean.events.str.strip()\n",
    "pres_clean[\"events\"] = pres_clean.events.str.lower()\n",
    "\n",
    "pres_clean = pres_clean[~pres_clean.events.isnull()]\n",
    "pres_clean = pres_clean[pres_clean.events != \"\"]\n",
    "\n",
    "#make sure no empty/null events\n",
    "print(pres_clean[pres_clean.events.apply(lambda x: len(x.strip())) == 0].shape[0])\n",
    "print(pres_clean[pres_clean.events.isnull()].shape[0])\n",
    "print(pres_clean.shape[0])"
   ]
  },
  {
   "cell_type": "code",
   "execution_count": 27,
   "id": "c91b8fbc",
   "metadata": {},
   "outputs": [
    {
     "data": {
      "text/html": [
       "<div>\n",
       "<style scoped>\n",
       "    .dataframe tbody tr th:only-of-type {\n",
       "        vertical-align: middle;\n",
       "    }\n",
       "\n",
       "    .dataframe tbody tr th {\n",
       "        vertical-align: top;\n",
       "    }\n",
       "\n",
       "    .dataframe thead th {\n",
       "        text-align: right;\n",
       "    }\n",
       "</style>\n",
       "<table border=\"1\" class=\"dataframe\">\n",
       "  <thead>\n",
       "    <tr style=\"text-align: right;\">\n",
       "      <th></th>\n",
       "      <th>subject_id</th>\n",
       "      <th>time</th>\n",
       "      <th>events</th>\n",
       "    </tr>\n",
       "  </thead>\n",
       "  <tbody>\n",
       "    <tr>\n",
       "      <th>0</th>\n",
       "      <td>17868682</td>\n",
       "      <td>2160-01-07 08:00:00</td>\n",
       "      <td>bupropion (sustained release)</td>\n",
       "    </tr>\n",
       "    <tr>\n",
       "      <th>1</th>\n",
       "      <td>17868682</td>\n",
       "      <td>2160-01-07 08:00:00</td>\n",
       "      <td>bupropion (sustained release)</td>\n",
       "    </tr>\n",
       "    <tr>\n",
       "      <th>2</th>\n",
       "      <td>17868682</td>\n",
       "      <td>2160-01-07 10:00:00</td>\n",
       "      <td>aspirin</td>\n",
       "    </tr>\n",
       "    <tr>\n",
       "      <th>3</th>\n",
       "      <td>17868682</td>\n",
       "      <td>2160-01-07 14:00:00</td>\n",
       "      <td>1/2 ns</td>\n",
       "    </tr>\n",
       "    <tr>\n",
       "      <th>4</th>\n",
       "      <td>17868682</td>\n",
       "      <td>2160-01-07 15:00:00</td>\n",
       "      <td>pneumococcal vac polyvalent</td>\n",
       "    </tr>\n",
       "  </tbody>\n",
       "</table>\n",
       "</div>"
      ],
      "text/plain": [
       "  subject_id                 time                         events\n",
       "0   17868682  2160-01-07 08:00:00  bupropion (sustained release)\n",
       "1   17868682  2160-01-07 08:00:00  bupropion (sustained release)\n",
       "2   17868682  2160-01-07 10:00:00                        aspirin\n",
       "3   17868682  2160-01-07 14:00:00                         1/2 ns\n",
       "4   17868682  2160-01-07 15:00:00    pneumococcal vac polyvalent"
      ]
     },
     "execution_count": 27,
     "metadata": {},
     "output_type": "execute_result"
    }
   ],
   "source": [
    "pres_clean.head()"
   ]
  },
  {
   "cell_type": "code",
   "execution_count": 28,
   "id": "4bb843a0",
   "metadata": {},
   "outputs": [],
   "source": [
    "proc = pd.read_csv(\"../data/procedures_icd.csv\", dtype = str)"
   ]
  },
  {
   "cell_type": "code",
   "execution_count": 29,
   "id": "4452af1d",
   "metadata": {},
   "outputs": [],
   "source": [
    "proc_w_time = proc.merge(admission, how = \"inner\", on=[\"subject_id\", \"hadm_id\"])\n",
    "proc_w_time.rename(columns = {\"admittime\": \"time\", \"icd_code\":\"events\"}, inplace = True )"
   ]
  },
  {
   "cell_type": "code",
   "execution_count": 30,
   "id": "a8a64741",
   "metadata": {},
   "outputs": [
    {
     "data": {
      "text/html": [
       "<div>\n",
       "<style scoped>\n",
       "    .dataframe tbody tr th:only-of-type {\n",
       "        vertical-align: middle;\n",
       "    }\n",
       "\n",
       "    .dataframe tbody tr th {\n",
       "        vertical-align: top;\n",
       "    }\n",
       "\n",
       "    .dataframe thead th {\n",
       "        text-align: right;\n",
       "    }\n",
       "</style>\n",
       "<table border=\"1\" class=\"dataframe\">\n",
       "  <thead>\n",
       "    <tr style=\"text-align: right;\">\n",
       "      <th></th>\n",
       "      <th>subject_id</th>\n",
       "      <th>hadm_id</th>\n",
       "      <th>seq_num</th>\n",
       "      <th>chartdate</th>\n",
       "      <th>events</th>\n",
       "      <th>icd_version</th>\n",
       "      <th>time</th>\n",
       "    </tr>\n",
       "  </thead>\n",
       "  <tbody>\n",
       "    <tr>\n",
       "      <th>0</th>\n",
       "      <td>10287061</td>\n",
       "      <td>27485182</td>\n",
       "      <td>1</td>\n",
       "      <td>2124-08-22</td>\n",
       "      <td>7569</td>\n",
       "      <td>9</td>\n",
       "      <td>2124-08-21 16:23:00</td>\n",
       "    </tr>\n",
       "    <tr>\n",
       "      <th>1</th>\n",
       "      <td>13135573</td>\n",
       "      <td>22286210</td>\n",
       "      <td>3</td>\n",
       "      <td>2187-05-30</td>\n",
       "      <td>7309</td>\n",
       "      <td>9</td>\n",
       "      <td>2187-05-29 16:04:00</td>\n",
       "    </tr>\n",
       "    <tr>\n",
       "      <th>2</th>\n",
       "      <td>13135573</td>\n",
       "      <td>22286210</td>\n",
       "      <td>1</td>\n",
       "      <td>2187-05-30</td>\n",
       "      <td>7569</td>\n",
       "      <td>9</td>\n",
       "      <td>2187-05-29 16:04:00</td>\n",
       "    </tr>\n",
       "    <tr>\n",
       "      <th>3</th>\n",
       "      <td>13135573</td>\n",
       "      <td>22286210</td>\n",
       "      <td>2</td>\n",
       "      <td>2187-05-30</td>\n",
       "      <td>734</td>\n",
       "      <td>9</td>\n",
       "      <td>2187-05-29 16:04:00</td>\n",
       "    </tr>\n",
       "    <tr>\n",
       "      <th>4</th>\n",
       "      <td>12646116</td>\n",
       "      <td>24154012</td>\n",
       "      <td>2</td>\n",
       "      <td>2115-01-13</td>\n",
       "      <td>734</td>\n",
       "      <td>9</td>\n",
       "      <td>2115-01-12 17:23:00</td>\n",
       "    </tr>\n",
       "  </tbody>\n",
       "</table>\n",
       "</div>"
      ],
      "text/plain": [
       "  subject_id   hadm_id seq_num   chartdate events icd_version  \\\n",
       "0   10287061  27485182       1  2124-08-22   7569           9   \n",
       "1   13135573  22286210       3  2187-05-30   7309           9   \n",
       "2   13135573  22286210       1  2187-05-30   7569           9   \n",
       "3   13135573  22286210       2  2187-05-30    734           9   \n",
       "4   12646116  24154012       2  2115-01-13    734           9   \n",
       "\n",
       "                  time  \n",
       "0  2124-08-21 16:23:00  \n",
       "1  2187-05-29 16:04:00  \n",
       "2  2187-05-29 16:04:00  \n",
       "3  2187-05-29 16:04:00  \n",
       "4  2115-01-12 17:23:00  "
      ]
     },
     "execution_count": 30,
     "metadata": {},
     "output_type": "execute_result"
    }
   ],
   "source": [
    "proc_w_time.head(5)"
   ]
  },
  {
   "cell_type": "code",
   "execution_count": 31,
   "id": "c3b2942b",
   "metadata": {},
   "outputs": [
    {
     "data": {
      "text/plain": [
       "779625"
      ]
     },
     "execution_count": 31,
     "metadata": {},
     "output_type": "execute_result"
    }
   ],
   "source": [
    "proc_w_time.shape[0]"
   ]
  },
  {
   "cell_type": "code",
   "execution_count": 32,
   "id": "2c6d6856",
   "metadata": {},
   "outputs": [
    {
     "data": {
      "text/html": [
       "<div>\n",
       "<style scoped>\n",
       "    .dataframe tbody tr th:only-of-type {\n",
       "        vertical-align: middle;\n",
       "    }\n",
       "\n",
       "    .dataframe tbody tr th {\n",
       "        vertical-align: top;\n",
       "    }\n",
       "\n",
       "    .dataframe thead th {\n",
       "        text-align: right;\n",
       "    }\n",
       "</style>\n",
       "<table border=\"1\" class=\"dataframe\">\n",
       "  <thead>\n",
       "    <tr style=\"text-align: right;\">\n",
       "      <th></th>\n",
       "      <th>subject_id</th>\n",
       "      <th>time</th>\n",
       "      <th>events</th>\n",
       "    </tr>\n",
       "  </thead>\n",
       "  <tbody>\n",
       "    <tr>\n",
       "      <th>0</th>\n",
       "      <td>10287061</td>\n",
       "      <td>2124-08-21 16:23:00</td>\n",
       "      <td>7569</td>\n",
       "    </tr>\n",
       "    <tr>\n",
       "      <th>1</th>\n",
       "      <td>13135573</td>\n",
       "      <td>2187-05-29 16:04:00</td>\n",
       "      <td>7309</td>\n",
       "    </tr>\n",
       "    <tr>\n",
       "      <th>2</th>\n",
       "      <td>13135573</td>\n",
       "      <td>2187-05-29 16:04:00</td>\n",
       "      <td>7569</td>\n",
       "    </tr>\n",
       "    <tr>\n",
       "      <th>3</th>\n",
       "      <td>13135573</td>\n",
       "      <td>2187-05-29 16:04:00</td>\n",
       "      <td>734</td>\n",
       "    </tr>\n",
       "    <tr>\n",
       "      <th>4</th>\n",
       "      <td>12646116</td>\n",
       "      <td>2115-01-12 17:23:00</td>\n",
       "      <td>734</td>\n",
       "    </tr>\n",
       "  </tbody>\n",
       "</table>\n",
       "</div>"
      ],
      "text/plain": [
       "  subject_id                 time events\n",
       "0   10287061  2124-08-21 16:23:00   7569\n",
       "1   13135573  2187-05-29 16:04:00   7309\n",
       "2   13135573  2187-05-29 16:04:00   7569\n",
       "3   13135573  2187-05-29 16:04:00    734\n",
       "4   12646116  2115-01-12 17:23:00    734"
      ]
     },
     "execution_count": 32,
     "metadata": {},
     "output_type": "execute_result"
    }
   ],
   "source": [
    "proc_clean = proc_w_time.loc[:,[\"subject_id\", \"time\",\"events\"]]\n",
    "proc_clean.head()"
   ]
  },
  {
   "cell_type": "code",
   "execution_count": 33,
   "id": "89ec985a",
   "metadata": {},
   "outputs": [
    {
     "name": "stdout",
     "output_type": "stream",
     "text": [
      "0\n",
      "0\n"
     ]
    }
   ],
   "source": [
    "# no empty/null value in procesdure data set\n",
    "print(proc_clean[proc_clean.events.isnull()].shape[0])\n",
    "print(proc_clean[proc_clean.events.apply(lambda x: len(x.strip())) == 0].shape[0])"
   ]
  },
  {
   "cell_type": "code",
   "execution_count": 34,
   "id": "9e2b659d",
   "metadata": {},
   "outputs": [],
   "source": [
    "if group_icd_codes:\n",
    "    proc_clean[\"events\"] = proc_clean[\"events\"].apply(lambda x: str(x)[:3])"
   ]
  },
  {
   "cell_type": "code",
   "execution_count": 35,
   "id": "64034eae",
   "metadata": {},
   "outputs": [
    {
     "data": {
      "text/plain": [
       "'2105-10-04 17:26:00'"
      ]
     },
     "execution_count": 35,
     "metadata": {},
     "output_type": "execute_result"
    }
   ],
   "source": [
    "proc_clean.time.min()"
   ]
  },
  {
   "cell_type": "code",
   "execution_count": 36,
   "id": "42d583d6",
   "metadata": {},
   "outputs": [],
   "source": [
    "proc_events = pd.read_csv(\"../data/procedureevents.csv\", dtype = str)"
   ]
  },
  {
   "cell_type": "code",
   "execution_count": 37,
   "id": "d6b66734",
   "metadata": {},
   "outputs": [
    {
     "data": {
      "text/html": [
       "<div>\n",
       "<style scoped>\n",
       "    .dataframe tbody tr th:only-of-type {\n",
       "        vertical-align: middle;\n",
       "    }\n",
       "\n",
       "    .dataframe tbody tr th {\n",
       "        vertical-align: top;\n",
       "    }\n",
       "\n",
       "    .dataframe thead th {\n",
       "        text-align: right;\n",
       "    }\n",
       "</style>\n",
       "<table border=\"1\" class=\"dataframe\">\n",
       "  <thead>\n",
       "    <tr style=\"text-align: right;\">\n",
       "      <th></th>\n",
       "      <th>subject_id</th>\n",
       "      <th>hadm_id</th>\n",
       "      <th>stay_id</th>\n",
       "      <th>starttime</th>\n",
       "      <th>endtime</th>\n",
       "      <th>storetime</th>\n",
       "      <th>itemid</th>\n",
       "      <th>value</th>\n",
       "      <th>valueuom</th>\n",
       "      <th>location</th>\n",
       "      <th>...</th>\n",
       "      <th>patientweight</th>\n",
       "      <th>totalamount</th>\n",
       "      <th>totalamountuom</th>\n",
       "      <th>isopenbag</th>\n",
       "      <th>continueinnextdept</th>\n",
       "      <th>cancelreason</th>\n",
       "      <th>statusdescription</th>\n",
       "      <th>comments_date</th>\n",
       "      <th>originalamount</th>\n",
       "      <th>originalrate</th>\n",
       "    </tr>\n",
       "  </thead>\n",
       "  <tbody>\n",
       "    <tr>\n",
       "      <th>0</th>\n",
       "      <td>15693895</td>\n",
       "      <td>21203492</td>\n",
       "      <td>30500789</td>\n",
       "      <td>2147-06-05 11:25:00</td>\n",
       "      <td>2147-06-05 11:26:00</td>\n",
       "      <td>2147-06-06 11:25:00</td>\n",
       "      <td>225399</td>\n",
       "      <td>1</td>\n",
       "      <td>None</td>\n",
       "      <td>NaN</td>\n",
       "      <td>...</td>\n",
       "      <td>80</td>\n",
       "      <td>NaN</td>\n",
       "      <td>NaN</td>\n",
       "      <td>0</td>\n",
       "      <td>0</td>\n",
       "      <td>0</td>\n",
       "      <td>FinishedRunning</td>\n",
       "      <td>NaN</td>\n",
       "      <td>1</td>\n",
       "      <td>0</td>\n",
       "    </tr>\n",
       "    <tr>\n",
       "      <th>1</th>\n",
       "      <td>15693895</td>\n",
       "      <td>21203492</td>\n",
       "      <td>30500789</td>\n",
       "      <td>2147-06-05 22:00:00</td>\n",
       "      <td>2147-06-05 22:01:00</td>\n",
       "      <td>2147-06-06 11:25:00</td>\n",
       "      <td>224385</td>\n",
       "      <td>1</td>\n",
       "      <td>None</td>\n",
       "      <td>NaN</td>\n",
       "      <td>...</td>\n",
       "      <td>80</td>\n",
       "      <td>NaN</td>\n",
       "      <td>NaN</td>\n",
       "      <td>0</td>\n",
       "      <td>0</td>\n",
       "      <td>0</td>\n",
       "      <td>FinishedRunning</td>\n",
       "      <td>NaN</td>\n",
       "      <td>1</td>\n",
       "      <td>0</td>\n",
       "    </tr>\n",
       "    <tr>\n",
       "      <th>2</th>\n",
       "      <td>12481680</td>\n",
       "      <td>26876606</td>\n",
       "      <td>30863119</td>\n",
       "      <td>2141-01-23 12:00:00</td>\n",
       "      <td>2141-01-23 18:33:00</td>\n",
       "      <td>2141-01-23 18:33:51.14</td>\n",
       "      <td>224275</td>\n",
       "      <td>393</td>\n",
       "      <td>min</td>\n",
       "      <td>NaN</td>\n",
       "      <td>...</td>\n",
       "      <td>123</td>\n",
       "      <td>NaN</td>\n",
       "      <td>NaN</td>\n",
       "      <td>1</td>\n",
       "      <td>0</td>\n",
       "      <td>0</td>\n",
       "      <td>FinishedRunning</td>\n",
       "      <td>NaN</td>\n",
       "      <td>393</td>\n",
       "      <td>1</td>\n",
       "    </tr>\n",
       "    <tr>\n",
       "      <th>3</th>\n",
       "      <td>12481680</td>\n",
       "      <td>26876606</td>\n",
       "      <td>30863119</td>\n",
       "      <td>2141-01-23 12:00:00</td>\n",
       "      <td>2141-01-23 18:33:00</td>\n",
       "      <td>2141-01-23 18:33:51.14</td>\n",
       "      <td>224275</td>\n",
       "      <td>393</td>\n",
       "      <td>min</td>\n",
       "      <td>NaN</td>\n",
       "      <td>...</td>\n",
       "      <td>123</td>\n",
       "      <td>NaN</td>\n",
       "      <td>NaN</td>\n",
       "      <td>1</td>\n",
       "      <td>0</td>\n",
       "      <td>0</td>\n",
       "      <td>FinishedRunning</td>\n",
       "      <td>NaN</td>\n",
       "      <td>393</td>\n",
       "      <td>1</td>\n",
       "    </tr>\n",
       "    <tr>\n",
       "      <th>4</th>\n",
       "      <td>15614172</td>\n",
       "      <td>27424463</td>\n",
       "      <td>33484414</td>\n",
       "      <td>2153-07-29 18:13:00</td>\n",
       "      <td>2153-07-31 01:25:00</td>\n",
       "      <td>2153-07-31 01:26:00</td>\n",
       "      <td>224277</td>\n",
       "      <td>1872</td>\n",
       "      <td>min</td>\n",
       "      <td>RL Post Forearm</td>\n",
       "      <td>...</td>\n",
       "      <td>71.6</td>\n",
       "      <td>NaN</td>\n",
       "      <td>NaN</td>\n",
       "      <td>1</td>\n",
       "      <td>1</td>\n",
       "      <td>0</td>\n",
       "      <td>FinishedRunning</td>\n",
       "      <td>NaN</td>\n",
       "      <td>1872</td>\n",
       "      <td>1</td>\n",
       "    </tr>\n",
       "  </tbody>\n",
       "</table>\n",
       "<p>5 rows × 26 columns</p>\n",
       "</div>"
      ],
      "text/plain": [
       "  subject_id   hadm_id   stay_id            starttime              endtime  \\\n",
       "0   15693895  21203492  30500789  2147-06-05 11:25:00  2147-06-05 11:26:00   \n",
       "1   15693895  21203492  30500789  2147-06-05 22:00:00  2147-06-05 22:01:00   \n",
       "2   12481680  26876606  30863119  2141-01-23 12:00:00  2141-01-23 18:33:00   \n",
       "3   12481680  26876606  30863119  2141-01-23 12:00:00  2141-01-23 18:33:00   \n",
       "4   15614172  27424463  33484414  2153-07-29 18:13:00  2153-07-31 01:25:00   \n",
       "\n",
       "                storetime  itemid value valueuom         location  ...  \\\n",
       "0     2147-06-06 11:25:00  225399     1     None              NaN  ...   \n",
       "1     2147-06-06 11:25:00  224385     1     None              NaN  ...   \n",
       "2  2141-01-23 18:33:51.14  224275   393      min              NaN  ...   \n",
       "3  2141-01-23 18:33:51.14  224275   393      min              NaN  ...   \n",
       "4     2153-07-31 01:26:00  224277  1872      min  RL Post Forearm  ...   \n",
       "\n",
       "  patientweight totalamount totalamountuom isopenbag continueinnextdept  \\\n",
       "0            80         NaN            NaN         0                  0   \n",
       "1            80         NaN            NaN         0                  0   \n",
       "2           123         NaN            NaN         1                  0   \n",
       "3           123         NaN            NaN         1                  0   \n",
       "4          71.6         NaN            NaN         1                  1   \n",
       "\n",
       "  cancelreason statusdescription comments_date originalamount originalrate  \n",
       "0            0   FinishedRunning           NaN              1            0  \n",
       "1            0   FinishedRunning           NaN              1            0  \n",
       "2            0   FinishedRunning           NaN            393            1  \n",
       "3            0   FinishedRunning           NaN            393            1  \n",
       "4            0   FinishedRunning           NaN           1872            1  \n",
       "\n",
       "[5 rows x 26 columns]"
      ]
     },
     "execution_count": 37,
     "metadata": {},
     "output_type": "execute_result"
    }
   ],
   "source": [
    "proc_events.head()"
   ]
  },
  {
   "cell_type": "code",
   "execution_count": 38,
   "id": "c6d77074",
   "metadata": {},
   "outputs": [
    {
     "data": {
      "text/plain": [
       "Procedures               164354\n",
       "Imaging                  120577\n",
       "Intubation/Extubation     32441\n",
       "Communication             31740\n",
       "Significant Events        27114\n",
       "CRRT Filter Change          251\n",
       "Name: ordercategoryname, dtype: int64"
      ]
     },
     "execution_count": 38,
     "metadata": {},
     "output_type": "execute_result"
    }
   ],
   "source": [
    "proc_events[proc_events.ordercategorydescription == \"Task\"].ordercategoryname.value_counts()"
   ]
  },
  {
   "cell_type": "code",
   "execution_count": 39,
   "id": "106c129c",
   "metadata": {},
   "outputs": [
    {
     "data": {
      "text/plain": [
       "Task                 376477\n",
       "ContinuousProcess    354770\n",
       "Name: ordercategorydescription, dtype: int64"
      ]
     },
     "execution_count": 39,
     "metadata": {},
     "output_type": "execute_result"
    }
   ],
   "source": [
    "proc_events.ordercategorydescription.value_counts()"
   ]
  },
  {
   "cell_type": "code",
   "execution_count": 40,
   "id": "d7e83533",
   "metadata": {},
   "outputs": [],
   "source": [
    "proc_clean_MV = proc_events.loc[proc_events.ordercategorydescription == \"Task\", [\"subject_id\", \"starttime\", \"itemid\"]]\n",
    "item_id = pd.read_csv(\"../data/d_items.csv\", dtype = str)\n",
    "item_id = item_id.loc[:,[\"itemid\", \"label\"]]\n",
    "proc_clean_MV = proc_clean_MV.merge(item_id, on = \"itemid\")"
   ]
  },
  {
   "cell_type": "code",
   "execution_count": 41,
   "id": "f588eaee",
   "metadata": {},
   "outputs": [],
   "source": [
    "proc_clean_MV.rename(columns = {\"starttime\" : \"time\",\"label\": \"events\"}, inplace = True)\n",
    "proc_clean_MV = proc_clean_MV.drop([\"itemid\"], axis = 1)"
   ]
  },
  {
   "cell_type": "code",
   "execution_count": 42,
   "id": "11b9fcd7",
   "metadata": {},
   "outputs": [
    {
     "name": "stderr",
     "output_type": "stream",
     "text": [
      "C:\\Users\\84755\\AppData\\Local\\Temp/ipykernel_4340/1880869949.py:1: UserWarning: Boolean Series key will be reindexed to match DataFrame index.\n",
      "  print(proc_clean_MV[proc_clean.events.isnull()].shape[0])\n",
      "C:\\Users\\84755\\AppData\\Local\\Temp/ipykernel_4340/1880869949.py:2: UserWarning: Boolean Series key will be reindexed to match DataFrame index.\n",
      "  print(proc_clean_MV[proc_clean.events.apply(lambda x: len(x.strip()) == 0)].shape[0])\n"
     ]
    },
    {
     "name": "stdout",
     "output_type": "stream",
     "text": [
      "0\n",
      "0\n"
     ]
    }
   ],
   "source": [
    "print(proc_clean_MV[proc_clean.events.isnull()].shape[0])\n",
    "print(proc_clean_MV[proc_clean.events.apply(lambda x: len(x.strip()) == 0)].shape[0])\n",
    "\n",
    "proc_clean_MV[\"events\"] = proc_clean_MV.events.str.strip()\n",
    "proc_clean_MV[\"events\"] = proc_clean_MV.events.str.lower()"
   ]
  },
  {
   "cell_type": "code",
   "execution_count": 43,
   "id": "124fb44c",
   "metadata": {},
   "outputs": [
    {
     "data": {
      "text/plain": [
       "'2110-01-11 12:40:00'"
      ]
     },
     "execution_count": 43,
     "metadata": {},
     "output_type": "execute_result"
    }
   ],
   "source": [
    "proc_clean_MV.time.min()"
   ]
  },
  {
   "cell_type": "code",
   "execution_count": 53,
   "id": "6428ab37",
   "metadata": {},
   "outputs": [],
   "source": [
    "use_mv = False\n",
    "\n",
    "if use_mv:\n",
    "    all_events_data = pd.concat([diag_clean,proc_clean_MV, pres_clean], axis = 0)\n",
    "else:\n",
    "    all_events_data = pd.concat([diag_clean,proc_clean, pres_clean], axis = 0)"
   ]
  },
  {
   "cell_type": "code",
   "execution_count": 54,
   "id": "dad8556d",
   "metadata": {},
   "outputs": [
    {
     "data": {
      "text/plain": [
       "23068024"
      ]
     },
     "execution_count": 54,
     "metadata": {},
     "output_type": "execute_result"
    }
   ],
   "source": [
    "all_events_data.shape[0]"
   ]
  },
  {
   "cell_type": "code",
   "execution_count": 55,
   "id": "f1aa5f01",
   "metadata": {},
   "outputs": [
    {
     "data": {
      "text/html": [
       "<div>\n",
       "<style scoped>\n",
       "    .dataframe tbody tr th:only-of-type {\n",
       "        vertical-align: middle;\n",
       "    }\n",
       "\n",
       "    .dataframe tbody tr th {\n",
       "        vertical-align: top;\n",
       "    }\n",
       "\n",
       "    .dataframe thead th {\n",
       "        text-align: right;\n",
       "    }\n",
       "</style>\n",
       "<table border=\"1\" class=\"dataframe\">\n",
       "  <thead>\n",
       "    <tr style=\"text-align: right;\">\n",
       "      <th></th>\n",
       "      <th>subject_id</th>\n",
       "      <th>events</th>\n",
       "      <th>time</th>\n",
       "    </tr>\n",
       "  </thead>\n",
       "  <tbody>\n",
       "    <tr>\n",
       "      <th>0</th>\n",
       "      <td>15734973</td>\n",
       "      <td>2825</td>\n",
       "      <td>2112-02-02 07:53:00</td>\n",
       "    </tr>\n",
       "    <tr>\n",
       "      <th>1</th>\n",
       "      <td>15734973</td>\n",
       "      <td>V0251</td>\n",
       "      <td>2112-02-02 07:53:00</td>\n",
       "    </tr>\n",
       "    <tr>\n",
       "      <th>2</th>\n",
       "      <td>15734973</td>\n",
       "      <td>V270</td>\n",
       "      <td>2112-02-02 07:53:00</td>\n",
       "    </tr>\n",
       "    <tr>\n",
       "      <th>3</th>\n",
       "      <td>15734973</td>\n",
       "      <td>64891</td>\n",
       "      <td>2112-02-02 07:53:00</td>\n",
       "    </tr>\n",
       "    <tr>\n",
       "      <th>4</th>\n",
       "      <td>15734973</td>\n",
       "      <td>66481</td>\n",
       "      <td>2112-02-02 07:53:00</td>\n",
       "    </tr>\n",
       "  </tbody>\n",
       "</table>\n",
       "</div>"
      ],
      "text/plain": [
       "  subject_id events                 time\n",
       "0   15734973   2825  2112-02-02 07:53:00\n",
       "1   15734973  V0251  2112-02-02 07:53:00\n",
       "2   15734973   V270  2112-02-02 07:53:00\n",
       "3   15734973  64891  2112-02-02 07:53:00\n",
       "4   15734973  66481  2112-02-02 07:53:00"
      ]
     },
     "execution_count": 55,
     "metadata": {},
     "output_type": "execute_result"
    }
   ],
   "source": [
    "all_events_data.head()"
   ]
  },
  {
   "cell_type": "code",
   "execution_count": 56,
   "id": "40704e2a",
   "metadata": {},
   "outputs": [],
   "source": [
    "from sklearn.utils import shuffle\n",
    "#randomly shuffle the data so it breaks the sequence order with diag and procedure with same subject id and time\n",
    "all_events_data = shuffle(all_events_data).reset_index(drop=True)"
   ]
  },
  {
   "cell_type": "code",
   "execution_count": 57,
   "id": "2fab648a",
   "metadata": {},
   "outputs": [],
   "source": [
    "#turn medication, diag, procedure events into integer ids (by their alphabetical order)\n",
    "all_events = all_events_data.events.unique()\n",
    "all_events.sort()\n",
    "index = np.arange(1,len(all_events)+1)\n",
    "events_lookup = pd.DataFrame({\"events\":all_events, \"eve_index\":index})"
   ]
  },
  {
   "cell_type": "code",
   "execution_count": 58,
   "id": "9d28f3bd",
   "metadata": {},
   "outputs": [],
   "source": [
    "if use_mv:\n",
    "    events_lookup.to_csv(\"../cleaned_data/events_id_mv.csv\")\n",
    "else:\n",
    "    events_lookup.to_csv(\"../cleaned_data/events_id.csv\")"
   ]
  },
  {
   "cell_type": "code",
   "execution_count": 59,
   "id": "16dd0345",
   "metadata": {},
   "outputs": [],
   "source": [
    "#merge all_events_data with event_index\n",
    "all_events_data = all_events_data.merge(events_lookup, on = \"events\")"
   ]
  },
  {
   "cell_type": "code",
   "execution_count": 60,
   "id": "60a463d8",
   "metadata": {},
   "outputs": [
    {
     "data": {
      "text/html": [
       "<div>\n",
       "<style scoped>\n",
       "    .dataframe tbody tr th:only-of-type {\n",
       "        vertical-align: middle;\n",
       "    }\n",
       "\n",
       "    .dataframe tbody tr th {\n",
       "        vertical-align: top;\n",
       "    }\n",
       "\n",
       "    .dataframe thead th {\n",
       "        text-align: right;\n",
       "    }\n",
       "</style>\n",
       "<table border=\"1\" class=\"dataframe\">\n",
       "  <thead>\n",
       "    <tr style=\"text-align: right;\">\n",
       "      <th></th>\n",
       "      <th>subject_id</th>\n",
       "      <th>events</th>\n",
       "      <th>time</th>\n",
       "      <th>eve_index</th>\n",
       "    </tr>\n",
       "  </thead>\n",
       "  <tbody>\n",
       "    <tr>\n",
       "      <th>0</th>\n",
       "      <td>10000019</td>\n",
       "      <td>V3000</td>\n",
       "      <td>2129-05-21 19:16:00</td>\n",
       "      <td>26446</td>\n",
       "    </tr>\n",
       "    <tr>\n",
       "      <th>1</th>\n",
       "      <td>10000019</td>\n",
       "      <td>640</td>\n",
       "      <td>2129-05-21 19:16:00</td>\n",
       "      <td>5346</td>\n",
       "    </tr>\n",
       "    <tr>\n",
       "      <th>2</th>\n",
       "      <td>10000019</td>\n",
       "      <td>V290</td>\n",
       "      <td>2129-05-21 19:16:00</td>\n",
       "      <td>26425</td>\n",
       "    </tr>\n",
       "    <tr>\n",
       "      <th>3</th>\n",
       "      <td>10000019</td>\n",
       "      <td>V053</td>\n",
       "      <td>2129-05-21 19:16:00</td>\n",
       "      <td>26072</td>\n",
       "    </tr>\n",
       "    <tr>\n",
       "      <th>4</th>\n",
       "      <td>10000019</td>\n",
       "      <td>V502</td>\n",
       "      <td>2129-05-21 19:16:00</td>\n",
       "      <td>26637</td>\n",
       "    </tr>\n",
       "  </tbody>\n",
       "</table>\n",
       "</div>"
      ],
      "text/plain": [
       "  subject_id events                 time  eve_index\n",
       "0   10000019  V3000  2129-05-21 19:16:00      26446\n",
       "1   10000019    640  2129-05-21 19:16:00       5346\n",
       "2   10000019   V290  2129-05-21 19:16:00      26425\n",
       "3   10000019   V053  2129-05-21 19:16:00      26072\n",
       "4   10000019   V502  2129-05-21 19:16:00      26637"
      ]
     },
     "execution_count": 60,
     "metadata": {},
     "output_type": "execute_result"
    }
   ],
   "source": [
    "all_events_data = all_events_data.sort_values(by = [\"subject_id\", \"time\"]).reset_index(drop=True)\n",
    "all_events_data.head()"
   ]
  },
  {
   "cell_type": "code",
   "execution_count": 61,
   "id": "4d15cb6b",
   "metadata": {},
   "outputs": [],
   "source": [
    "if use_mv:\n",
    "    all_events_data.to_csv(\"../cleaned_data/all_events_data_mv.csv\")\n",
    "else:\n",
    "    all_events_data.to_csv(\"../cleaned_data/all_events_data.csv\")"
   ]
  },
  {
   "cell_type": "code",
   "execution_count": null,
   "id": "8a803c56",
   "metadata": {},
   "outputs": [],
   "source": []
  }
 ],
 "metadata": {
  "kernelspec": {
   "display_name": "Python 3 (ipykernel)",
   "language": "python",
   "name": "python3"
  },
  "language_info": {
   "codemirror_mode": {
    "name": "ipython",
    "version": 3
   },
   "file_extension": ".py",
   "mimetype": "text/x-python",
   "name": "python",
   "nbconvert_exporter": "python",
   "pygments_lexer": "ipython3",
   "version": "3.9.7"
  }
 },
 "nbformat": 4,
 "nbformat_minor": 5
}
