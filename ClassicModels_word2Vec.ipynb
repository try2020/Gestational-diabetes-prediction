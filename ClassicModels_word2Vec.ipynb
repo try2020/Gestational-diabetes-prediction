{
 "cells": [
  {
   "cell_type": "code",
   "execution_count": 1,
   "id": "8a446871",
   "metadata": {},
   "outputs": [],
   "source": [
    "import numpy as np\n",
    "\n",
    "from sklearn.model_selection import train_test_split\n",
    "from sklearn.linear_model import LogisticRegression\n",
    "from sklearn.svm import LinearSVC\n",
    "from sklearn.tree import DecisionTreeClassifier\n",
    "from sklearn.ensemble import RandomForestClassifier\n",
    "from sklearn.metrics import *\n",
    "from sklearn.model_selection import KFold\n",
    "\n",
    "from sklearn.datasets import load_svmlight_file"
   ]
  },
  {
   "cell_type": "code",
   "execution_count": 2,
   "id": "4e0fb640",
   "metadata": {},
   "outputs": [],
   "source": [
    "without_time = False\n",
    "\n",
    "if without_time:\n",
    "    N_FEAT = 36765\n",
    "    svmlight_file = \"../cleaned_data/features_svmlight_w2v.train\"\n",
    "else:\n",
    "    N_FEAT = 36807\n",
    "    svmlight_file = \"../cleaned_data/features_svmlight_w2v_wt.train\""
   ]
  },
  {
   "cell_type": "code",
   "execution_count": 3,
   "id": "cd4f837f",
   "metadata": {},
   "outputs": [],
   "source": [
    "def get_data_from_svmlight(svmlight_file):\n",
    "    data_train = load_svmlight_file(svmlight_file,n_features=N_FEAT)\n",
    "    X_train = data_train[0]\n",
    "    Y_train = data_train[1]\n",
    "    return X_train, Y_train"
   ]
  },
  {
   "cell_type": "code",
   "execution_count": 4,
   "id": "730b2a88",
   "metadata": {},
   "outputs": [],
   "source": [
    "RANDOM_STATE = 6250"
   ]
  },
  {
   "cell_type": "code",
   "execution_count": 5,
   "id": "89bc51b3",
   "metadata": {},
   "outputs": [],
   "source": [
    "X, Y = get_data_from_svmlight(svmlight_file)"
   ]
  },
  {
   "cell_type": "code",
   "execution_count": 6,
   "id": "1250660c",
   "metadata": {},
   "outputs": [],
   "source": [
    "X_train, X_test, Y_train, Y_test = train_test_split(X, Y, test_size=0.2, random_state=RANDOM_STATE)"
   ]
  },
  {
   "cell_type": "code",
   "execution_count": null,
   "id": "e3b35093",
   "metadata": {},
   "outputs": [],
   "source": [
    "# Cross-validation\n",
    "\n",
    "# https://scikit-learn.org/stable/modules/cross_validation.html\n",
    "\n",
    "# Logistic Regression\n",
    "# https://www.datacamp.com/tutorial/understanding-logistic-regression-python\n",
    "\n",
    "# SVM support vector machine\n",
    "# https://scikit-learn.org/dev/versions.html\n",
    "# https://scikit-learn.org/stable/modules/generated/sklearn.svm.LinearSVC.html\n",
    "\n",
    "\n",
    "# decision tree\n",
    "# https://scikit-learn.org/stable/modules/tree.html\n",
    "\n",
    "# random forest\n",
    "# https://scikit-learn.org/stable/modules/generated/sklearn.ensemble.RandomForestClassifier.html"
   ]
  },
  {
   "cell_type": "code",
   "execution_count": 7,
   "id": "d75839e4",
   "metadata": {},
   "outputs": [],
   "source": [
    "#input: X_train, Y_train\n",
    "#output: Y_pred\n",
    "def logistic_regression_pred(X_train, Y_train, X_test):\n",
    "    #train a logistic regression classifier using X_train and Y_train. Use this to predict labels of X_train\n",
    "    #use default params for the classifier\n",
    "    log_reg = LogisticRegression(random_state=RANDOM_STATE)\n",
    "    log_reg.fit(X_train, Y_train)\n",
    "    Y_pred = log_reg.predict(X_test)\n",
    "\n",
    "    return Y_pred\n",
    "\n",
    "\n",
    "#input: X_train, Y_train\n",
    "#output: Y_pred\n",
    "def svm_pred(X_train, Y_train, X_test):\n",
    "    #train a SVM classifier using X_train and Y_train. Use this to predict labels of X_train\n",
    "    #use default params for the classifier\n",
    "    lin_svc = LinearSVC(random_state=RANDOM_STATE)\n",
    "    lin_svc.fit(X_train, Y_train)\n",
    "    Y_pred = lin_svc.predict(X_test)\n",
    "\n",
    "    return Y_pred\n",
    "\n",
    "\n",
    "#input: X_train, Y_train\n",
    "#output: Y_pred\n",
    "def decisionTree_pred(X_train, Y_train, X_test):\n",
    "    #train a logistic regression classifier using X_train and Y_train. Use this to predict labels of X_train\n",
    "    #use max_depth as 5\n",
    "    dec_tree = DecisionTreeClassifier(max_depth=5, random_state=RANDOM_STATE)\n",
    "    dec_tree.fit(X_train, Y_train)\n",
    "    Y_pred = dec_tree.predict(X_test)\n",
    "\n",
    "    return Y_pred\n",
    "\n",
    "\n",
    "#input: X_train, Y_train\n",
    "#output: Y_pred\n",
    "def randomForest_pred(X_train, Y_train, X_test):\n",
    "    #train a logistic regression classifier using X_train and Y_train. Use this to predict labels of X_train\n",
    "    #use max_depth as 5\n",
    "    rand_forest = RandomForestClassifier(n_estimators=100, random_state=RANDOM_STATE)\n",
    "    rand_forest.fit(X_train, Y_train)\n",
    "    Y_pred = rand_forest.predict(X_test)\n",
    "\n",
    "    return Y_pred"
   ]
  },
  {
   "cell_type": "code",
   "execution_count": 8,
   "id": "c90a220b",
   "metadata": {},
   "outputs": [],
   "source": [
    "def classification_metrics(Y_pred, Y_true):\n",
    "    #NOTE: It is important to provide the output in the same order\n",
    "    accuracy = accuracy_score(Y_true, Y_pred)\n",
    "    auc = roc_auc_score(Y_true, Y_pred)\n",
    "    precision = precision_score(Y_true, Y_pred)\n",
    "    recall = recall_score(Y_true, Y_pred)\n",
    "    fscore = f1_score(Y_true, Y_pred)\n",
    "\n",
    "    return accuracy, auc, precision, recall, fscore"
   ]
  },
  {
   "cell_type": "code",
   "execution_count": 9,
   "id": "c00cc830",
   "metadata": {},
   "outputs": [],
   "source": [
    "kfold = KFold(n_splits=10, shuffle = True,random_state=RANDOM_STATE)"
   ]
  },
  {
   "cell_type": "code",
   "execution_count": null,
   "id": "8bd640d8",
   "metadata": {},
   "outputs": [],
   "source": []
  },
  {
   "cell_type": "code",
   "execution_count": null,
   "id": "46ee1f4c",
   "metadata": {},
   "outputs": [],
   "source": []
  },
  {
   "cell_type": "code",
   "execution_count": null,
   "id": "d2a67336",
   "metadata": {},
   "outputs": [],
   "source": [
    "############### Logistic Regression #############"
   ]
  },
  {
   "cell_type": "code",
   "execution_count": 11,
   "id": "ea576d22",
   "metadata": {},
   "outputs": [],
   "source": [
    "def cv_logistic(X,Y,kfold):\n",
    "    \n",
    "    acc_list, auc_list = [], []\n",
    "\n",
    "    for train, test in kfold.split(X):\n",
    "        X_train, Y_train, X_fold, Y_true = X[train], Y[train], X[test], Y[test]\n",
    "\n",
    "        Y_pred = logistic_regression_pred(X_train, Y_train, X_fold)\n",
    "\n",
    "        metrics = classification_metrics(Y_pred, Y_true)\n",
    "        acc_list.append(metrics[0])\n",
    "        auc_list.append(metrics[1])\n",
    "\n",
    "    acc, auc = np.mean(acc_list), np.mean(auc_list)\n",
    "\n",
    "    return acc, auc"
   ]
  },
  {
   "cell_type": "code",
   "execution_count": 12,
   "id": "d3e5447c",
   "metadata": {},
   "outputs": [
    {
     "name": "stderr",
     "output_type": "stream",
     "text": [
      "D:\\anaconda3\\lib\\site-packages\\sklearn\\metrics\\_classification.py:1318: UndefinedMetricWarning: Precision is ill-defined and being set to 0.0 due to no predicted samples. Use `zero_division` parameter to control this behavior.\n",
      "  _warn_prf(average, modifier, msg_start, len(result))\n",
      "D:\\anaconda3\\lib\\site-packages\\sklearn\\metrics\\_classification.py:1318: UndefinedMetricWarning: Precision is ill-defined and being set to 0.0 due to no predicted samples. Use `zero_division` parameter to control this behavior.\n",
      "  _warn_prf(average, modifier, msg_start, len(result))\n",
      "D:\\anaconda3\\lib\\site-packages\\sklearn\\metrics\\_classification.py:1318: UndefinedMetricWarning: Precision is ill-defined and being set to 0.0 due to no predicted samples. Use `zero_division` parameter to control this behavior.\n",
      "  _warn_prf(average, modifier, msg_start, len(result))\n",
      "D:\\anaconda3\\lib\\site-packages\\sklearn\\metrics\\_classification.py:1318: UndefinedMetricWarning: Precision is ill-defined and being set to 0.0 due to no predicted samples. Use `zero_division` parameter to control this behavior.\n",
      "  _warn_prf(average, modifier, msg_start, len(result))\n",
      "D:\\anaconda3\\lib\\site-packages\\sklearn\\metrics\\_classification.py:1318: UndefinedMetricWarning: Precision is ill-defined and being set to 0.0 due to no predicted samples. Use `zero_division` parameter to control this behavior.\n",
      "  _warn_prf(average, modifier, msg_start, len(result))\n",
      "D:\\anaconda3\\lib\\site-packages\\sklearn\\metrics\\_classification.py:1318: UndefinedMetricWarning: Precision is ill-defined and being set to 0.0 due to no predicted samples. Use `zero_division` parameter to control this behavior.\n",
      "  _warn_prf(average, modifier, msg_start, len(result))\n",
      "D:\\anaconda3\\lib\\site-packages\\sklearn\\metrics\\_classification.py:1318: UndefinedMetricWarning: Precision is ill-defined and being set to 0.0 due to no predicted samples. Use `zero_division` parameter to control this behavior.\n",
      "  _warn_prf(average, modifier, msg_start, len(result))\n",
      "D:\\anaconda3\\lib\\site-packages\\sklearn\\metrics\\_classification.py:1318: UndefinedMetricWarning: Precision is ill-defined and being set to 0.0 due to no predicted samples. Use `zero_division` parameter to control this behavior.\n",
      "  _warn_prf(average, modifier, msg_start, len(result))\n"
     ]
    },
    {
     "name": "stdout",
     "output_type": "stream",
     "text": [
      "(0.6742857142857143, 0.5)\n"
     ]
    },
    {
     "name": "stderr",
     "output_type": "stream",
     "text": [
      "D:\\anaconda3\\lib\\site-packages\\sklearn\\metrics\\_classification.py:1318: UndefinedMetricWarning: Precision is ill-defined and being set to 0.0 due to no predicted samples. Use `zero_division` parameter to control this behavior.\n",
      "  _warn_prf(average, modifier, msg_start, len(result))\n",
      "D:\\anaconda3\\lib\\site-packages\\sklearn\\metrics\\_classification.py:1318: UndefinedMetricWarning: Precision is ill-defined and being set to 0.0 due to no predicted samples. Use `zero_division` parameter to control this behavior.\n",
      "  _warn_prf(average, modifier, msg_start, len(result))\n"
     ]
    }
   ],
   "source": [
    "print(cv_logistic(X_train,Y_train,kfold))"
   ]
  },
  {
   "cell_type": "code",
   "execution_count": null,
   "id": "00615527",
   "metadata": {},
   "outputs": [],
   "source": []
  },
  {
   "cell_type": "code",
   "execution_count": null,
   "id": "4b24a9e4",
   "metadata": {},
   "outputs": [],
   "source": [
    "################## SVM ################"
   ]
  },
  {
   "cell_type": "code",
   "execution_count": 13,
   "id": "48ad19eb",
   "metadata": {},
   "outputs": [],
   "source": [
    "def cv_svm(X,Y,kfold):\n",
    "\n",
    "    acc_list, auc_list = [], []\n",
    "\n",
    "    for train, test in kfold.split(X):\n",
    "        X_train, Y_train, X_fold, Y_true = X[train], Y[train], X[test], Y[test]\n",
    "\n",
    "        Y_pred = svm_pred(X_train, Y_train, X_fold)\n",
    "\n",
    "        metrics = classification_metrics(Y_pred, Y_true)\n",
    "        acc_list.append(metrics[0])\n",
    "        auc_list.append(metrics[1])\n",
    "\n",
    "    acc, auc = np.mean(acc_list), np.mean(auc_list)\n",
    "\n",
    "    return acc, auc"
   ]
  },
  {
   "cell_type": "code",
   "execution_count": 14,
   "id": "e12f9ebb",
   "metadata": {},
   "outputs": [
    {
     "name": "stdout",
     "output_type": "stream",
     "text": [
      "(0.6828571428571429, 0.5391110519914869)\n"
     ]
    }
   ],
   "source": [
    "print(cv_svm(X_train,Y_train,kfold))"
   ]
  },
  {
   "cell_type": "code",
   "execution_count": null,
   "id": "2546c359",
   "metadata": {},
   "outputs": [],
   "source": []
  },
  {
   "cell_type": "code",
   "execution_count": null,
   "id": "fae4e109",
   "metadata": {},
   "outputs": [],
   "source": []
  },
  {
   "cell_type": "code",
   "execution_count": null,
   "id": "a3b1a41a",
   "metadata": {},
   "outputs": [],
   "source": [
    "####################### Decision Tree ##############"
   ]
  },
  {
   "cell_type": "code",
   "execution_count": 15,
   "id": "27a03ecd",
   "metadata": {},
   "outputs": [],
   "source": [
    "def cv_decision_tree(X,Y,kfold):\n",
    "    acc_list, auc_list = [], []\n",
    "\n",
    "    for train, test in kfold.split(X):\n",
    "        X_train, Y_train, X_fold, Y_true = X[train], Y[train], X[test], Y[test]\n",
    "\n",
    "        Y_pred = decisionTree_pred(X_train, Y_train, X_fold)\n",
    "\n",
    "        metrics = classification_metrics(Y_pred, Y_true)\n",
    "        acc_list.append(metrics[0])\n",
    "        auc_list.append(metrics[1])\n",
    "\n",
    "    acc, auc = np.mean(acc_list), np.mean(auc_list)\n",
    "\n",
    "    return acc, auc"
   ]
  },
  {
   "cell_type": "code",
   "execution_count": 16,
   "id": "5b4f6d03",
   "metadata": {},
   "outputs": [
    {
     "name": "stdout",
     "output_type": "stream",
     "text": [
      "(0.7, 0.5983108284630023)\n"
     ]
    }
   ],
   "source": [
    "print(cv_decision_tree(X_train,Y_train,kfold))"
   ]
  },
  {
   "cell_type": "code",
   "execution_count": null,
   "id": "14fe8d5e",
   "metadata": {},
   "outputs": [],
   "source": []
  },
  {
   "cell_type": "code",
   "execution_count": null,
   "id": "533f0bcf",
   "metadata": {},
   "outputs": [],
   "source": [
    "################### Random Forest ###################"
   ]
  },
  {
   "cell_type": "code",
   "execution_count": 17,
   "id": "d5b76cee",
   "metadata": {},
   "outputs": [],
   "source": [
    "def cv_random_forest(X,Y,kfold):\n",
    "    acc_list, auc_list = [], []\n",
    "\n",
    "    for train, test in kfold.split(X):\n",
    "        X_train, Y_train, X_fold, Y_true = X[train], Y[train], X[test], Y[test]\n",
    "\n",
    "        Y_pred = randomForest_pred(X_train, Y_train, X_fold)\n",
    "\n",
    "        metrics = classification_metrics(Y_pred, Y_true)\n",
    "        acc_list.append(metrics[0])\n",
    "        auc_list.append(metrics[1])\n",
    "\n",
    "    acc, auc = np.mean(acc_list), np.mean(auc_list)\n",
    "\n",
    "    return acc, auc"
   ]
  },
  {
   "cell_type": "code",
   "execution_count": 18,
   "id": "8c53fd02",
   "metadata": {},
   "outputs": [
    {
     "name": "stdout",
     "output_type": "stream",
     "text": [
      "(0.6857142857142857, 0.5970265165591252)\n"
     ]
    }
   ],
   "source": [
    "print(cv_random_forest(X_train,Y_train,kfold))"
   ]
  },
  {
   "cell_type": "code",
   "execution_count": null,
   "id": "508ce2c2",
   "metadata": {},
   "outputs": [],
   "source": []
  },
  {
   "cell_type": "code",
   "execution_count": null,
   "id": "eb66bf8a",
   "metadata": {},
   "outputs": [],
   "source": []
  },
  {
   "cell_type": "code",
   "execution_count": 19,
   "id": "146da657",
   "metadata": {},
   "outputs": [],
   "source": [
    "######################## Run the test data on the models ###########"
   ]
  },
  {
   "cell_type": "code",
   "execution_count": 20,
   "id": "706aab21",
   "metadata": {},
   "outputs": [],
   "source": [
    "#input: Name of classifier, predicted labels, actual labels\n",
    "def display_metrics(classifierName,Y_pred,Y_true):\n",
    "    print(\"______________________________________________\")\n",
    "    print( \"Classifier: \"+classifierName)\n",
    "    acc, auc_, precision, recall, f1score = classification_metrics(Y_pred,Y_true)\n",
    "    print( \"Accuracy: \"+str(acc))\n",
    "    print( \"AUC: \"+str(auc_))\n",
    "    print( \"Precision: \"+str(precision))\n",
    "    print( \"Recall: \"+str(recall))\n",
    "    print( \"F1-score: \"+str(f1score))\n",
    "    print( \"______________________________________________\")"
   ]
  },
  {
   "cell_type": "code",
   "execution_count": 21,
   "id": "525aa15a",
   "metadata": {},
   "outputs": [
    {
     "name": "stdout",
     "output_type": "stream",
     "text": [
      "______________________________________________\n",
      "Classifier: Logistic Regression\n",
      "Accuracy: 0.6363636363636364\n",
      "AUC: 0.5\n",
      "Precision: 0.0\n",
      "Recall: 0.0\n",
      "F1-score: 0.0\n",
      "______________________________________________\n",
      "______________________________________________\n",
      "Classifier: SVM\n",
      "Accuracy: 0.6818181818181818\n",
      "AUC: 0.5825892857142857\n",
      "Precision: 0.7\n",
      "Recall: 0.21875\n",
      "F1-score: 0.3333333333333333\n",
      "______________________________________________\n",
      "______________________________________________\n",
      "Classifier: Decision Tree\n",
      "Accuracy: 0.7045454545454546\n",
      "AUC: 0.6473214285714286\n",
      "Precision: 0.6363636363636364\n",
      "Recall: 0.4375\n",
      "F1-score: 0.5185185185185185\n",
      "______________________________________________\n"
     ]
    },
    {
     "name": "stderr",
     "output_type": "stream",
     "text": [
      "D:\\anaconda3\\lib\\site-packages\\sklearn\\metrics\\_classification.py:1318: UndefinedMetricWarning: Precision is ill-defined and being set to 0.0 due to no predicted samples. Use `zero_division` parameter to control this behavior.\n",
      "  _warn_prf(average, modifier, msg_start, len(result))\n"
     ]
    },
    {
     "name": "stdout",
     "output_type": "stream",
     "text": [
      "______________________________________________\n",
      "Classifier: Random Forest\n",
      "Accuracy: 0.7386363636363636\n",
      "AUC: 0.6741071428571428\n",
      "Precision: 0.7368421052631579\n",
      "Recall: 0.4375\n",
      "F1-score: 0.5490196078431372\n",
      "______________________________________________\n"
     ]
    }
   ],
   "source": [
    "display_metrics(\"Logistic Regression\",logistic_regression_pred(X_train,Y_train,X_test),Y_test)\n",
    "\n",
    "display_metrics(\"SVM\",svm_pred(X_train,Y_train,X_test),Y_test)\n",
    "\n",
    "display_metrics(\"Decision Tree\",decisionTree_pred(X_train,Y_train,X_test),Y_test)\n",
    "\n",
    "display_metrics(\"Random Forest\",randomForest_pred(X_train,Y_train,X_test),Y_test)"
   ]
  },
  {
   "cell_type": "code",
   "execution_count": null,
   "id": "feafd14e",
   "metadata": {},
   "outputs": [],
   "source": []
  }
 ],
 "metadata": {
  "kernelspec": {
   "display_name": "Python 3 (ipykernel)",
   "language": "python",
   "name": "python3"
  },
  "language_info": {
   "codemirror_mode": {
    "name": "ipython",
    "version": 3
   },
   "file_extension": ".py",
   "mimetype": "text/x-python",
   "name": "python",
   "nbconvert_exporter": "python",
   "pygments_lexer": "ipython3",
   "version": "3.9.7"
  }
 },
 "nbformat": 4,
 "nbformat_minor": 5
}
