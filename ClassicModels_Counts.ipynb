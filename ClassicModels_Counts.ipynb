{
 "cells": [
  {
   "cell_type": "code",
   "execution_count": 1,
   "id": "bf9d6659",
   "metadata": {},
   "outputs": [],
   "source": [
    "import numpy as np\n",
    "\n",
    "from sklearn.model_selection import train_test_split\n",
    "from sklearn.linear_model import LogisticRegression\n",
    "from sklearn.svm import LinearSVC\n",
    "from sklearn.tree import DecisionTreeClassifier\n",
    "from sklearn.ensemble import RandomForestClassifier\n",
    "from sklearn.metrics import *\n",
    "\n",
    "from sklearn.datasets import load_svmlight_file"
   ]
  },
  {
   "cell_type": "code",
   "execution_count": 2,
   "id": "1665601c",
   "metadata": {},
   "outputs": [],
   "source": [
    "without_time = False\n",
    "\n",
    "if without_time:\n",
    "    N_FEAT = 36765\n",
    "    svmlight_file = \"../cleaned_data/features_svmlight_eventCounts.train\"\n",
    "else:\n",
    "    N_FEAT = 36807\n",
    "    svmlight_file = \"../cleaned_data/features_svmlight_eventCounts_wt.train\""
   ]
  },
  {
   "cell_type": "code",
   "execution_count": 3,
   "id": "ec417081",
   "metadata": {},
   "outputs": [],
   "source": [
    "def get_data_from_svmlight(svmlight_file):\n",
    "    data_train = load_svmlight_file(svmlight_file,n_features=N_FEAT)\n",
    "    X_train = data_train[0]\n",
    "    Y_train = data_train[1]\n",
    "    return X_train, Y_train"
   ]
  },
  {
   "cell_type": "code",
   "execution_count": 4,
   "id": "c8fc8fcc",
   "metadata": {},
   "outputs": [],
   "source": [
    "RANDOM_STATE = 6250"
   ]
  },
  {
   "cell_type": "code",
   "execution_count": 5,
   "id": "af3d7312",
   "metadata": {},
   "outputs": [],
   "source": [
    "X, Y = get_data_from_svmlight(svmlight_file)"
   ]
  },
  {
   "cell_type": "code",
   "execution_count": 6,
   "id": "3838de3b",
   "metadata": {},
   "outputs": [],
   "source": [
    "X_train, X_test, Y_train, Y_test = train_test_split(X, Y, test_size=0.2, random_state=RANDOM_STATE)"
   ]
  },
  {
   "cell_type": "code",
   "execution_count": null,
   "id": "af34ebb3",
   "metadata": {},
   "outputs": [],
   "source": [
    "# Cross-validation\n",
    "\n",
    "# https://scikit-learn.org/stable/modules/cross_validation.html\n",
    "\n",
    "# Logistic Regression\n",
    "# https://www.datacamp.com/tutorial/understanding-logistic-regression-python\n",
    "\n",
    "# SVM support vector machine\n",
    "# https://scikit-learn.org/dev/versions.html\n",
    "# https://scikit-learn.org/stable/modules/generated/sklearn.svm.LinearSVC.html\n",
    "\n",
    "\n",
    "# decision tree\n",
    "# https://scikit-learn.org/stable/modules/tree.html\n",
    "\n",
    "# random forest\n",
    "# https://scikit-learn.org/stable/modules/generated/sklearn.ensemble.RandomForestClassifier.html"
   ]
  },
  {
   "cell_type": "code",
   "execution_count": 7,
   "id": "91b9a43e",
   "metadata": {},
   "outputs": [],
   "source": [
    "#input: X_train, Y_train\n",
    "#output: Y_pred\n",
    "def logistic_regression_pred(X_train, Y_train, X_test):\n",
    "    #train a logistic regression classifier using X_train and Y_train. Use this to predict labels of X_train\n",
    "    #use default params for the classifier\n",
    "    log_reg = LogisticRegression(random_state=RANDOM_STATE)\n",
    "    log_reg.fit(X_train, Y_train)\n",
    "    Y_pred = log_reg.predict(X_test)\n",
    "\n",
    "    return Y_pred\n",
    "\n",
    "\n",
    "#input: X_train, Y_train\n",
    "#output: Y_pred\n",
    "def svm_pred(X_train, Y_train, X_test):\n",
    "    #train a SVM classifier using X_train and Y_train. Use this to predict labels of X_train\n",
    "    #use default params for the classifier\n",
    "    lin_svc = LinearSVC(random_state=RANDOM_STATE)\n",
    "    lin_svc.fit(X_train, Y_train)\n",
    "    Y_pred = lin_svc.predict(X_test)\n",
    "\n",
    "    return Y_pred\n",
    "\n",
    "\n",
    "#input: X_train, Y_train\n",
    "#output: Y_pred\n",
    "def decisionTree_pred(X_train, Y_train, X_test):\n",
    "    #train a logistic regression classifier using X_train and Y_train. Use this to predict labels of X_train\n",
    "    #use max_depth as 5\n",
    "    dec_tree = DecisionTreeClassifier(max_depth=5, random_state=RANDOM_STATE)\n",
    "    dec_tree.fit(X_train, Y_train)\n",
    "    Y_pred = dec_tree.predict(X_test)\n",
    "\n",
    "    return Y_pred\n",
    "\n",
    "\n",
    "#input: X_train, Y_train\n",
    "#output: Y_pred\n",
    "def randomForest_pred(X_train, Y_train, X_test):\n",
    "    #train a logistic regression classifier using X_train and Y_train. Use this to predict labels of X_train\n",
    "    #use max_depth as 5\n",
    "    rand_forest = RandomForestClassifier(n_estimators=100, random_state=RANDOM_STATE)\n",
    "    rand_forest.fit(X_train, Y_train)\n",
    "    Y_pred = rand_forest.predict(X_test)\n",
    "\n",
    "    return Y_pred"
   ]
  },
  {
   "cell_type": "code",
   "execution_count": 8,
   "id": "1367f40c",
   "metadata": {},
   "outputs": [],
   "source": [
    "def classification_metrics(Y_pred, Y_true):\n",
    "    #NOTE: It is important to provide the output in the same order\n",
    "    accuracy = accuracy_score(Y_true, Y_pred)\n",
    "    auc = roc_auc_score(Y_true, Y_pred)\n",
    "    precision = precision_score(Y_true, Y_pred)\n",
    "    recall = recall_score(Y_true, Y_pred)\n",
    "    fscore = f1_score(Y_true, Y_pred)\n",
    "\n",
    "    return accuracy, auc, precision, recall, fscore"
   ]
  },
  {
   "cell_type": "code",
   "execution_count": 9,
   "id": "bbba3663",
   "metadata": {},
   "outputs": [
    {
     "data": {
      "text/plain": [
       "(350, 36807)"
      ]
     },
     "execution_count": 9,
     "metadata": {},
     "output_type": "execute_result"
    }
   ],
   "source": [
    "X_train.shape"
   ]
  },
  {
   "cell_type": "code",
   "execution_count": 10,
   "id": "83c265a1",
   "metadata": {},
   "outputs": [
    {
     "data": {
      "text/plain": [
       "350"
      ]
     },
     "execution_count": 10,
     "metadata": {},
     "output_type": "execute_result"
    }
   ],
   "source": [
    "np.shape(X_train)[0]"
   ]
  },
  {
   "cell_type": "code",
   "execution_count": 11,
   "id": "b0c9e002",
   "metadata": {},
   "outputs": [
    {
     "name": "stdout",
     "output_type": "stream",
     "text": [
      "350\n"
     ]
    }
   ],
   "source": [
    "print(np.shape(X_train)[0])"
   ]
  },
  {
   "cell_type": "code",
   "execution_count": 13,
   "id": "6cb3a4d4",
   "metadata": {},
   "outputs": [],
   "source": [
    "from sklearn.model_selection import KFold\n",
    "kfold = KFold(n_splits=10, shuffle = True,random_state=RANDOM_STATE)"
   ]
  },
  {
   "cell_type": "code",
   "execution_count": null,
   "id": "35ab3792",
   "metadata": {},
   "outputs": [],
   "source": [
    "############### Logistic Regression #############"
   ]
  },
  {
   "cell_type": "code",
   "execution_count": 14,
   "id": "bdc2f32a",
   "metadata": {},
   "outputs": [],
   "source": [
    "def cv_logistic(X,Y,kfold):\n",
    "    \n",
    "    acc_list, auc_list = [], []\n",
    "\n",
    "    for train, test in kfold.split(X):\n",
    "        X_train, Y_train, X_fold, Y_true = X[train], Y[train], X[test], Y[test]\n",
    "\n",
    "        Y_pred = logistic_regression_pred(X_train, Y_train, X_fold)\n",
    "\n",
    "        metrics = classification_metrics(Y_pred, Y_true)\n",
    "        acc_list.append(metrics[0])\n",
    "        auc_list.append(metrics[1])\n",
    "\n",
    "    acc, auc = np.mean(acc_list), np.mean(auc_list)\n",
    "\n",
    "    return acc, auc"
   ]
  },
  {
   "cell_type": "code",
   "execution_count": 15,
   "id": "bcffe1c8",
   "metadata": {},
   "outputs": [
    {
     "name": "stdout",
     "output_type": "stream",
     "text": [
      "(0.8285714285714286, 0.7908113352026396)\n"
     ]
    }
   ],
   "source": [
    "print(cv_logistic(X_train,Y_train,kfold))"
   ]
  },
  {
   "cell_type": "code",
   "execution_count": 16,
   "id": "01a06646",
   "metadata": {},
   "outputs": [],
   "source": [
    "################## SVM ################"
   ]
  },
  {
   "cell_type": "code",
   "execution_count": 17,
   "id": "9d8ab965",
   "metadata": {},
   "outputs": [],
   "source": [
    "def cv_svm(X,Y,kfold):\n",
    "\n",
    "    acc_list, auc_list = [], []\n",
    "\n",
    "    for train, test in kfold.split(X):\n",
    "        X_train, Y_train, X_fold, Y_true = X[train], Y[train], X[test], Y[test]\n",
    "\n",
    "        Y_pred = svm_pred(X_train, Y_train, X_fold)\n",
    "\n",
    "        metrics = classification_metrics(Y_pred, Y_true)\n",
    "        acc_list.append(metrics[0])\n",
    "        auc_list.append(metrics[1])\n",
    "\n",
    "    acc, auc = np.mean(acc_list), np.mean(auc_list)\n",
    "\n",
    "    return acc, auc"
   ]
  },
  {
   "cell_type": "code",
   "execution_count": 18,
   "id": "8b0d6780",
   "metadata": {},
   "outputs": [
    {
     "name": "stdout",
     "output_type": "stream",
     "text": [
      "(0.8371428571428572, 0.8191303644021035)\n"
     ]
    }
   ],
   "source": [
    "print(cv_svm(X_train,Y_train,kfold))"
   ]
  },
  {
   "cell_type": "code",
   "execution_count": null,
   "id": "3fe421f6",
   "metadata": {},
   "outputs": [],
   "source": []
  },
  {
   "cell_type": "code",
   "execution_count": 19,
   "id": "68843daf",
   "metadata": {},
   "outputs": [],
   "source": [
    "####################### Decision Tree ##############"
   ]
  },
  {
   "cell_type": "code",
   "execution_count": 20,
   "id": "18f36717",
   "metadata": {},
   "outputs": [],
   "source": [
    "def cv_decision_tree(X,Y,kfold):\n",
    "    acc_list, auc_list = [], []\n",
    "\n",
    "    for train, test in kfold.split(X):\n",
    "        X_train, Y_train, X_fold, Y_true = X[train], Y[train], X[test], Y[test]\n",
    "\n",
    "        Y_pred = decisionTree_pred(X_train, Y_train, X_fold)\n",
    "\n",
    "        metrics = classification_metrics(Y_pred, Y_true)\n",
    "        acc_list.append(metrics[0])\n",
    "        auc_list.append(metrics[1])\n",
    "\n",
    "    acc, auc = np.mean(acc_list), np.mean(auc_list)\n",
    "\n",
    "    return acc, auc"
   ]
  },
  {
   "cell_type": "code",
   "execution_count": 21,
   "id": "029861d0",
   "metadata": {},
   "outputs": [
    {
     "name": "stdout",
     "output_type": "stream",
     "text": [
      "(0.8371428571428572, 0.790300775311645)\n"
     ]
    }
   ],
   "source": [
    "print(cv_decision_tree(X_train,Y_train,kfold))"
   ]
  },
  {
   "cell_type": "code",
   "execution_count": null,
   "id": "8c8deed8",
   "metadata": {},
   "outputs": [],
   "source": []
  },
  {
   "cell_type": "code",
   "execution_count": 22,
   "id": "9a9fce93",
   "metadata": {},
   "outputs": [],
   "source": [
    "################### Random Forest ###################"
   ]
  },
  {
   "cell_type": "code",
   "execution_count": 23,
   "id": "37bf51d6",
   "metadata": {},
   "outputs": [],
   "source": [
    "def cv_random_forest(X,Y,kfold):\n",
    "    acc_list, auc_list = [], []\n",
    "\n",
    "    for train, test in kfold.split(X):\n",
    "        X_train, Y_train, X_fold, Y_true = X[train], Y[train], X[test], Y[test]\n",
    "\n",
    "        Y_pred = randomForest_pred(X_train, Y_train, X_fold)\n",
    "\n",
    "        metrics = classification_metrics(Y_pred, Y_true)\n",
    "        acc_list.append(metrics[0])\n",
    "        auc_list.append(metrics[1])\n",
    "\n",
    "    acc, auc = np.mean(acc_list), np.mean(auc_list)\n",
    "\n",
    "    return acc, auc"
   ]
  },
  {
   "cell_type": "code",
   "execution_count": 24,
   "id": "c4c424c8",
   "metadata": {},
   "outputs": [
    {
     "name": "stdout",
     "output_type": "stream",
     "text": [
      "(0.7942857142857143, 0.6988470603470605)\n"
     ]
    }
   ],
   "source": [
    "print(cv_random_forest(X_train,Y_train,kfold))"
   ]
  },
  {
   "cell_type": "code",
   "execution_count": null,
   "id": "3fa0c22a",
   "metadata": {},
   "outputs": [],
   "source": []
  },
  {
   "cell_type": "code",
   "execution_count": null,
   "id": "12d6b7e5",
   "metadata": {},
   "outputs": [],
   "source": []
  },
  {
   "cell_type": "code",
   "execution_count": 25,
   "id": "4f843d2e",
   "metadata": {},
   "outputs": [],
   "source": [
    "######################## Run the test data on the models ###########"
   ]
  },
  {
   "cell_type": "code",
   "execution_count": 27,
   "id": "a25c00bf",
   "metadata": {},
   "outputs": [],
   "source": [
    "#input: Name of classifier, predicted labels, actual labels\n",
    "def display_metrics(classifierName,Y_pred,Y_true):\n",
    "    print(\"______________________________________________\")\n",
    "    print( \"Classifier: \"+classifierName)\n",
    "    acc, auc_, precision, recall, f1score = classification_metrics(Y_pred,Y_true)\n",
    "    print( \"Accuracy: \"+str(acc))\n",
    "    print( \"AUC: \"+str(auc_))\n",
    "    print( \"Precision: \"+str(precision))\n",
    "    print( \"Recall: \"+str(recall))\n",
    "    print( \"F1-score: \"+str(f1score))\n",
    "    print( \"______________________________________________\")"
   ]
  },
  {
   "cell_type": "code",
   "execution_count": 28,
   "id": "235bcebd",
   "metadata": {},
   "outputs": [
    {
     "name": "stdout",
     "output_type": "stream",
     "text": [
      "______________________________________________\n",
      "Classifier: Logistic Regression\n",
      "Accuracy: 0.8977272727272727\n",
      "AUC: 0.8861607142857143\n",
      "Precision: 0.8709677419354839\n",
      "Recall: 0.84375\n",
      "F1-score: 0.8571428571428571\n",
      "______________________________________________\n",
      "______________________________________________\n",
      "Classifier: SVM\n",
      "Accuracy: 0.875\n",
      "AUC: 0.8683035714285715\n",
      "Precision: 0.8181818181818182\n",
      "Recall: 0.84375\n",
      "F1-score: 0.8307692307692308\n",
      "______________________________________________\n",
      "______________________________________________\n",
      "Classifier: Decision Tree\n",
      "Accuracy: 0.9090909090909091\n",
      "AUC: 0.8883928571428572\n",
      "Precision: 0.9285714285714286\n",
      "Recall: 0.8125\n",
      "F1-score: 0.8666666666666666\n",
      "______________________________________________\n",
      "______________________________________________\n",
      "Classifier: Random Forest\n",
      "Accuracy: 0.8295454545454546\n",
      "AUC: 0.7790178571428572\n",
      "Precision: 0.9047619047619048\n",
      "Recall: 0.59375\n",
      "F1-score: 0.7169811320754718\n",
      "______________________________________________\n"
     ]
    }
   ],
   "source": [
    "display_metrics(\"Logistic Regression\",logistic_regression_pred(X_train,Y_train,X_test),Y_test)\n",
    "\n",
    "display_metrics(\"SVM\",svm_pred(X_train,Y_train,X_test),Y_test)\n",
    "\n",
    "display_metrics(\"Decision Tree\",decisionTree_pred(X_train,Y_train,X_test),Y_test)\n",
    "\n",
    "display_metrics(\"Random Forest\",randomForest_pred(X_train,Y_train,X_test),Y_test)"
   ]
  },
  {
   "cell_type": "code",
   "execution_count": null,
   "id": "71f0e429",
   "metadata": {},
   "outputs": [],
   "source": []
  }
 ],
 "metadata": {
  "kernelspec": {
   "display_name": "Python 3 (ipykernel)",
   "language": "python",
   "name": "python3"
  },
  "language_info": {
   "codemirror_mode": {
    "name": "ipython",
    "version": 3
   },
   "file_extension": ".py",
   "mimetype": "text/x-python",
   "name": "python",
   "nbconvert_exporter": "python",
   "pygments_lexer": "ipython3",
   "version": "3.9.7"
  }
 },
 "nbformat": 4,
 "nbformat_minor": 5
}
