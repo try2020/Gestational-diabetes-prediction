{
 "cells": [
  {
   "cell_type": "code",
   "execution_count": 1,
   "id": "048cd08b",
   "metadata": {},
   "outputs": [],
   "source": [
    "import pandas as pd\n",
    "import numpy as np\n",
    "import matplotlib.pyplot as plt\n",
    "%matplotlib inline"
   ]
  },
  {
   "cell_type": "code",
   "execution_count": 2,
   "id": "31fc69a8",
   "metadata": {},
   "outputs": [],
   "source": [
    "with_time = True\n",
    "if with_time:\n",
    "    all_events = pd.read_csv('../cleaned_data/all_events_data_w_time.csv')\n",
    "else:\n",
    "    all_events = pd.read_csv('../cleaned_data/all_events_data.csv')"
   ]
  },
  {
   "cell_type": "code",
   "execution_count": 3,
   "id": "0b98cd94",
   "metadata": {},
   "outputs": [
    {
     "data": {
      "text/html": [
       "<div>\n",
       "<style scoped>\n",
       "    .dataframe tbody tr th:only-of-type {\n",
       "        vertical-align: middle;\n",
       "    }\n",
       "\n",
       "    .dataframe tbody tr th {\n",
       "        vertical-align: top;\n",
       "    }\n",
       "\n",
       "    .dataframe thead th {\n",
       "        text-align: right;\n",
       "    }\n",
       "</style>\n",
       "<table border=\"1\" class=\"dataframe\">\n",
       "  <thead>\n",
       "    <tr style=\"text-align: right;\">\n",
       "      <th></th>\n",
       "      <th>Unnamed: 0</th>\n",
       "      <th>events</th>\n",
       "      <th>subject_id</th>\n",
       "      <th>time</th>\n",
       "      <th>eve_index</th>\n",
       "    </tr>\n",
       "  </thead>\n",
       "  <tbody>\n",
       "    <tr>\n",
       "      <th>0</th>\n",
       "      <td>0</td>\n",
       "      <td>V3000</td>\n",
       "      <td>10000019</td>\n",
       "      <td>2129-05-21 19:16:00</td>\n",
       "      <td>26446</td>\n",
       "    </tr>\n",
       "    <tr>\n",
       "      <th>1</th>\n",
       "      <td>1</td>\n",
       "      <td>640</td>\n",
       "      <td>10000019</td>\n",
       "      <td>2129-05-21 19:16:00</td>\n",
       "      <td>5346</td>\n",
       "    </tr>\n",
       "    <tr>\n",
       "      <th>2</th>\n",
       "      <td>2</td>\n",
       "      <td>V290</td>\n",
       "      <td>10000019</td>\n",
       "      <td>2129-05-21 19:16:00</td>\n",
       "      <td>26425</td>\n",
       "    </tr>\n",
       "    <tr>\n",
       "      <th>3</th>\n",
       "      <td>3</td>\n",
       "      <td>V053</td>\n",
       "      <td>10000019</td>\n",
       "      <td>2129-05-21 19:16:00</td>\n",
       "      <td>26072</td>\n",
       "    </tr>\n",
       "    <tr>\n",
       "      <th>4</th>\n",
       "      <td>4</td>\n",
       "      <td>V502</td>\n",
       "      <td>10000019</td>\n",
       "      <td>2129-05-21 19:16:00</td>\n",
       "      <td>26637</td>\n",
       "    </tr>\n",
       "  </tbody>\n",
       "</table>\n",
       "</div>"
      ],
      "text/plain": [
       "   Unnamed: 0 events  subject_id                 time  eve_index\n",
       "0           0  V3000    10000019  2129-05-21 19:16:00      26446\n",
       "1           1    640    10000019  2129-05-21 19:16:00       5346\n",
       "2           2   V290    10000019  2129-05-21 19:16:00      26425\n",
       "3           3   V053    10000019  2129-05-21 19:16:00      26072\n",
       "4           4   V502    10000019  2129-05-21 19:16:00      26637"
      ]
     },
     "execution_count": 3,
     "metadata": {},
     "output_type": "execute_result"
    }
   ],
   "source": [
    "all_events.head()"
   ]
  },
  {
   "cell_type": "code",
   "execution_count": 4,
   "id": "9070ff20",
   "metadata": {},
   "outputs": [
    {
     "data": {
      "text/plain": [
       "(256855,)"
      ]
     },
     "execution_count": 4,
     "metadata": {},
     "output_type": "execute_result"
    }
   ],
   "source": [
    "np.unique(all_events.subject_id).shape"
   ]
  },
  {
   "cell_type": "code",
   "execution_count": 5,
   "id": "d219727b",
   "metadata": {},
   "outputs": [],
   "source": [
    "# event counts of all ids\n",
    "all_count = all_events.groupby('subject_id')['eve_index'].agg([('count',lambda x: len(x))])"
   ]
  },
  {
   "cell_type": "code",
   "execution_count": 6,
   "id": "1718a7d3",
   "metadata": {},
   "outputs": [],
   "source": [
    "all_count.reset_index(inplace=True)"
   ]
  },
  {
   "cell_type": "code",
   "execution_count": 7,
   "id": "220ee5a7",
   "metadata": {},
   "outputs": [
    {
     "data": {
      "text/html": [
       "<div>\n",
       "<style scoped>\n",
       "    .dataframe tbody tr th:only-of-type {\n",
       "        vertical-align: middle;\n",
       "    }\n",
       "\n",
       "    .dataframe tbody tr th {\n",
       "        vertical-align: top;\n",
       "    }\n",
       "\n",
       "    .dataframe thead th {\n",
       "        text-align: right;\n",
       "    }\n",
       "</style>\n",
       "<table border=\"1\" class=\"dataframe\">\n",
       "  <thead>\n",
       "    <tr style=\"text-align: right;\">\n",
       "      <th></th>\n",
       "      <th>subject_id</th>\n",
       "      <th>count</th>\n",
       "    </tr>\n",
       "  </thead>\n",
       "  <tbody>\n",
       "    <tr>\n",
       "      <th>0</th>\n",
       "      <td>10000019</td>\n",
       "      <td>10</td>\n",
       "    </tr>\n",
       "    <tr>\n",
       "      <th>1</th>\n",
       "      <td>10000032</td>\n",
       "      <td>127</td>\n",
       "    </tr>\n",
       "    <tr>\n",
       "      <th>2</th>\n",
       "      <td>10000044</td>\n",
       "      <td>7</td>\n",
       "    </tr>\n",
       "    <tr>\n",
       "      <th>3</th>\n",
       "      <td>10000068</td>\n",
       "      <td>2</td>\n",
       "    </tr>\n",
       "    <tr>\n",
       "      <th>4</th>\n",
       "      <td>10000074</td>\n",
       "      <td>6</td>\n",
       "    </tr>\n",
       "  </tbody>\n",
       "</table>\n",
       "</div>"
      ],
      "text/plain": [
       "   subject_id  count\n",
       "0    10000019     10\n",
       "1    10000032    127\n",
       "2    10000044      7\n",
       "3    10000068      2\n",
       "4    10000074      6"
      ]
     },
     "execution_count": 7,
     "metadata": {},
     "output_type": "execute_result"
    }
   ],
   "source": [
    "all_count.head()"
   ]
  },
  {
   "cell_type": "code",
   "execution_count": 8,
   "id": "8cf1b4b0",
   "metadata": {},
   "outputs": [
    {
     "data": {
      "text/html": [
       "<div>\n",
       "<style scoped>\n",
       "    .dataframe tbody tr th:only-of-type {\n",
       "        vertical-align: middle;\n",
       "    }\n",
       "\n",
       "    .dataframe tbody tr th {\n",
       "        vertical-align: top;\n",
       "    }\n",
       "\n",
       "    .dataframe thead th {\n",
       "        text-align: right;\n",
       "    }\n",
       "</style>\n",
       "<table border=\"1\" class=\"dataframe\">\n",
       "  <thead>\n",
       "    <tr style=\"text-align: right;\">\n",
       "      <th></th>\n",
       "      <th>subject_id</th>\n",
       "      <th>count</th>\n",
       "    </tr>\n",
       "  </thead>\n",
       "  <tbody>\n",
       "    <tr>\n",
       "      <th>count</th>\n",
       "      <td>2.568550e+05</td>\n",
       "      <td>256855.000000</td>\n",
       "    </tr>\n",
       "    <tr>\n",
       "      <th>mean</th>\n",
       "      <td>1.501198e+07</td>\n",
       "      <td>92.157342</td>\n",
       "    </tr>\n",
       "    <tr>\n",
       "      <th>std</th>\n",
       "      <td>2.885680e+06</td>\n",
       "      <td>196.270050</td>\n",
       "    </tr>\n",
       "    <tr>\n",
       "      <th>min</th>\n",
       "      <td>1.000002e+07</td>\n",
       "      <td>1.000000</td>\n",
       "    </tr>\n",
       "    <tr>\n",
       "      <th>25%</th>\n",
       "      <td>1.251270e+07</td>\n",
       "      <td>11.000000</td>\n",
       "    </tr>\n",
       "    <tr>\n",
       "      <th>50%</th>\n",
       "      <td>1.501746e+07</td>\n",
       "      <td>33.000000</td>\n",
       "    </tr>\n",
       "    <tr>\n",
       "      <th>75%</th>\n",
       "      <td>1.751055e+07</td>\n",
       "      <td>94.000000</td>\n",
       "    </tr>\n",
       "    <tr>\n",
       "      <th>max</th>\n",
       "      <td>1.999999e+07</td>\n",
       "      <td>9529.000000</td>\n",
       "    </tr>\n",
       "  </tbody>\n",
       "</table>\n",
       "</div>"
      ],
      "text/plain": [
       "         subject_id          count\n",
       "count  2.568550e+05  256855.000000\n",
       "mean   1.501198e+07      92.157342\n",
       "std    2.885680e+06     196.270050\n",
       "min    1.000002e+07       1.000000\n",
       "25%    1.251270e+07      11.000000\n",
       "50%    1.501746e+07      33.000000\n",
       "75%    1.751055e+07      94.000000\n",
       "max    1.999999e+07    9529.000000"
      ]
     },
     "execution_count": 8,
     "metadata": {},
     "output_type": "execute_result"
    }
   ],
   "source": [
    "all_count.describe()"
   ]
  },
  {
   "cell_type": "code",
   "execution_count": 9,
   "id": "1459eb74",
   "metadata": {},
   "outputs": [],
   "source": [
    "# Control / Case group\n",
    "case_id1 = pd.unique(all_events.loc[all_events['events'].str[:15] == 'O24424','subject_id'])"
   ]
  },
  {
   "cell_type": "code",
   "execution_count": 10,
   "id": "6bf4ddd4",
   "metadata": {},
   "outputs": [],
   "source": [
    "case_id2 = pd.unique(all_events.loc[all_events['events'].str[:15] == 'O24429','subject_id'])"
   ]
  },
  {
   "cell_type": "code",
   "execution_count": 11,
   "id": "17910464",
   "metadata": {},
   "outputs": [],
   "source": [
    "case_id3 = pd.unique(all_events.loc[all_events['events'].str[:15] == 'O24420','subject_id'])"
   ]
  },
  {
   "cell_type": "code",
   "execution_count": 12,
   "id": "2ad7a341",
   "metadata": {},
   "outputs": [],
   "source": [
    "case_id4 = pd.unique(all_events.loc[all_events['events'].str[:15] == 'O24410','subject_id'])"
   ]
  },
  {
   "cell_type": "code",
   "execution_count": 13,
   "id": "4e05dfeb",
   "metadata": {},
   "outputs": [],
   "source": [
    "case_id5 = pd.unique(all_events.loc[all_events['events'].str[:15] == 'O24414','subject_id'])"
   ]
  },
  {
   "cell_type": "code",
   "execution_count": 14,
   "id": "6546540c",
   "metadata": {},
   "outputs": [],
   "source": [
    "case_id6 = pd.unique(all_events.loc[all_events['events'].str[:15] == 'O24419','subject_id'])"
   ]
  },
  {
   "cell_type": "code",
   "execution_count": 15,
   "id": "d18d9488",
   "metadata": {},
   "outputs": [],
   "source": [
    "case_id7 = pd.unique(all_events.loc[all_events['events'].str[:15] == 'O24430','subject_id'])\n",
    "case_id8 = pd.unique(all_events.loc[all_events['events'].str[:15] == 'O24434','subject_id'])\n",
    "case_id9 = pd.unique(all_events.loc[all_events['events'].str[:15] == 'O24439','subject_id'])"
   ]
  },
  {
   "cell_type": "code",
   "execution_count": 16,
   "id": "b1dc39af",
   "metadata": {},
   "outputs": [
    {
     "data": {
      "text/plain": [
       "array([12139584, 12794063, 15426262], dtype=int64)"
      ]
     },
     "execution_count": 16,
     "metadata": {},
     "output_type": "execute_result"
    }
   ],
   "source": [
    "case_id7"
   ]
  },
  {
   "cell_type": "code",
   "execution_count": 17,
   "id": "1e59d61e",
   "metadata": {},
   "outputs": [],
   "source": [
    "case_id = case_id1\n",
    "list = [case_id2,case_id3,case_id4,case_id5,case_id6,case_id7,case_id8,case_id9]\n",
    "for i in list:\n",
    "    case_id = np.append(case_id,i)"
   ]
  },
  {
   "cell_type": "code",
   "execution_count": 18,
   "id": "467d639c",
   "metadata": {},
   "outputs": [
    {
     "data": {
      "text/plain": [
       "(400,)"
      ]
     },
     "execution_count": 18,
     "metadata": {},
     "output_type": "execute_result"
    }
   ],
   "source": [
    "case_id.shape"
   ]
  },
  {
   "cell_type": "code",
   "execution_count": 19,
   "id": "2ca05f56",
   "metadata": {},
   "outputs": [],
   "source": [
    "case_id = pd.unique(case_id)"
   ]
  },
  {
   "cell_type": "code",
   "execution_count": 20,
   "id": "6d873181",
   "metadata": {},
   "outputs": [
    {
     "data": {
      "text/plain": [
       "(363,)"
      ]
     },
     "execution_count": 20,
     "metadata": {},
     "output_type": "execute_result"
    }
   ],
   "source": [
    "case_id.shape"
   ]
  },
  {
   "cell_type": "code",
   "execution_count": 21,
   "id": "0c414e6a",
   "metadata": {},
   "outputs": [],
   "source": [
    "control_id =np.setdiff1d(np.unique(all_events['subject_id'].values),case_id)"
   ]
  },
  {
   "cell_type": "code",
   "execution_count": 22,
   "id": "339c8c28",
   "metadata": {},
   "outputs": [
    {
     "data": {
      "text/plain": [
       "(256492,)"
      ]
     },
     "execution_count": 22,
     "metadata": {},
     "output_type": "execute_result"
    }
   ],
   "source": [
    "control_id.shape"
   ]
  },
  {
   "cell_type": "code",
   "execution_count": 23,
   "id": "6e952619",
   "metadata": {},
   "outputs": [],
   "source": [
    "control = all_events.loc[np.in1d(all_events['subject_id'],control_id),:]\n",
    "case = all_events.loc[np.in1d(all_events['subject_id'],case_id),:]"
   ]
  },
  {
   "cell_type": "code",
   "execution_count": 24,
   "id": "5d2231f4",
   "metadata": {},
   "outputs": [
    {
     "data": {
      "text/html": [
       "<div>\n",
       "<style scoped>\n",
       "    .dataframe tbody tr th:only-of-type {\n",
       "        vertical-align: middle;\n",
       "    }\n",
       "\n",
       "    .dataframe tbody tr th {\n",
       "        vertical-align: top;\n",
       "    }\n",
       "\n",
       "    .dataframe thead th {\n",
       "        text-align: right;\n",
       "    }\n",
       "</style>\n",
       "<table border=\"1\" class=\"dataframe\">\n",
       "  <thead>\n",
       "    <tr style=\"text-align: right;\">\n",
       "      <th></th>\n",
       "      <th>Unnamed: 0</th>\n",
       "      <th>events</th>\n",
       "      <th>subject_id</th>\n",
       "      <th>time</th>\n",
       "      <th>eve_index</th>\n",
       "    </tr>\n",
       "  </thead>\n",
       "  <tbody>\n",
       "    <tr>\n",
       "      <th>0</th>\n",
       "      <td>0</td>\n",
       "      <td>V3000</td>\n",
       "      <td>10000019</td>\n",
       "      <td>2129-05-21 19:16:00</td>\n",
       "      <td>26446</td>\n",
       "    </tr>\n",
       "    <tr>\n",
       "      <th>1</th>\n",
       "      <td>1</td>\n",
       "      <td>640</td>\n",
       "      <td>10000019</td>\n",
       "      <td>2129-05-21 19:16:00</td>\n",
       "      <td>5346</td>\n",
       "    </tr>\n",
       "    <tr>\n",
       "      <th>2</th>\n",
       "      <td>2</td>\n",
       "      <td>V290</td>\n",
       "      <td>10000019</td>\n",
       "      <td>2129-05-21 19:16:00</td>\n",
       "      <td>26425</td>\n",
       "    </tr>\n",
       "    <tr>\n",
       "      <th>3</th>\n",
       "      <td>3</td>\n",
       "      <td>V053</td>\n",
       "      <td>10000019</td>\n",
       "      <td>2129-05-21 19:16:00</td>\n",
       "      <td>26072</td>\n",
       "    </tr>\n",
       "    <tr>\n",
       "      <th>4</th>\n",
       "      <td>4</td>\n",
       "      <td>V502</td>\n",
       "      <td>10000019</td>\n",
       "      <td>2129-05-21 19:16:00</td>\n",
       "      <td>26637</td>\n",
       "    </tr>\n",
       "  </tbody>\n",
       "</table>\n",
       "</div>"
      ],
      "text/plain": [
       "   Unnamed: 0 events  subject_id                 time  eve_index\n",
       "0           0  V3000    10000019  2129-05-21 19:16:00      26446\n",
       "1           1    640    10000019  2129-05-21 19:16:00       5346\n",
       "2           2   V290    10000019  2129-05-21 19:16:00      26425\n",
       "3           3   V053    10000019  2129-05-21 19:16:00      26072\n",
       "4           4   V502    10000019  2129-05-21 19:16:00      26637"
      ]
     },
     "execution_count": 24,
     "metadata": {},
     "output_type": "execute_result"
    }
   ],
   "source": [
    "control.head()"
   ]
  },
  {
   "cell_type": "code",
   "execution_count": 25,
   "id": "87d86e99",
   "metadata": {},
   "outputs": [
    {
     "data": {
      "text/html": [
       "<div>\n",
       "<style scoped>\n",
       "    .dataframe tbody tr th:only-of-type {\n",
       "        vertical-align: middle;\n",
       "    }\n",
       "\n",
       "    .dataframe tbody tr th {\n",
       "        vertical-align: top;\n",
       "    }\n",
       "\n",
       "    .dataframe thead th {\n",
       "        text-align: right;\n",
       "    }\n",
       "</style>\n",
       "<table border=\"1\" class=\"dataframe\">\n",
       "  <thead>\n",
       "    <tr style=\"text-align: right;\">\n",
       "      <th></th>\n",
       "      <th>Unnamed: 0</th>\n",
       "      <th>events</th>\n",
       "      <th>subject_id</th>\n",
       "      <th>time</th>\n",
       "      <th>eve_index</th>\n",
       "    </tr>\n",
       "  </thead>\n",
       "  <tbody>\n",
       "    <tr>\n",
       "      <th>62254</th>\n",
       "      <td>60813</td>\n",
       "      <td>V270</td>\n",
       "      <td>10026821</td>\n",
       "      <td>2134-06-02 07:12:00</td>\n",
       "      <td>26406</td>\n",
       "    </tr>\n",
       "    <tr>\n",
       "      <th>62255</th>\n",
       "      <td>60814</td>\n",
       "      <td>741</td>\n",
       "      <td>10026821</td>\n",
       "      <td>2134-06-02 07:12:00</td>\n",
       "      <td>6699</td>\n",
       "    </tr>\n",
       "    <tr>\n",
       "      <th>62256</th>\n",
       "      <td>60815</td>\n",
       "      <td>65971</td>\n",
       "      <td>10026821</td>\n",
       "      <td>2134-06-02 07:12:00</td>\n",
       "      <td>5645</td>\n",
       "    </tr>\n",
       "    <tr>\n",
       "      <th>62257</th>\n",
       "      <td>60816</td>\n",
       "      <td>65681</td>\n",
       "      <td>10026821</td>\n",
       "      <td>2134-06-02 07:12:00</td>\n",
       "      <td>5612</td>\n",
       "    </tr>\n",
       "    <tr>\n",
       "      <th>62258</th>\n",
       "      <td>60105</td>\n",
       "      <td>timetoken0-2day</td>\n",
       "      <td>10026821</td>\n",
       "      <td>2134-06-02 07:12:00</td>\n",
       "      <td>36802</td>\n",
       "    </tr>\n",
       "  </tbody>\n",
       "</table>\n",
       "</div>"
      ],
      "text/plain": [
       "       Unnamed: 0           events  subject_id                 time  eve_index\n",
       "62254       60813             V270    10026821  2134-06-02 07:12:00      26406\n",
       "62255       60814              741    10026821  2134-06-02 07:12:00       6699\n",
       "62256       60815            65971    10026821  2134-06-02 07:12:00       5645\n",
       "62257       60816            65681    10026821  2134-06-02 07:12:00       5612\n",
       "62258       60105  timetoken0-2day    10026821  2134-06-02 07:12:00      36802"
      ]
     },
     "execution_count": 25,
     "metadata": {},
     "output_type": "execute_result"
    }
   ],
   "source": [
    "case.head()"
   ]
  },
  {
   "cell_type": "code",
   "execution_count": 26,
   "id": "a6cbaabb",
   "metadata": {},
   "outputs": [
    {
     "data": {
      "text/plain": [
       "(256492,)"
      ]
     },
     "execution_count": 26,
     "metadata": {},
     "output_type": "execute_result"
    }
   ],
   "source": [
    "np.unique(control.subject_id).shape"
   ]
  },
  {
   "cell_type": "code",
   "execution_count": 27,
   "id": "495f95f5",
   "metadata": {},
   "outputs": [
    {
     "data": {
      "text/plain": [
       "(363,)"
      ]
     },
     "execution_count": 27,
     "metadata": {},
     "output_type": "execute_result"
    }
   ],
   "source": [
    "np.unique(case.subject_id).shape"
   ]
  },
  {
   "cell_type": "code",
   "execution_count": 28,
   "id": "0901120b",
   "metadata": {},
   "outputs": [],
   "source": [
    "observation_window = 2000"
   ]
  },
  {
   "cell_type": "code",
   "execution_count": 29,
   "id": "bec61d83",
   "metadata": {},
   "outputs": [],
   "source": [
    "control_index_date = control.groupby(['subject_id'], \\\n",
    "                    as_index=False)['time'].agg({'index_date': lambda x: pd.to_datetime(x).max()})"
   ]
  },
  {
   "cell_type": "code",
   "execution_count": 30,
   "id": "8783adce",
   "metadata": {},
   "outputs": [],
   "source": [
    "control_filter = pd.merge(control,control_index_date,how='left',on = ['subject_id'])"
   ]
  },
  {
   "cell_type": "code",
   "execution_count": 31,
   "id": "faabf886",
   "metadata": {},
   "outputs": [
    {
     "data": {
      "text/html": [
       "<div>\n",
       "<style scoped>\n",
       "    .dataframe tbody tr th:only-of-type {\n",
       "        vertical-align: middle;\n",
       "    }\n",
       "\n",
       "    .dataframe tbody tr th {\n",
       "        vertical-align: top;\n",
       "    }\n",
       "\n",
       "    .dataframe thead th {\n",
       "        text-align: right;\n",
       "    }\n",
       "</style>\n",
       "<table border=\"1\" class=\"dataframe\">\n",
       "  <thead>\n",
       "    <tr style=\"text-align: right;\">\n",
       "      <th></th>\n",
       "      <th>Unnamed: 0</th>\n",
       "      <th>events</th>\n",
       "      <th>subject_id</th>\n",
       "      <th>time</th>\n",
       "      <th>eve_index</th>\n",
       "      <th>index_date</th>\n",
       "    </tr>\n",
       "  </thead>\n",
       "  <tbody>\n",
       "    <tr>\n",
       "      <th>0</th>\n",
       "      <td>0</td>\n",
       "      <td>V3000</td>\n",
       "      <td>10000019</td>\n",
       "      <td>2129-05-21 19:16:00</td>\n",
       "      <td>26446</td>\n",
       "      <td>2129-05-22 16:00:00</td>\n",
       "    </tr>\n",
       "    <tr>\n",
       "      <th>1</th>\n",
       "      <td>1</td>\n",
       "      <td>640</td>\n",
       "      <td>10000019</td>\n",
       "      <td>2129-05-21 19:16:00</td>\n",
       "      <td>5346</td>\n",
       "      <td>2129-05-22 16:00:00</td>\n",
       "    </tr>\n",
       "    <tr>\n",
       "      <th>2</th>\n",
       "      <td>2</td>\n",
       "      <td>V290</td>\n",
       "      <td>10000019</td>\n",
       "      <td>2129-05-21 19:16:00</td>\n",
       "      <td>26425</td>\n",
       "      <td>2129-05-22 16:00:00</td>\n",
       "    </tr>\n",
       "    <tr>\n",
       "      <th>3</th>\n",
       "      <td>3</td>\n",
       "      <td>V053</td>\n",
       "      <td>10000019</td>\n",
       "      <td>2129-05-21 19:16:00</td>\n",
       "      <td>26072</td>\n",
       "      <td>2129-05-22 16:00:00</td>\n",
       "    </tr>\n",
       "    <tr>\n",
       "      <th>4</th>\n",
       "      <td>4</td>\n",
       "      <td>V502</td>\n",
       "      <td>10000019</td>\n",
       "      <td>2129-05-21 19:16:00</td>\n",
       "      <td>26637</td>\n",
       "      <td>2129-05-22 16:00:00</td>\n",
       "    </tr>\n",
       "  </tbody>\n",
       "</table>\n",
       "</div>"
      ],
      "text/plain": [
       "   Unnamed: 0 events  subject_id                 time  eve_index  \\\n",
       "0           0  V3000    10000019  2129-05-21 19:16:00      26446   \n",
       "1           1    640    10000019  2129-05-21 19:16:00       5346   \n",
       "2           2   V290    10000019  2129-05-21 19:16:00      26425   \n",
       "3           3   V053    10000019  2129-05-21 19:16:00      26072   \n",
       "4           4   V502    10000019  2129-05-21 19:16:00      26637   \n",
       "\n",
       "           index_date  \n",
       "0 2129-05-22 16:00:00  \n",
       "1 2129-05-22 16:00:00  \n",
       "2 2129-05-22 16:00:00  \n",
       "3 2129-05-22 16:00:00  \n",
       "4 2129-05-22 16:00:00  "
      ]
     },
     "execution_count": 31,
     "metadata": {},
     "output_type": "execute_result"
    }
   ],
   "source": [
    "#observation window is set to be 2000 days\n",
    "choice1 = pd.to_datetime(control_filter['time'])>= pd.to_datetime(control_filter['index_date']) - pd.DateOffset(observation_window)\n",
    "choice2 = pd.to_datetime(control_filter['time']) <= pd.to_datetime(control_filter['index_date'])\n",
    "control_filter = control_filter[choice1 & choice2]\n",
    "control_filter.head()"
   ]
  },
  {
   "cell_type": "code",
   "execution_count": 45,
   "id": "c0bd28a9",
   "metadata": {},
   "outputs": [
    {
     "data": {
      "text/plain": [
       "(256492,)"
      ]
     },
     "execution_count": 45,
     "metadata": {},
     "output_type": "execute_result"
    }
   ],
   "source": [
    "np.unique(control_filter.subject_id).shape"
   ]
  },
  {
   "cell_type": "code",
   "execution_count": 53,
   "id": "821da594",
   "metadata": {},
   "outputs": [
    {
     "name": "stdout",
     "output_type": "stream",
     "text": [
      "(array([190999,  33102,  13357,   6581,   3822,   2418,   1557,   1107,\n",
      "          763,    610,    414,    335,    250,    174,    168,    109,\n",
      "           89,     95,     70,     71,     42,     49,     42,     31,\n",
      "           28,     31,     21,     22,     10,     16,     20,      9,\n",
      "           11,      7,      5,     11,      6,      3,      6,      2,\n",
      "            1,      3,      4,      1,      0,      2,      1,      1,\n",
      "            4,      1,      2,      1,      1,      0,      0,      0,\n",
      "            0,      0,      0,      0,      1,      1,      1,      0,\n",
      "            0,      1,      0,      1,      0,      0,      0,      1,\n",
      "            0,      0,      0,      0,      0,      0,      0,      0,\n",
      "            0,      0,      0,      0,      0,      0,      0,      0,\n",
      "            0,      0,      0,      0,      0,      0,      0,      0,\n",
      "            0,      0,      0,      1], dtype=int64), array([1.00000e+00, 8.63900e+01, 1.71780e+02, 2.57170e+02, 3.42560e+02,\n",
      "       4.27950e+02, 5.13340e+02, 5.98730e+02, 6.84120e+02, 7.69510e+02,\n",
      "       8.54900e+02, 9.40290e+02, 1.02568e+03, 1.11107e+03, 1.19646e+03,\n",
      "       1.28185e+03, 1.36724e+03, 1.45263e+03, 1.53802e+03, 1.62341e+03,\n",
      "       1.70880e+03, 1.79419e+03, 1.87958e+03, 1.96497e+03, 2.05036e+03,\n",
      "       2.13575e+03, 2.22114e+03, 2.30653e+03, 2.39192e+03, 2.47731e+03,\n",
      "       2.56270e+03, 2.64809e+03, 2.73348e+03, 2.81887e+03, 2.90426e+03,\n",
      "       2.98965e+03, 3.07504e+03, 3.16043e+03, 3.24582e+03, 3.33121e+03,\n",
      "       3.41660e+03, 3.50199e+03, 3.58738e+03, 3.67277e+03, 3.75816e+03,\n",
      "       3.84355e+03, 3.92894e+03, 4.01433e+03, 4.09972e+03, 4.18511e+03,\n",
      "       4.27050e+03, 4.35589e+03, 4.44128e+03, 4.52667e+03, 4.61206e+03,\n",
      "       4.69745e+03, 4.78284e+03, 4.86823e+03, 4.95362e+03, 5.03901e+03,\n",
      "       5.12440e+03, 5.20979e+03, 5.29518e+03, 5.38057e+03, 5.46596e+03,\n",
      "       5.55135e+03, 5.63674e+03, 5.72213e+03, 5.80752e+03, 5.89291e+03,\n",
      "       5.97830e+03, 6.06369e+03, 6.14908e+03, 6.23447e+03, 6.31986e+03,\n",
      "       6.40525e+03, 6.49064e+03, 6.57603e+03, 6.66142e+03, 6.74681e+03,\n",
      "       6.83220e+03, 6.91759e+03, 7.00298e+03, 7.08837e+03, 7.17376e+03,\n",
      "       7.25915e+03, 7.34454e+03, 7.42993e+03, 7.51532e+03, 7.60071e+03,\n",
      "       7.68610e+03, 7.77149e+03, 7.85688e+03, 7.94227e+03, 8.02766e+03,\n",
      "       8.11305e+03, 8.19844e+03, 8.28383e+03, 8.36922e+03, 8.45461e+03,\n",
      "       8.54000e+03]))\n",
      "85.4204536593734\n",
      "32.0\n",
      "173.46308128074335\n"
     ]
    },
    {
     "data": {
      "image/png": "[encoded data removed]",
      "text/plain": [
       "<Figure size 432x288 with 1 Axes>"
      ]
     },
     "metadata": {
      "needs_background": "light"
     },
     "output_type": "display_data"
    }
   ],
   "source": [
    "# control count\n",
    "count_control = control_filter.groupby('subject_id').apply(lambda x: x.eve_index.size)\n",
    "count_control.hist(bins=100)\n",
    "print(np.histogram(count_control,bins=100))\n",
    "print(np.mean(count_control)); print(np.median(count_control)); print(np.std(count_control))"
   ]
  },
  {
   "cell_type": "code",
   "execution_count": 34,
   "id": "9fbad562",
   "metadata": {},
   "outputs": [
    {
     "data": {
      "text/plain": [
       "subject_id\n",
       "10000019      10\n",
       "10000032     127\n",
       "10000044       7\n",
       "10000068       2\n",
       "10000074       6\n",
       "            ... \n",
       "19999768     135\n",
       "19999784    1063\n",
       "19999828     264\n",
       "19999840     164\n",
       "19999987      94\n",
       "Length: 256492, dtype: int64"
      ]
     },
     "execution_count": 34,
     "metadata": {},
     "output_type": "execute_result"
    }
   ],
   "source": [
    "count_control"
   ]
  },
  {
   "cell_type": "code",
   "execution_count": 38,
   "id": "456d6f04",
   "metadata": {},
   "outputs": [
    {
     "data": {
      "text/plain": [
       "(256492,)"
      ]
     },
     "execution_count": 38,
     "metadata": {},
     "output_type": "execute_result"
    }
   ],
   "source": [
    "count_control.shape"
   ]
  },
  {
   "cell_type": "code",
   "execution_count": 33,
   "id": "afe3a987",
   "metadata": {},
   "outputs": [],
   "source": [
    "# filter out control IDs with count >500 & count<30 ??\n",
    "control_filter =pd.merge(control_filter, all_count,on='subject_id',how='left')\n"
   ]
  },
  {
   "cell_type": "code",
   "execution_count": 34,
   "id": "f78be798",
   "metadata": {},
   "outputs": [
    {
     "data": {
      "text/html": [
       "<div>\n",
       "<style scoped>\n",
       "    .dataframe tbody tr th:only-of-type {\n",
       "        vertical-align: middle;\n",
       "    }\n",
       "\n",
       "    .dataframe tbody tr th {\n",
       "        vertical-align: top;\n",
       "    }\n",
       "\n",
       "    .dataframe thead th {\n",
       "        text-align: right;\n",
       "    }\n",
       "</style>\n",
       "<table border=\"1\" class=\"dataframe\">\n",
       "  <thead>\n",
       "    <tr style=\"text-align: right;\">\n",
       "      <th></th>\n",
       "      <th>Unnamed: 0</th>\n",
       "      <th>events</th>\n",
       "      <th>subject_id</th>\n",
       "      <th>time</th>\n",
       "      <th>eve_index</th>\n",
       "      <th>index_date</th>\n",
       "      <th>count</th>\n",
       "    </tr>\n",
       "  </thead>\n",
       "  <tbody>\n",
       "    <tr>\n",
       "      <th>0</th>\n",
       "      <td>0</td>\n",
       "      <td>V3000</td>\n",
       "      <td>10000019</td>\n",
       "      <td>2129-05-21 19:16:00</td>\n",
       "      <td>26446</td>\n",
       "      <td>2129-05-22 16:00:00</td>\n",
       "      <td>10</td>\n",
       "    </tr>\n",
       "    <tr>\n",
       "      <th>1</th>\n",
       "      <td>1</td>\n",
       "      <td>640</td>\n",
       "      <td>10000019</td>\n",
       "      <td>2129-05-21 19:16:00</td>\n",
       "      <td>5346</td>\n",
       "      <td>2129-05-22 16:00:00</td>\n",
       "      <td>10</td>\n",
       "    </tr>\n",
       "    <tr>\n",
       "      <th>2</th>\n",
       "      <td>2</td>\n",
       "      <td>V290</td>\n",
       "      <td>10000019</td>\n",
       "      <td>2129-05-21 19:16:00</td>\n",
       "      <td>26425</td>\n",
       "      <td>2129-05-22 16:00:00</td>\n",
       "      <td>10</td>\n",
       "    </tr>\n",
       "    <tr>\n",
       "      <th>3</th>\n",
       "      <td>3</td>\n",
       "      <td>V053</td>\n",
       "      <td>10000019</td>\n",
       "      <td>2129-05-21 19:16:00</td>\n",
       "      <td>26072</td>\n",
       "      <td>2129-05-22 16:00:00</td>\n",
       "      <td>10</td>\n",
       "    </tr>\n",
       "    <tr>\n",
       "      <th>4</th>\n",
       "      <td>4</td>\n",
       "      <td>V502</td>\n",
       "      <td>10000019</td>\n",
       "      <td>2129-05-21 19:16:00</td>\n",
       "      <td>26637</td>\n",
       "      <td>2129-05-22 16:00:00</td>\n",
       "      <td>10</td>\n",
       "    </tr>\n",
       "  </tbody>\n",
       "</table>\n",
       "</div>"
      ],
      "text/plain": [
       "   Unnamed: 0 events  subject_id                 time  eve_index  \\\n",
       "0           0  V3000    10000019  2129-05-21 19:16:00      26446   \n",
       "1           1    640    10000019  2129-05-21 19:16:00       5346   \n",
       "2           2   V290    10000019  2129-05-21 19:16:00      26425   \n",
       "3           3   V053    10000019  2129-05-21 19:16:00      26072   \n",
       "4           4   V502    10000019  2129-05-21 19:16:00      26637   \n",
       "\n",
       "           index_date  count  \n",
       "0 2129-05-22 16:00:00     10  \n",
       "1 2129-05-22 16:00:00     10  \n",
       "2 2129-05-22 16:00:00     10  \n",
       "3 2129-05-22 16:00:00     10  \n",
       "4 2129-05-22 16:00:00     10  "
      ]
     },
     "execution_count": 34,
     "metadata": {},
     "output_type": "execute_result"
    }
   ],
   "source": [
    "control_filter.head()"
   ]
  },
  {
   "cell_type": "code",
   "execution_count": 35,
   "id": "9005f282",
   "metadata": {},
   "outputs": [],
   "source": [
    "control_filter_out = control_filter.loc[((control_filter['count']>10) & (control_filter['count']<500))]"
   ]
  },
  {
   "cell_type": "code",
   "execution_count": 36,
   "id": "b4faa6f1",
   "metadata": {},
   "outputs": [
    {
     "data": {
      "text/plain": [
       "(187112,)"
      ]
     },
     "execution_count": 36,
     "metadata": {},
     "output_type": "execute_result"
    }
   ],
   "source": [
    "np.unique(control_filter_out.subject_id).shape"
   ]
  },
  {
   "cell_type": "code",
   "execution_count": 37,
   "id": "8117d616",
   "metadata": {},
   "outputs": [
    {
     "data": {
      "text/html": [
       "<div>\n",
       "<style scoped>\n",
       "    .dataframe tbody tr th:only-of-type {\n",
       "        vertical-align: middle;\n",
       "    }\n",
       "\n",
       "    .dataframe tbody tr th {\n",
       "        vertical-align: top;\n",
       "    }\n",
       "\n",
       "    .dataframe thead th {\n",
       "        text-align: right;\n",
       "    }\n",
       "</style>\n",
       "<table border=\"1\" class=\"dataframe\">\n",
       "  <thead>\n",
       "    <tr style=\"text-align: right;\">\n",
       "      <th></th>\n",
       "      <th>Unnamed: 0</th>\n",
       "      <th>events</th>\n",
       "      <th>subject_id</th>\n",
       "      <th>time</th>\n",
       "      <th>eve_index</th>\n",
       "      <th>index_date</th>\n",
       "      <th>count</th>\n",
       "    </tr>\n",
       "  </thead>\n",
       "  <tbody>\n",
       "    <tr>\n",
       "      <th>10</th>\n",
       "      <td>10</td>\n",
       "      <td>549</td>\n",
       "      <td>10000032</td>\n",
       "      <td>2180-05-06 22:23:00</td>\n",
       "      <td>4663</td>\n",
       "      <td>2180-08-07 08:00:00</td>\n",
       "      <td>127</td>\n",
       "    </tr>\n",
       "    <tr>\n",
       "      <th>11</th>\n",
       "      <td>11</td>\n",
       "      <td>78959</td>\n",
       "      <td>10000032</td>\n",
       "      <td>2180-05-06 22:23:00</td>\n",
       "      <td>7501</td>\n",
       "      <td>2180-08-07 08:00:00</td>\n",
       "      <td>127</td>\n",
       "    </tr>\n",
       "    <tr>\n",
       "      <th>12</th>\n",
       "      <td>12</td>\n",
       "      <td>V1582</td>\n",
       "      <td>10000032</td>\n",
       "      <td>2180-05-06 22:23:00</td>\n",
       "      <td>26276</td>\n",
       "      <td>2180-08-07 08:00:00</td>\n",
       "      <td>127</td>\n",
       "    </tr>\n",
       "    <tr>\n",
       "      <th>13</th>\n",
       "      <td>13</td>\n",
       "      <td>496</td>\n",
       "      <td>10000032</td>\n",
       "      <td>2180-05-06 22:23:00</td>\n",
       "      <td>4326</td>\n",
       "      <td>2180-08-07 08:00:00</td>\n",
       "      <td>127</td>\n",
       "    </tr>\n",
       "    <tr>\n",
       "      <th>14</th>\n",
       "      <td>14</td>\n",
       "      <td>07070</td>\n",
       "      <td>10000032</td>\n",
       "      <td>2180-05-06 22:23:00</td>\n",
       "      <td>528</td>\n",
       "      <td>2180-08-07 08:00:00</td>\n",
       "      <td>127</td>\n",
       "    </tr>\n",
       "  </tbody>\n",
       "</table>\n",
       "</div>"
      ],
      "text/plain": [
       "    Unnamed: 0 events  subject_id                 time  eve_index  \\\n",
       "10          10    549    10000032  2180-05-06 22:23:00       4663   \n",
       "11          11  78959    10000032  2180-05-06 22:23:00       7501   \n",
       "12          12  V1582    10000032  2180-05-06 22:23:00      26276   \n",
       "13          13    496    10000032  2180-05-06 22:23:00       4326   \n",
       "14          14  07070    10000032  2180-05-06 22:23:00        528   \n",
       "\n",
       "            index_date  count  \n",
       "10 2180-08-07 08:00:00    127  \n",
       "11 2180-08-07 08:00:00    127  \n",
       "12 2180-08-07 08:00:00    127  \n",
       "13 2180-08-07 08:00:00    127  \n",
       "14 2180-08-07 08:00:00    127  "
      ]
     },
     "execution_count": 37,
     "metadata": {},
     "output_type": "execute_result"
    }
   ],
   "source": [
    "control_filter_out.head()"
   ]
  },
  {
   "cell_type": "code",
   "execution_count": 38,
   "id": "905c2340",
   "metadata": {},
   "outputs": [
    {
     "data": {
      "text/html": [
       "<div>\n",
       "<style scoped>\n",
       "    .dataframe tbody tr th:only-of-type {\n",
       "        vertical-align: middle;\n",
       "    }\n",
       "\n",
       "    .dataframe tbody tr th {\n",
       "        vertical-align: top;\n",
       "    }\n",
       "\n",
       "    .dataframe thead th {\n",
       "        text-align: right;\n",
       "    }\n",
       "</style>\n",
       "<table border=\"1\" class=\"dataframe\">\n",
       "  <thead>\n",
       "    <tr style=\"text-align: right;\">\n",
       "      <th></th>\n",
       "      <th>Unnamed: 0</th>\n",
       "      <th>events</th>\n",
       "      <th>subject_id</th>\n",
       "      <th>time</th>\n",
       "      <th>eve_index</th>\n",
       "    </tr>\n",
       "  </thead>\n",
       "  <tbody>\n",
       "    <tr>\n",
       "      <th>62254</th>\n",
       "      <td>60813</td>\n",
       "      <td>V270</td>\n",
       "      <td>10026821</td>\n",
       "      <td>2134-06-02 07:12:00</td>\n",
       "      <td>26406</td>\n",
       "    </tr>\n",
       "    <tr>\n",
       "      <th>62255</th>\n",
       "      <td>60814</td>\n",
       "      <td>741</td>\n",
       "      <td>10026821</td>\n",
       "      <td>2134-06-02 07:12:00</td>\n",
       "      <td>6699</td>\n",
       "    </tr>\n",
       "    <tr>\n",
       "      <th>62256</th>\n",
       "      <td>60815</td>\n",
       "      <td>65971</td>\n",
       "      <td>10026821</td>\n",
       "      <td>2134-06-02 07:12:00</td>\n",
       "      <td>5645</td>\n",
       "    </tr>\n",
       "    <tr>\n",
       "      <th>62257</th>\n",
       "      <td>60816</td>\n",
       "      <td>65681</td>\n",
       "      <td>10026821</td>\n",
       "      <td>2134-06-02 07:12:00</td>\n",
       "      <td>5612</td>\n",
       "    </tr>\n",
       "    <tr>\n",
       "      <th>62258</th>\n",
       "      <td>60105</td>\n",
       "      <td>timetoken0-2day</td>\n",
       "      <td>10026821</td>\n",
       "      <td>2134-06-02 07:12:00</td>\n",
       "      <td>36802</td>\n",
       "    </tr>\n",
       "  </tbody>\n",
       "</table>\n",
       "</div>"
      ],
      "text/plain": [
       "       Unnamed: 0           events  subject_id                 time  eve_index\n",
       "62254       60813             V270    10026821  2134-06-02 07:12:00      26406\n",
       "62255       60814              741    10026821  2134-06-02 07:12:00       6699\n",
       "62256       60815            65971    10026821  2134-06-02 07:12:00       5645\n",
       "62257       60816            65681    10026821  2134-06-02 07:12:00       5612\n",
       "62258       60105  timetoken0-2day    10026821  2134-06-02 07:12:00      36802"
      ]
     },
     "execution_count": 38,
     "metadata": {},
     "output_type": "execute_result"
    }
   ],
   "source": [
    "case.head()"
   ]
  },
  {
   "cell_type": "code",
   "execution_count": 39,
   "id": "6eff3b8b",
   "metadata": {},
   "outputs": [
    {
     "data": {
      "text/plain": [
       "(363,)"
      ]
     },
     "execution_count": 39,
     "metadata": {},
     "output_type": "execute_result"
    }
   ],
   "source": [
    "np.unique(case.subject_id).shape"
   ]
  },
  {
   "cell_type": "code",
   "execution_count": 40,
   "id": "ac660539",
   "metadata": {},
   "outputs": [
    {
     "data": {
      "text/plain": [
       "264"
      ]
     },
     "execution_count": 40,
     "metadata": {},
     "output_type": "execute_result"
    }
   ],
   "source": [
    "list = ['O24424','O24429','O24410','O24414','O24419','O24430','O24434','O24439']\n",
    "prediction_window = 90\n",
    "case_index_date1 = case.loc[case['events'].str[:15] == 'O24420',:].groupby(['subject_id'], \\\n",
    "                        as_index=False)['time'].agg({'index_date': \\\n",
    "                        lambda x: pd.to_datetime(x).min()- pd.Timedelta(days = prediction_window)})\n",
    "case_index_date1.size\n",
    "case_index_date2 = case.loc[case['events'].str[:15] == 'O24424',:].groupby(['subject_id'], \\\n",
    "                        as_index=False)['time'].agg({'index_date': \\\n",
    "                        lambda x: pd.to_datetime(x).min()- pd.Timedelta(days = prediction_window)})\n",
    "case_index_date2.size"
   ]
  },
  {
   "cell_type": "code",
   "execution_count": 41,
   "id": "8a4b46c9",
   "metadata": {},
   "outputs": [
    {
     "data": {
      "text/html": [
       "<div>\n",
       "<style scoped>\n",
       "    .dataframe tbody tr th:only-of-type {\n",
       "        vertical-align: middle;\n",
       "    }\n",
       "\n",
       "    .dataframe tbody tr th {\n",
       "        vertical-align: top;\n",
       "    }\n",
       "\n",
       "    .dataframe thead th {\n",
       "        text-align: right;\n",
       "    }\n",
       "</style>\n",
       "<table border=\"1\" class=\"dataframe\">\n",
       "  <thead>\n",
       "    <tr style=\"text-align: right;\">\n",
       "      <th></th>\n",
       "      <th>subject_id</th>\n",
       "      <th>index_date</th>\n",
       "    </tr>\n",
       "  </thead>\n",
       "  <tbody>\n",
       "    <tr>\n",
       "      <th>0</th>\n",
       "      <td>10124191</td>\n",
       "      <td>2130-02-10 19:20:00</td>\n",
       "    </tr>\n",
       "    <tr>\n",
       "      <th>1</th>\n",
       "      <td>10124873</td>\n",
       "      <td>2178-02-06 00:54:00</td>\n",
       "    </tr>\n",
       "    <tr>\n",
       "      <th>2</th>\n",
       "      <td>10296832</td>\n",
       "      <td>2114-06-09 15:25:00</td>\n",
       "    </tr>\n",
       "    <tr>\n",
       "      <th>3</th>\n",
       "      <td>10369901</td>\n",
       "      <td>2121-04-20 01:18:00</td>\n",
       "    </tr>\n",
       "    <tr>\n",
       "      <th>4</th>\n",
       "      <td>10407324</td>\n",
       "      <td>2179-10-11 22:20:00</td>\n",
       "    </tr>\n",
       "  </tbody>\n",
       "</table>\n",
       "</div>"
      ],
      "text/plain": [
       "   subject_id          index_date\n",
       "0    10124191 2130-02-10 19:20:00\n",
       "1    10124873 2178-02-06 00:54:00\n",
       "2    10296832 2114-06-09 15:25:00\n",
       "3    10369901 2121-04-20 01:18:00\n",
       "4    10407324 2179-10-11 22:20:00"
      ]
     },
     "execution_count": 41,
     "metadata": {},
     "output_type": "execute_result"
    }
   ],
   "source": [
    "case_index_date2.head()"
   ]
  },
  {
   "cell_type": "code",
   "execution_count": 42,
   "id": "24fe7de8",
   "metadata": {},
   "outputs": [
    {
     "data": {
      "text/plain": [
       "118"
      ]
     },
     "execution_count": 42,
     "metadata": {},
     "output_type": "execute_result"
    }
   ],
   "source": [
    "prediction_window = 90\n",
    "\n",
    "case_index_date3 = case.loc[case['events'].str[:15] == 'O24429',:].groupby(['subject_id'], \\\n",
    "                        as_index=False)['time'].agg({'index_date': \\\n",
    "                        lambda x: pd.to_datetime(x).min()- pd.Timedelta(days = prediction_window)})\n",
    "case_index_date3.size"
   ]
  },
  {
   "cell_type": "code",
   "execution_count": 43,
   "id": "31a73095",
   "metadata": {},
   "outputs": [
    {
     "data": {
      "text/plain": [
       "40"
      ]
     },
     "execution_count": 43,
     "metadata": {},
     "output_type": "execute_result"
    }
   ],
   "source": [
    "prediction_window = 90\n",
    "\n",
    "case_index_date4 = case.loc[case['events'].str[:15] == 'O24410',:].groupby(['subject_id'], \\\n",
    "                        as_index=False)['time'].agg({'index_date': \\\n",
    "                        lambda x: pd.to_datetime(x).min()- pd.Timedelta(days = prediction_window)})\n",
    "case_index_date4.size"
   ]
  },
  {
   "cell_type": "code",
   "execution_count": 44,
   "id": "0f8e3162",
   "metadata": {},
   "outputs": [
    {
     "data": {
      "text/plain": [
       "38"
      ]
     },
     "execution_count": 44,
     "metadata": {},
     "output_type": "execute_result"
    }
   ],
   "source": [
    "prediction_window = 90\n",
    "\n",
    "case_index_date5 = case.loc[case['events'].str[:15] == 'O24414',:].groupby(['subject_id'], \\\n",
    "                        as_index=False)['time'].agg({'index_date': \\\n",
    "                        lambda x: pd.to_datetime(x).min()- pd.Timedelta(days = prediction_window)})\n",
    "case_index_date5.size"
   ]
  },
  {
   "cell_type": "code",
   "execution_count": 45,
   "id": "fa712166",
   "metadata": {},
   "outputs": [
    {
     "data": {
      "text/plain": [
       "32"
      ]
     },
     "execution_count": 45,
     "metadata": {},
     "output_type": "execute_result"
    }
   ],
   "source": [
    "prediction_window = 90\n",
    "\n",
    "case_index_date6 = case.loc[case['events'].str[:15] == 'O24419',:].groupby(['subject_id'], \\\n",
    "                        as_index=False)['time'].agg({'index_date': \\\n",
    "                        lambda x: pd.to_datetime(x).min()- pd.Timedelta(days = prediction_window)})\n",
    "case_index_date6.size"
   ]
  },
  {
   "cell_type": "code",
   "execution_count": 46,
   "id": "f24c5c9a",
   "metadata": {},
   "outputs": [
    {
     "data": {
      "text/plain": [
       "6"
      ]
     },
     "execution_count": 46,
     "metadata": {},
     "output_type": "execute_result"
    }
   ],
   "source": [
    "prediction_window = 90\n",
    "\n",
    "case_index_date7 = case.loc[case['events'].str[:15] == 'O24430',:].groupby(['subject_id'], \\\n",
    "                        as_index=False)['time'].agg({'index_date': \\\n",
    "                        lambda x: pd.to_datetime(x).min()- pd.Timedelta(days = prediction_window)})\n",
    "case_index_date7.size"
   ]
  },
  {
   "cell_type": "code",
   "execution_count": 47,
   "id": "73138237",
   "metadata": {},
   "outputs": [
    {
     "data": {
      "text/plain": [
       "4"
      ]
     },
     "execution_count": 47,
     "metadata": {},
     "output_type": "execute_result"
    }
   ],
   "source": [
    "prediction_window = 90\n",
    "\n",
    "case_index_date8 = case.loc[case['events'].str[:15] == 'O24434',:].groupby(['subject_id'], \\\n",
    "                        as_index=False)['time'].agg({'index_date': \\\n",
    "                        lambda x: pd.to_datetime(x).min()- pd.Timedelta(days = prediction_window)})\n",
    "case_index_date8.size"
   ]
  },
  {
   "cell_type": "code",
   "execution_count": 48,
   "id": "3705969e",
   "metadata": {},
   "outputs": [
    {
     "data": {
      "text/plain": [
       "2"
      ]
     },
     "execution_count": 48,
     "metadata": {},
     "output_type": "execute_result"
    }
   ],
   "source": [
    "prediction_window = 90\n",
    "\n",
    "case_index_date9 = case.loc[case['events'].str[:15] == 'O24439',:].groupby(['subject_id'], \\\n",
    "                        as_index=False)['time'].agg({'index_date': \\\n",
    "                        lambda x: pd.to_datetime(x).min()- pd.Timedelta(days = prediction_window)})\n",
    "case_index_date9.size"
   ]
  },
  {
   "cell_type": "code",
   "execution_count": 49,
   "id": "45e8074e",
   "metadata": {},
   "outputs": [
    {
     "data": {
      "text/html": [
       "<div>\n",
       "<style scoped>\n",
       "    .dataframe tbody tr th:only-of-type {\n",
       "        vertical-align: middle;\n",
       "    }\n",
       "\n",
       "    .dataframe tbody tr th {\n",
       "        vertical-align: top;\n",
       "    }\n",
       "\n",
       "    .dataframe thead th {\n",
       "        text-align: right;\n",
       "    }\n",
       "</style>\n",
       "<table border=\"1\" class=\"dataframe\">\n",
       "  <thead>\n",
       "    <tr style=\"text-align: right;\">\n",
       "      <th></th>\n",
       "      <th>subject_id</th>\n",
       "      <th>index_date</th>\n",
       "    </tr>\n",
       "  </thead>\n",
       "  <tbody>\n",
       "    <tr>\n",
       "      <th>0</th>\n",
       "      <td>18700527</td>\n",
       "      <td>2162-10-09 07:41:00</td>\n",
       "    </tr>\n",
       "  </tbody>\n",
       "</table>\n",
       "</div>"
      ],
      "text/plain": [
       "   subject_id          index_date\n",
       "0    18700527 2162-10-09 07:41:00"
      ]
     },
     "execution_count": 49,
     "metadata": {},
     "output_type": "execute_result"
    }
   ],
   "source": [
    "case_index_date9"
   ]
  },
  {
   "cell_type": "code",
   "execution_count": 50,
   "id": "fc451e91",
   "metadata": {},
   "outputs": [
    {
     "data": {
      "text/html": [
       "<div>\n",
       "<style scoped>\n",
       "    .dataframe tbody tr th:only-of-type {\n",
       "        vertical-align: middle;\n",
       "    }\n",
       "\n",
       "    .dataframe tbody tr th {\n",
       "        vertical-align: top;\n",
       "    }\n",
       "\n",
       "    .dataframe thead th {\n",
       "        text-align: right;\n",
       "    }\n",
       "</style>\n",
       "<table border=\"1\" class=\"dataframe\">\n",
       "  <thead>\n",
       "    <tr style=\"text-align: right;\">\n",
       "      <th></th>\n",
       "      <th>subject_id</th>\n",
       "      <th>index_date</th>\n",
       "    </tr>\n",
       "  </thead>\n",
       "  <tbody>\n",
       "    <tr>\n",
       "      <th>0</th>\n",
       "      <td>17580825</td>\n",
       "      <td>2181-12-12 21:56:00</td>\n",
       "    </tr>\n",
       "    <tr>\n",
       "      <th>1</th>\n",
       "      <td>17721144</td>\n",
       "      <td>2185-12-22 19:01:00</td>\n",
       "    </tr>\n",
       "    <tr>\n",
       "      <th>0</th>\n",
       "      <td>18700527</td>\n",
       "      <td>2162-10-09 07:41:00</td>\n",
       "    </tr>\n",
       "  </tbody>\n",
       "</table>\n",
       "</div>"
      ],
      "text/plain": [
       "   subject_id          index_date\n",
       "0    17580825 2181-12-12 21:56:00\n",
       "1    17721144 2185-12-22 19:01:00\n",
       "0    18700527 2162-10-09 07:41:00"
      ]
     },
     "execution_count": 50,
     "metadata": {},
     "output_type": "execute_result"
    }
   ],
   "source": [
    "case_index_date8.append(case_index_date9)"
   ]
  },
  {
   "cell_type": "code",
   "execution_count": 51,
   "id": "d244b1e4",
   "metadata": {},
   "outputs": [
    {
     "data": {
      "text/html": [
       "<div>\n",
       "<style scoped>\n",
       "    .dataframe tbody tr th:only-of-type {\n",
       "        vertical-align: middle;\n",
       "    }\n",
       "\n",
       "    .dataframe tbody tr th {\n",
       "        vertical-align: top;\n",
       "    }\n",
       "\n",
       "    .dataframe thead th {\n",
       "        text-align: right;\n",
       "    }\n",
       "</style>\n",
       "<table border=\"1\" class=\"dataframe\">\n",
       "  <thead>\n",
       "    <tr style=\"text-align: right;\">\n",
       "      <th></th>\n",
       "      <th>subject_id</th>\n",
       "      <th>index_date</th>\n",
       "    </tr>\n",
       "  </thead>\n",
       "  <tbody>\n",
       "    <tr>\n",
       "      <th>0</th>\n",
       "      <td>18700527</td>\n",
       "      <td>2162-10-09 07:41:00</td>\n",
       "    </tr>\n",
       "    <tr>\n",
       "      <th>0</th>\n",
       "      <td>17580825</td>\n",
       "      <td>2181-12-12 21:56:00</td>\n",
       "    </tr>\n",
       "    <tr>\n",
       "      <th>1</th>\n",
       "      <td>17721144</td>\n",
       "      <td>2185-12-22 19:01:00</td>\n",
       "    </tr>\n",
       "    <tr>\n",
       "      <th>0</th>\n",
       "      <td>10787126</td>\n",
       "      <td>2178-12-22 16:12:00</td>\n",
       "    </tr>\n",
       "    <tr>\n",
       "      <th>1</th>\n",
       "      <td>12465544</td>\n",
       "      <td>2154-11-28 15:00:00</td>\n",
       "    </tr>\n",
       "    <tr>\n",
       "      <th>...</th>\n",
       "      <td>...</td>\n",
       "      <td>...</td>\n",
       "    </tr>\n",
       "    <tr>\n",
       "      <th>143</th>\n",
       "      <td>19703091</td>\n",
       "      <td>2141-12-19 08:42:00</td>\n",
       "    </tr>\n",
       "    <tr>\n",
       "      <th>144</th>\n",
       "      <td>19708987</td>\n",
       "      <td>2149-01-11 18:55:00</td>\n",
       "    </tr>\n",
       "    <tr>\n",
       "      <th>145</th>\n",
       "      <td>19907159</td>\n",
       "      <td>2183-07-30 12:37:00</td>\n",
       "    </tr>\n",
       "    <tr>\n",
       "      <th>146</th>\n",
       "      <td>19983948</td>\n",
       "      <td>2152-03-01 11:33:00</td>\n",
       "    </tr>\n",
       "    <tr>\n",
       "      <th>147</th>\n",
       "      <td>19996869</td>\n",
       "      <td>2150-03-11 13:10:00</td>\n",
       "    </tr>\n",
       "  </tbody>\n",
       "</table>\n",
       "<p>397 rows × 2 columns</p>\n",
       "</div>"
      ],
      "text/plain": [
       "     subject_id          index_date\n",
       "0      18700527 2162-10-09 07:41:00\n",
       "0      17580825 2181-12-12 21:56:00\n",
       "1      17721144 2185-12-22 19:01:00\n",
       "0      10787126 2178-12-22 16:12:00\n",
       "1      12465544 2154-11-28 15:00:00\n",
       "..          ...                 ...\n",
       "143    19703091 2141-12-19 08:42:00\n",
       "144    19708987 2149-01-11 18:55:00\n",
       "145    19907159 2183-07-30 12:37:00\n",
       "146    19983948 2152-03-01 11:33:00\n",
       "147    19996869 2150-03-11 13:10:00\n",
       "\n",
       "[397 rows x 2 columns]"
      ]
     },
     "execution_count": 51,
     "metadata": {},
     "output_type": "execute_result"
    }
   ],
   "source": [
    "case_index_date = case_index_date9\n",
    "case_index_date = case_index_date.append(case_index_date8)\n",
    "case_index_date =case_index_date.append(case_index_date6)\n",
    "case_index_date =case_index_date.append(case_index_date5)\n",
    "case_index_date =case_index_date.append(case_index_date4)\n",
    "case_index_date =case_index_date.append(case_index_date3)\n",
    "case_index_date =case_index_date.append(case_index_date2)\n",
    "case_index_date =case_index_date.append(case_index_date1)\n",
    "case_index_date"
   ]
  },
  {
   "cell_type": "code",
   "execution_count": 52,
   "id": "8c4492e3",
   "metadata": {},
   "outputs": [
    {
     "data": {
      "text/plain": [
       "360"
      ]
     },
     "execution_count": 52,
     "metadata": {},
     "output_type": "execute_result"
    }
   ],
   "source": [
    "np.unique(case_index_date.subject_id).size"
   ]
  },
  {
   "cell_type": "code",
   "execution_count": 53,
   "id": "25ef40cc",
   "metadata": {},
   "outputs": [],
   "source": [
    "case_filter = pd.merge(case,case_index_date,how='left',on = ['subject_id'])"
   ]
  },
  {
   "cell_type": "code",
   "execution_count": 54,
   "id": "e86d10b5",
   "metadata": {},
   "outputs": [
    {
     "data": {
      "text/plain": [
       "363"
      ]
     },
     "execution_count": 54,
     "metadata": {},
     "output_type": "execute_result"
    }
   ],
   "source": [
    "np.unique(case_filter.subject_id).size"
   ]
  },
  {
   "cell_type": "code",
   "execution_count": 55,
   "id": "4e357de9",
   "metadata": {},
   "outputs": [
    {
     "data": {
      "text/html": [
       "<div>\n",
       "<style scoped>\n",
       "    .dataframe tbody tr th:only-of-type {\n",
       "        vertical-align: middle;\n",
       "    }\n",
       "\n",
       "    .dataframe tbody tr th {\n",
       "        vertical-align: top;\n",
       "    }\n",
       "\n",
       "    .dataframe thead th {\n",
       "        text-align: right;\n",
       "    }\n",
       "</style>\n",
       "<table border=\"1\" class=\"dataframe\">\n",
       "  <thead>\n",
       "    <tr style=\"text-align: right;\">\n",
       "      <th></th>\n",
       "      <th>Unnamed: 0</th>\n",
       "      <th>events</th>\n",
       "      <th>subject_id</th>\n",
       "      <th>time</th>\n",
       "      <th>eve_index</th>\n",
       "      <th>index_date</th>\n",
       "    </tr>\n",
       "  </thead>\n",
       "  <tbody>\n",
       "    <tr>\n",
       "      <th>0</th>\n",
       "      <td>60813</td>\n",
       "      <td>V270</td>\n",
       "      <td>10026821</td>\n",
       "      <td>2134-06-02 07:12:00</td>\n",
       "      <td>26406</td>\n",
       "      <td>2138-05-20 08:20:00</td>\n",
       "    </tr>\n",
       "    <tr>\n",
       "      <th>1</th>\n",
       "      <td>60814</td>\n",
       "      <td>741</td>\n",
       "      <td>10026821</td>\n",
       "      <td>2134-06-02 07:12:00</td>\n",
       "      <td>6699</td>\n",
       "      <td>2138-05-20 08:20:00</td>\n",
       "    </tr>\n",
       "    <tr>\n",
       "      <th>2</th>\n",
       "      <td>60815</td>\n",
       "      <td>65971</td>\n",
       "      <td>10026821</td>\n",
       "      <td>2134-06-02 07:12:00</td>\n",
       "      <td>5645</td>\n",
       "      <td>2138-05-20 08:20:00</td>\n",
       "    </tr>\n",
       "    <tr>\n",
       "      <th>3</th>\n",
       "      <td>60816</td>\n",
       "      <td>65681</td>\n",
       "      <td>10026821</td>\n",
       "      <td>2134-06-02 07:12:00</td>\n",
       "      <td>5612</td>\n",
       "      <td>2138-05-20 08:20:00</td>\n",
       "    </tr>\n",
       "    <tr>\n",
       "      <th>4</th>\n",
       "      <td>60105</td>\n",
       "      <td>timetoken0-2day</td>\n",
       "      <td>10026821</td>\n",
       "      <td>2134-06-02 07:12:00</td>\n",
       "      <td>36802</td>\n",
       "      <td>2138-05-20 08:20:00</td>\n",
       "    </tr>\n",
       "  </tbody>\n",
       "</table>\n",
       "</div>"
      ],
      "text/plain": [
       "   Unnamed: 0           events  subject_id                 time  eve_index  \\\n",
       "0       60813             V270    10026821  2134-06-02 07:12:00      26406   \n",
       "1       60814              741    10026821  2134-06-02 07:12:00       6699   \n",
       "2       60815            65971    10026821  2134-06-02 07:12:00       5645   \n",
       "3       60816            65681    10026821  2134-06-02 07:12:00       5612   \n",
       "4       60105  timetoken0-2day    10026821  2134-06-02 07:12:00      36802   \n",
       "\n",
       "           index_date  \n",
       "0 2138-05-20 08:20:00  \n",
       "1 2138-05-20 08:20:00  \n",
       "2 2138-05-20 08:20:00  \n",
       "3 2138-05-20 08:20:00  \n",
       "4 2138-05-20 08:20:00  "
      ]
     },
     "execution_count": 55,
     "metadata": {},
     "output_type": "execute_result"
    }
   ],
   "source": [
    "case_filter.head()"
   ]
  },
  {
   "cell_type": "code",
   "execution_count": 56,
   "id": "b3b629a0",
   "metadata": {},
   "outputs": [
    {
     "data": {
      "text/html": [
       "<div>\n",
       "<style scoped>\n",
       "    .dataframe tbody tr th:only-of-type {\n",
       "        vertical-align: middle;\n",
       "    }\n",
       "\n",
       "    .dataframe tbody tr th {\n",
       "        vertical-align: top;\n",
       "    }\n",
       "\n",
       "    .dataframe thead th {\n",
       "        text-align: right;\n",
       "    }\n",
       "</style>\n",
       "<table border=\"1\" class=\"dataframe\">\n",
       "  <thead>\n",
       "    <tr style=\"text-align: right;\">\n",
       "      <th></th>\n",
       "      <th>Unnamed: 0</th>\n",
       "      <th>events</th>\n",
       "      <th>subject_id</th>\n",
       "      <th>time</th>\n",
       "      <th>eve_index</th>\n",
       "      <th>index_date</th>\n",
       "    </tr>\n",
       "  </thead>\n",
       "  <tbody>\n",
       "    <tr>\n",
       "      <th>0</th>\n",
       "      <td>60813</td>\n",
       "      <td>V270</td>\n",
       "      <td>10026821</td>\n",
       "      <td>2134-06-02 07:12:00</td>\n",
       "      <td>26406</td>\n",
       "      <td>2138-05-20 08:20:00</td>\n",
       "    </tr>\n",
       "    <tr>\n",
       "      <th>1</th>\n",
       "      <td>60814</td>\n",
       "      <td>741</td>\n",
       "      <td>10026821</td>\n",
       "      <td>2134-06-02 07:12:00</td>\n",
       "      <td>6699</td>\n",
       "      <td>2138-05-20 08:20:00</td>\n",
       "    </tr>\n",
       "    <tr>\n",
       "      <th>2</th>\n",
       "      <td>60815</td>\n",
       "      <td>65971</td>\n",
       "      <td>10026821</td>\n",
       "      <td>2134-06-02 07:12:00</td>\n",
       "      <td>5645</td>\n",
       "      <td>2138-05-20 08:20:00</td>\n",
       "    </tr>\n",
       "    <tr>\n",
       "      <th>3</th>\n",
       "      <td>60816</td>\n",
       "      <td>65681</td>\n",
       "      <td>10026821</td>\n",
       "      <td>2134-06-02 07:12:00</td>\n",
       "      <td>5612</td>\n",
       "      <td>2138-05-20 08:20:00</td>\n",
       "    </tr>\n",
       "    <tr>\n",
       "      <th>4</th>\n",
       "      <td>60105</td>\n",
       "      <td>timetoken0-2day</td>\n",
       "      <td>10026821</td>\n",
       "      <td>2134-06-02 07:12:00</td>\n",
       "      <td>36802</td>\n",
       "      <td>2138-05-20 08:20:00</td>\n",
       "    </tr>\n",
       "  </tbody>\n",
       "</table>\n",
       "</div>"
      ],
      "text/plain": [
       "   Unnamed: 0           events  subject_id                 time  eve_index  \\\n",
       "0       60813             V270    10026821  2134-06-02 07:12:00      26406   \n",
       "1       60814              741    10026821  2134-06-02 07:12:00       6699   \n",
       "2       60815            65971    10026821  2134-06-02 07:12:00       5645   \n",
       "3       60816            65681    10026821  2134-06-02 07:12:00       5612   \n",
       "4       60105  timetoken0-2day    10026821  2134-06-02 07:12:00      36802   \n",
       "\n",
       "           index_date  \n",
       "0 2138-05-20 08:20:00  \n",
       "1 2138-05-20 08:20:00  \n",
       "2 2138-05-20 08:20:00  \n",
       "3 2138-05-20 08:20:00  \n",
       "4 2138-05-20 08:20:00  "
      ]
     },
     "execution_count": 56,
     "metadata": {},
     "output_type": "execute_result"
    }
   ],
   "source": [
    "choice1 = pd.to_datetime(case_filter['time'])>= pd.to_datetime(case_filter['index_date']) - pd.DateOffset(2000)\n",
    "choice2 = pd.to_datetime(case_filter['time']) <= pd.to_datetime(case_filter['index_date'])\n",
    "case_filter = case_filter[choice1 & choice2]\n",
    "case_filter.head() "
   ]
  },
  {
   "cell_type": "code",
   "execution_count": 57,
   "id": "59f15359",
   "metadata": {},
   "outputs": [
    {
     "name": "stdout",
     "output_type": "stream",
     "text": [
      "(array([144,   2,   0,   1,   0,   0,   0,   0,   0,   1], dtype=int64), array([   3. ,  168.7,  334.4,  500.1,  665.8,  831.5,  997.2, 1162.9,\n",
      "       1328.6, 1494.3, 1660. ]))\n",
      "55.898648648648646\n",
      "31.0\n",
      "143.76457575292008\n"
     ]
    },
    {
     "data": {
      "text/plain": [
       "count     148.000000\n",
       "mean       55.898649\n",
       "std       144.252742\n",
       "min         3.000000\n",
       "25%        23.750000\n",
       "50%        31.000000\n",
       "75%        45.250000\n",
       "max      1660.000000\n",
       "dtype: float64"
      ]
     },
     "execution_count": 57,
     "metadata": {},
     "output_type": "execute_result"
    },
    {
     "data": {
      "image/png": "[encoded data removed]",
      "text/plain": [
       "<Figure size 432x288 with 1 Axes>"
      ]
     },
     "metadata": {
      "needs_background": "light"
     },
     "output_type": "display_data"
    }
   ],
   "source": [
    "# case count\n",
    "count_case = case_filter.groupby('subject_id').apply(lambda x: x.eve_index.size)\n",
    "count_case.hist(bins=100)\n",
    "print(np.histogram(count_case))\n",
    "print(np.mean(count_case)); print(np.median(count_case)); print(np.std(count_case))\n",
    "\n",
    "count_case.describe()"
   ]
  },
  {
   "cell_type": "code",
   "execution_count": 58,
   "id": "8d0dd045",
   "metadata": {},
   "outputs": [],
   "source": [
    "case_filter =pd.merge(case_filter, all_count,on='subject_id',how='left')"
   ]
  },
  {
   "cell_type": "code",
   "execution_count": 59,
   "id": "752c716d",
   "metadata": {},
   "outputs": [
    {
     "data": {
      "text/html": [
       "<div>\n",
       "<style scoped>\n",
       "    .dataframe tbody tr th:only-of-type {\n",
       "        vertical-align: middle;\n",
       "    }\n",
       "\n",
       "    .dataframe tbody tr th {\n",
       "        vertical-align: top;\n",
       "    }\n",
       "\n",
       "    .dataframe thead th {\n",
       "        text-align: right;\n",
       "    }\n",
       "</style>\n",
       "<table border=\"1\" class=\"dataframe\">\n",
       "  <thead>\n",
       "    <tr style=\"text-align: right;\">\n",
       "      <th></th>\n",
       "      <th>Unnamed: 0</th>\n",
       "      <th>events</th>\n",
       "      <th>subject_id</th>\n",
       "      <th>time</th>\n",
       "      <th>eve_index</th>\n",
       "      <th>index_date</th>\n",
       "      <th>count</th>\n",
       "    </tr>\n",
       "  </thead>\n",
       "  <tbody>\n",
       "    <tr>\n",
       "      <th>0</th>\n",
       "      <td>60813</td>\n",
       "      <td>V270</td>\n",
       "      <td>10026821</td>\n",
       "      <td>2134-06-02 07:12:00</td>\n",
       "      <td>26406</td>\n",
       "      <td>2138-05-20 08:20:00</td>\n",
       "      <td>57</td>\n",
       "    </tr>\n",
       "    <tr>\n",
       "      <th>1</th>\n",
       "      <td>60814</td>\n",
       "      <td>741</td>\n",
       "      <td>10026821</td>\n",
       "      <td>2134-06-02 07:12:00</td>\n",
       "      <td>6699</td>\n",
       "      <td>2138-05-20 08:20:00</td>\n",
       "      <td>57</td>\n",
       "    </tr>\n",
       "    <tr>\n",
       "      <th>2</th>\n",
       "      <td>60815</td>\n",
       "      <td>65971</td>\n",
       "      <td>10026821</td>\n",
       "      <td>2134-06-02 07:12:00</td>\n",
       "      <td>5645</td>\n",
       "      <td>2138-05-20 08:20:00</td>\n",
       "      <td>57</td>\n",
       "    </tr>\n",
       "    <tr>\n",
       "      <th>3</th>\n",
       "      <td>60816</td>\n",
       "      <td>65681</td>\n",
       "      <td>10026821</td>\n",
       "      <td>2134-06-02 07:12:00</td>\n",
       "      <td>5612</td>\n",
       "      <td>2138-05-20 08:20:00</td>\n",
       "      <td>57</td>\n",
       "    </tr>\n",
       "    <tr>\n",
       "      <th>4</th>\n",
       "      <td>60105</td>\n",
       "      <td>timetoken0-2day</td>\n",
       "      <td>10026821</td>\n",
       "      <td>2134-06-02 07:12:00</td>\n",
       "      <td>36802</td>\n",
       "      <td>2138-05-20 08:20:00</td>\n",
       "      <td>57</td>\n",
       "    </tr>\n",
       "  </tbody>\n",
       "</table>\n",
       "</div>"
      ],
      "text/plain": [
       "   Unnamed: 0           events  subject_id                 time  eve_index  \\\n",
       "0       60813             V270    10026821  2134-06-02 07:12:00      26406   \n",
       "1       60814              741    10026821  2134-06-02 07:12:00       6699   \n",
       "2       60815            65971    10026821  2134-06-02 07:12:00       5645   \n",
       "3       60816            65681    10026821  2134-06-02 07:12:00       5612   \n",
       "4       60105  timetoken0-2day    10026821  2134-06-02 07:12:00      36802   \n",
       "\n",
       "           index_date  count  \n",
       "0 2138-05-20 08:20:00     57  \n",
       "1 2138-05-20 08:20:00     57  \n",
       "2 2138-05-20 08:20:00     57  \n",
       "3 2138-05-20 08:20:00     57  \n",
       "4 2138-05-20 08:20:00     57  "
      ]
     },
     "execution_count": 59,
     "metadata": {},
     "output_type": "execute_result"
    }
   ],
   "source": [
    "case_filter.head()"
   ]
  },
  {
   "cell_type": "code",
   "execution_count": 60,
   "id": "14f6a1d3",
   "metadata": {},
   "outputs": [
    {
     "data": {
      "text/plain": [
       "148"
      ]
     },
     "execution_count": 60,
     "metadata": {},
     "output_type": "execute_result"
    }
   ],
   "source": [
    "np.unique(case_filter.subject_id).size"
   ]
  },
  {
   "cell_type": "code",
   "execution_count": 61,
   "id": "7e85ba1b",
   "metadata": {},
   "outputs": [],
   "source": [
    "case_filter_out = case_filter.loc[((case_filter['count']>10) & (case_filter['count']<500)),:]"
   ]
  },
  {
   "cell_type": "code",
   "execution_count": 62,
   "id": "5fde8bd0",
   "metadata": {},
   "outputs": [
    {
     "data": {
      "text/html": [
       "<div>\n",
       "<style scoped>\n",
       "    .dataframe tbody tr th:only-of-type {\n",
       "        vertical-align: middle;\n",
       "    }\n",
       "\n",
       "    .dataframe tbody tr th {\n",
       "        vertical-align: top;\n",
       "    }\n",
       "\n",
       "    .dataframe thead th {\n",
       "        text-align: right;\n",
       "    }\n",
       "</style>\n",
       "<table border=\"1\" class=\"dataframe\">\n",
       "  <thead>\n",
       "    <tr style=\"text-align: right;\">\n",
       "      <th></th>\n",
       "      <th>Unnamed: 0</th>\n",
       "      <th>events</th>\n",
       "      <th>subject_id</th>\n",
       "      <th>time</th>\n",
       "      <th>eve_index</th>\n",
       "      <th>index_date</th>\n",
       "      <th>count</th>\n",
       "    </tr>\n",
       "  </thead>\n",
       "  <tbody>\n",
       "    <tr>\n",
       "      <th>0</th>\n",
       "      <td>60813</td>\n",
       "      <td>V270</td>\n",
       "      <td>10026821</td>\n",
       "      <td>2134-06-02 07:12:00</td>\n",
       "      <td>26406</td>\n",
       "      <td>2138-05-20 08:20:00</td>\n",
       "      <td>57</td>\n",
       "    </tr>\n",
       "    <tr>\n",
       "      <th>1</th>\n",
       "      <td>60814</td>\n",
       "      <td>741</td>\n",
       "      <td>10026821</td>\n",
       "      <td>2134-06-02 07:12:00</td>\n",
       "      <td>6699</td>\n",
       "      <td>2138-05-20 08:20:00</td>\n",
       "      <td>57</td>\n",
       "    </tr>\n",
       "    <tr>\n",
       "      <th>2</th>\n",
       "      <td>60815</td>\n",
       "      <td>65971</td>\n",
       "      <td>10026821</td>\n",
       "      <td>2134-06-02 07:12:00</td>\n",
       "      <td>5645</td>\n",
       "      <td>2138-05-20 08:20:00</td>\n",
       "      <td>57</td>\n",
       "    </tr>\n",
       "    <tr>\n",
       "      <th>3</th>\n",
       "      <td>60816</td>\n",
       "      <td>65681</td>\n",
       "      <td>10026821</td>\n",
       "      <td>2134-06-02 07:12:00</td>\n",
       "      <td>5612</td>\n",
       "      <td>2138-05-20 08:20:00</td>\n",
       "      <td>57</td>\n",
       "    </tr>\n",
       "    <tr>\n",
       "      <th>4</th>\n",
       "      <td>60105</td>\n",
       "      <td>timetoken0-2day</td>\n",
       "      <td>10026821</td>\n",
       "      <td>2134-06-02 07:12:00</td>\n",
       "      <td>36802</td>\n",
       "      <td>2138-05-20 08:20:00</td>\n",
       "      <td>57</td>\n",
       "    </tr>\n",
       "  </tbody>\n",
       "</table>\n",
       "</div>"
      ],
      "text/plain": [
       "   Unnamed: 0           events  subject_id                 time  eve_index  \\\n",
       "0       60813             V270    10026821  2134-06-02 07:12:00      26406   \n",
       "1       60814              741    10026821  2134-06-02 07:12:00       6699   \n",
       "2       60815            65971    10026821  2134-06-02 07:12:00       5645   \n",
       "3       60816            65681    10026821  2134-06-02 07:12:00       5612   \n",
       "4       60105  timetoken0-2day    10026821  2134-06-02 07:12:00      36802   \n",
       "\n",
       "           index_date  count  \n",
       "0 2138-05-20 08:20:00     57  \n",
       "1 2138-05-20 08:20:00     57  \n",
       "2 2138-05-20 08:20:00     57  \n",
       "3 2138-05-20 08:20:00     57  \n",
       "4 2138-05-20 08:20:00     57  "
      ]
     },
     "execution_count": 62,
     "metadata": {},
     "output_type": "execute_result"
    }
   ],
   "source": [
    "case_filter_out.head()"
   ]
  },
  {
   "cell_type": "code",
   "execution_count": 63,
   "id": "f915ae1d",
   "metadata": {},
   "outputs": [],
   "source": [
    "# get sample from control\n",
    "np.random.seed(6250)\n",
    "sample_ids = np.random.choice(np.unique(control_filter_out.subject_id),2000,replace=False)\n",
    "control_out = control_filter_out.loc[np.in1d(control_filter_out['subject_id'],sample_ids),:]"
   ]
  },
  {
   "cell_type": "code",
   "execution_count": 64,
   "id": "4f713ada",
   "metadata": {},
   "outputs": [
    {
     "data": {
      "text/plain": [
       "2000"
      ]
     },
     "execution_count": 64,
     "metadata": {},
     "output_type": "execute_result"
    }
   ],
   "source": [
    "np.unique(control_out.subject_id).size"
   ]
  },
  {
   "cell_type": "code",
   "execution_count": 65,
   "id": "443dfe6d",
   "metadata": {},
   "outputs": [],
   "source": [
    "control_out.reset_index(inplace=True)"
   ]
  },
  {
   "cell_type": "code",
   "execution_count": 66,
   "id": "ec9bb8bc",
   "metadata": {},
   "outputs": [
    {
     "data": {
      "text/plain": [
       "146"
      ]
     },
     "execution_count": 66,
     "metadata": {},
     "output_type": "execute_result"
    }
   ],
   "source": [
    "np.unique(case_filter_out.subject_id).size"
   ]
  },
  {
   "cell_type": "code",
   "execution_count": 67,
   "id": "2b603e35",
   "metadata": {},
   "outputs": [
    {
     "data": {
      "text/plain": [
       "(6021, 7)"
      ]
     },
     "execution_count": 67,
     "metadata": {},
     "output_type": "execute_result"
    }
   ],
   "source": [
    "case_filter_out.shape"
   ]
  },
  {
   "cell_type": "code",
   "execution_count": 68,
   "id": "e7ff59eb",
   "metadata": {},
   "outputs": [],
   "source": [
    "demographic = pd.read_csv(\"../data/patients.csv\",index_col = 0)"
   ]
  },
  {
   "cell_type": "code",
   "execution_count": 69,
   "id": "0de5babe",
   "metadata": {},
   "outputs": [],
   "source": [
    "adm = pd.read_csv(\"../data/admissions.csv\",index_col = 0)"
   ]
  },
  {
   "cell_type": "code",
   "execution_count": 70,
   "id": "0e3e66af",
   "metadata": {},
   "outputs": [],
   "source": [
    "def get_demographic(data):\n",
    "    d = data.merge(demographic, how = \"left\", on = \"subject_id\")\n",
    "    dd = d.merge(adm, how = \"left\", on = \"subject_id\")\n",
    "    demoo = dd.loc[:, [\"subject_id\", \"index_date\", \"gender\", \"anchor_age\", \"anchor_year\", \"ethnicity\"]].drop_duplicates()\n",
    "    print(demoo[\"index_date\"])\n",
    "    print(demoo[\"anchor_age\"])\n",
    "    print(demoo[\"anchor_year\"])\n",
    "    #calculate the age for the patients\n",
    "    age = pd.to_datetime(demoo.index_date)\n",
    "    demoo[\"AGE\"] = age.apply(lambda x: x.year)-demoo['anchor_year']+demoo['anchor_age']\n",
    "    demoo = demoo.drop([\"anchor_age\", \"anchor_year\",\"index_date\"], axis = 1)\n",
    "    demo_full = demoo.merge(pd.get_dummies(demoo.ethnicity), left_index= True, right_index= True)\n",
    "    #gender 1 is M 0 is F\n",
    "    demo_full.gender = demo_full.gender.apply(lambda x: 1 if x == \"M\" else 0)\n",
    "    \n",
    "    \n",
    "    return demo_full.drop([\"ethnicity\"], axis = 1)"
   ]
  },
  {
   "cell_type": "code",
   "execution_count": 71,
   "id": "4b5c5d3b",
   "metadata": {},
   "outputs": [
    {
     "name": "stdout",
     "output_type": "stream",
     "text": [
      "0        2169-10-29 20:00:00\n",
      "74       2147-08-30 11:00:00\n",
      "106      2153-09-25 14:00:00\n",
      "283      2164-05-03 20:00:00\n",
      "328      2140-09-17 13:00:00\n",
      "                 ...        \n",
      "487034   2152-02-06 10:00:00\n",
      "487074   2157-02-17 08:00:00\n",
      "487125   2172-02-23 13:00:00\n",
      "487137   2119-03-16 10:00:00\n",
      "487173   2155-12-12 08:00:00\n",
      "Name: index_date, Length: 2059, dtype: datetime64[ns]\n",
      "0         85\n",
      "74        71\n",
      "106       58\n",
      "283       50\n",
      "328       44\n",
      "          ..\n",
      "487034    81\n",
      "487074    31\n",
      "487125     0\n",
      "487137    87\n",
      "487173    91\n",
      "Name: anchor_age, Length: 2059, dtype: int64\n",
      "0         2169\n",
      "74        2146\n",
      "106       2153\n",
      "283       2164\n",
      "328       2140\n",
      "          ... \n",
      "487034    2152\n",
      "487074    2156\n",
      "487125    2172\n",
      "487137    2119\n",
      "487173    2155\n",
      "Name: anchor_year, Length: 2059, dtype: int64\n"
     ]
    }
   ],
   "source": [
    "control_demo = get_demographic(control_out)"
   ]
  },
  {
   "cell_type": "code",
   "execution_count": 72,
   "id": "eb950197",
   "metadata": {},
   "outputs": [
    {
     "data": {
      "text/html": [
       "<div>\n",
       "<style scoped>\n",
       "    .dataframe tbody tr th:only-of-type {\n",
       "        vertical-align: middle;\n",
       "    }\n",
       "\n",
       "    .dataframe tbody tr th {\n",
       "        vertical-align: top;\n",
       "    }\n",
       "\n",
       "    .dataframe thead th {\n",
       "        text-align: right;\n",
       "    }\n",
       "</style>\n",
       "<table border=\"1\" class=\"dataframe\">\n",
       "  <thead>\n",
       "    <tr style=\"text-align: right;\">\n",
       "      <th></th>\n",
       "      <th>subject_id</th>\n",
       "      <th>gender</th>\n",
       "      <th>AGE</th>\n",
       "      <th>AMERICAN INDIAN/ALASKA NATIVE</th>\n",
       "      <th>ASIAN</th>\n",
       "      <th>BLACK/AFRICAN AMERICAN</th>\n",
       "      <th>HISPANIC/LATINO</th>\n",
       "      <th>OTHER</th>\n",
       "      <th>UNABLE TO OBTAIN</th>\n",
       "      <th>UNKNOWN</th>\n",
       "      <th>WHITE</th>\n",
       "    </tr>\n",
       "  </thead>\n",
       "  <tbody>\n",
       "    <tr>\n",
       "      <th>0</th>\n",
       "      <td>10005012</td>\n",
       "      <td>0</td>\n",
       "      <td>85</td>\n",
       "      <td>0</td>\n",
       "      <td>0</td>\n",
       "      <td>0</td>\n",
       "      <td>0</td>\n",
       "      <td>0</td>\n",
       "      <td>0</td>\n",
       "      <td>0</td>\n",
       "      <td>1</td>\n",
       "    </tr>\n",
       "    <tr>\n",
       "      <th>74</th>\n",
       "      <td>10006835</td>\n",
       "      <td>0</td>\n",
       "      <td>72</td>\n",
       "      <td>0</td>\n",
       "      <td>0</td>\n",
       "      <td>0</td>\n",
       "      <td>0</td>\n",
       "      <td>0</td>\n",
       "      <td>0</td>\n",
       "      <td>0</td>\n",
       "      <td>1</td>\n",
       "    </tr>\n",
       "    <tr>\n",
       "      <th>106</th>\n",
       "      <td>10009628</td>\n",
       "      <td>1</td>\n",
       "      <td>58</td>\n",
       "      <td>0</td>\n",
       "      <td>0</td>\n",
       "      <td>0</td>\n",
       "      <td>1</td>\n",
       "      <td>0</td>\n",
       "      <td>0</td>\n",
       "      <td>0</td>\n",
       "      <td>0</td>\n",
       "    </tr>\n",
       "    <tr>\n",
       "      <th>283</th>\n",
       "      <td>10009686</td>\n",
       "      <td>0</td>\n",
       "      <td>50</td>\n",
       "      <td>0</td>\n",
       "      <td>0</td>\n",
       "      <td>0</td>\n",
       "      <td>0</td>\n",
       "      <td>0</td>\n",
       "      <td>0</td>\n",
       "      <td>0</td>\n",
       "      <td>1</td>\n",
       "    </tr>\n",
       "    <tr>\n",
       "      <th>328</th>\n",
       "      <td>10019992</td>\n",
       "      <td>0</td>\n",
       "      <td>44</td>\n",
       "      <td>0</td>\n",
       "      <td>0</td>\n",
       "      <td>0</td>\n",
       "      <td>0</td>\n",
       "      <td>0</td>\n",
       "      <td>0</td>\n",
       "      <td>0</td>\n",
       "      <td>1</td>\n",
       "    </tr>\n",
       "  </tbody>\n",
       "</table>\n",
       "</div>"
      ],
      "text/plain": [
       "     subject_id  gender  AGE  AMERICAN INDIAN/ALASKA NATIVE  ASIAN  \\\n",
       "0      10005012       0   85                              0      0   \n",
       "74     10006835       0   72                              0      0   \n",
       "106    10009628       1   58                              0      0   \n",
       "283    10009686       0   50                              0      0   \n",
       "328    10019992       0   44                              0      0   \n",
       "\n",
       "     BLACK/AFRICAN AMERICAN  HISPANIC/LATINO  OTHER  UNABLE TO OBTAIN  \\\n",
       "0                         0                0      0                 0   \n",
       "74                        0                0      0                 0   \n",
       "106                       0                1      0                 0   \n",
       "283                       0                0      0                 0   \n",
       "328                       0                0      0                 0   \n",
       "\n",
       "     UNKNOWN  WHITE  \n",
       "0          0      1  \n",
       "74         0      1  \n",
       "106        0      0  \n",
       "283        0      1  \n",
       "328        0      1  "
      ]
     },
     "execution_count": 72,
     "metadata": {},
     "output_type": "execute_result"
    }
   ],
   "source": [
    "control_demo.head()"
   ]
  },
  {
   "cell_type": "code",
   "execution_count": 73,
   "id": "694a0dfb",
   "metadata": {},
   "outputs": [
    {
     "data": {
      "text/plain": [
       "(2059, 11)"
      ]
     },
     "execution_count": 73,
     "metadata": {},
     "output_type": "execute_result"
    }
   ],
   "source": [
    "control_demo.shape"
   ]
  },
  {
   "cell_type": "code",
   "execution_count": 74,
   "id": "cac5ceec",
   "metadata": {},
   "outputs": [],
   "source": [
    "control_demo_female=control_demo[~control_demo['gender'].isin([1])]"
   ]
  },
  {
   "cell_type": "code",
   "execution_count": 75,
   "id": "88055ccc",
   "metadata": {},
   "outputs": [
    {
     "data": {
      "text/plain": [
       "1041"
      ]
     },
     "execution_count": 75,
     "metadata": {},
     "output_type": "execute_result"
    }
   ],
   "source": [
    "control_demo_female.shape[0]"
   ]
  },
  {
   "cell_type": "code",
   "execution_count": 76,
   "id": "f9a3eae7",
   "metadata": {},
   "outputs": [],
   "source": [
    "control_demo_female_age=control_demo_female[control_demo_female.AGE<50]"
   ]
  },
  {
   "cell_type": "code",
   "execution_count": 77,
   "id": "a1fae701",
   "metadata": {},
   "outputs": [],
   "source": [
    "control_demo_fa=control_demo_female_age[control_demo_female_age.AGE>20]"
   ]
  },
  {
   "cell_type": "code",
   "execution_count": 78,
   "id": "1f242969",
   "metadata": {},
   "outputs": [
    {
     "data": {
      "text/plain": [
       "316"
      ]
     },
     "execution_count": 78,
     "metadata": {},
     "output_type": "execute_result"
    }
   ],
   "source": [
    "np.unique(control_demo_fa.subject_id).size"
   ]
  },
  {
   "cell_type": "code",
   "execution_count": 86,
   "id": "b4e3fa68",
   "metadata": {},
   "outputs": [],
   "source": [
    "control_demo_FA=control_demo_fa.head(311)"
   ]
  },
  {
   "cell_type": "code",
   "execution_count": 87,
   "id": "b41c6322",
   "metadata": {},
   "outputs": [
    {
     "data": {
      "text/plain": [
       "292"
      ]
     },
     "execution_count": 87,
     "metadata": {},
     "output_type": "execute_result"
    }
   ],
   "source": [
    "np.unique(control_demo_FA.subject_id).size"
   ]
  },
  {
   "cell_type": "code",
   "execution_count": 88,
   "id": "839a4c18",
   "metadata": {},
   "outputs": [
    {
     "data": {
      "text/html": [
       "<div>\n",
       "<style scoped>\n",
       "    .dataframe tbody tr th:only-of-type {\n",
       "        vertical-align: middle;\n",
       "    }\n",
       "\n",
       "    .dataframe tbody tr th {\n",
       "        vertical-align: top;\n",
       "    }\n",
       "\n",
       "    .dataframe thead th {\n",
       "        text-align: right;\n",
       "    }\n",
       "</style>\n",
       "<table border=\"1\" class=\"dataframe\">\n",
       "  <thead>\n",
       "    <tr style=\"text-align: right;\">\n",
       "      <th></th>\n",
       "      <th>subject_id</th>\n",
       "      <th>gender</th>\n",
       "      <th>AGE</th>\n",
       "      <th>AMERICAN INDIAN/ALASKA NATIVE</th>\n",
       "      <th>ASIAN</th>\n",
       "      <th>BLACK/AFRICAN AMERICAN</th>\n",
       "      <th>HISPANIC/LATINO</th>\n",
       "      <th>OTHER</th>\n",
       "      <th>UNABLE TO OBTAIN</th>\n",
       "      <th>UNKNOWN</th>\n",
       "      <th>WHITE</th>\n",
       "    </tr>\n",
       "  </thead>\n",
       "  <tbody>\n",
       "    <tr>\n",
       "      <th>328</th>\n",
       "      <td>10019992</td>\n",
       "      <td>0</td>\n",
       "      <td>44</td>\n",
       "      <td>0</td>\n",
       "      <td>0</td>\n",
       "      <td>0</td>\n",
       "      <td>0</td>\n",
       "      <td>0</td>\n",
       "      <td>0</td>\n",
       "      <td>0</td>\n",
       "      <td>1</td>\n",
       "    </tr>\n",
       "    <tr>\n",
       "      <th>1435</th>\n",
       "      <td>10078892</td>\n",
       "      <td>0</td>\n",
       "      <td>37</td>\n",
       "      <td>0</td>\n",
       "      <td>0</td>\n",
       "      <td>0</td>\n",
       "      <td>0</td>\n",
       "      <td>0</td>\n",
       "      <td>0</td>\n",
       "      <td>0</td>\n",
       "      <td>1</td>\n",
       "    </tr>\n",
       "    <tr>\n",
       "      <th>2448</th>\n",
       "      <td>10114736</td>\n",
       "      <td>0</td>\n",
       "      <td>49</td>\n",
       "      <td>0</td>\n",
       "      <td>0</td>\n",
       "      <td>0</td>\n",
       "      <td>0</td>\n",
       "      <td>0</td>\n",
       "      <td>0</td>\n",
       "      <td>0</td>\n",
       "      <td>1</td>\n",
       "    </tr>\n",
       "    <tr>\n",
       "      <th>4073</th>\n",
       "      <td>10182430</td>\n",
       "      <td>0</td>\n",
       "      <td>39</td>\n",
       "      <td>0</td>\n",
       "      <td>0</td>\n",
       "      <td>1</td>\n",
       "      <td>0</td>\n",
       "      <td>0</td>\n",
       "      <td>0</td>\n",
       "      <td>0</td>\n",
       "      <td>0</td>\n",
       "    </tr>\n",
       "    <tr>\n",
       "      <th>4074</th>\n",
       "      <td>10182430</td>\n",
       "      <td>0</td>\n",
       "      <td>39</td>\n",
       "      <td>0</td>\n",
       "      <td>0</td>\n",
       "      <td>0</td>\n",
       "      <td>0</td>\n",
       "      <td>1</td>\n",
       "      <td>0</td>\n",
       "      <td>0</td>\n",
       "      <td>0</td>\n",
       "    </tr>\n",
       "  </tbody>\n",
       "</table>\n",
       "</div>"
      ],
      "text/plain": [
       "      subject_id  gender  AGE  AMERICAN INDIAN/ALASKA NATIVE  ASIAN  \\\n",
       "328     10019992       0   44                              0      0   \n",
       "1435    10078892       0   37                              0      0   \n",
       "2448    10114736       0   49                              0      0   \n",
       "4073    10182430       0   39                              0      0   \n",
       "4074    10182430       0   39                              0      0   \n",
       "\n",
       "      BLACK/AFRICAN AMERICAN  HISPANIC/LATINO  OTHER  UNABLE TO OBTAIN  \\\n",
       "328                        0                0      0                 0   \n",
       "1435                       0                0      0                 0   \n",
       "2448                       0                0      0                 0   \n",
       "4073                       1                0      0                 0   \n",
       "4074                       0                0      1                 0   \n",
       "\n",
       "      UNKNOWN  WHITE  \n",
       "328         0      1  \n",
       "1435        0      1  \n",
       "2448        0      1  \n",
       "4073        0      0  \n",
       "4074        0      0  "
      ]
     },
     "execution_count": 88,
     "metadata": {},
     "output_type": "execute_result"
    }
   ],
   "source": [
    "control_demo_FA.head()"
   ]
  },
  {
   "cell_type": "code",
   "execution_count": 89,
   "id": "07986cb5",
   "metadata": {},
   "outputs": [
    {
     "data": {
      "text/plain": [
       "146"
      ]
     },
     "execution_count": 89,
     "metadata": {},
     "output_type": "execute_result"
    }
   ],
   "source": [
    "np.unique(case_filter_out.subject_id).size"
   ]
  },
  {
   "cell_type": "code",
   "execution_count": 90,
   "id": "6a3d4066",
   "metadata": {},
   "outputs": [
    {
     "data": {
      "text/plain": [
       "292"
      ]
     },
     "execution_count": 90,
     "metadata": {},
     "output_type": "execute_result"
    }
   ],
   "source": [
    "np.unique(control_demo_FA.subject_id).size"
   ]
  },
  {
   "cell_type": "code",
   "execution_count": 91,
   "id": "bf8e900c",
   "metadata": {},
   "outputs": [
    {
     "data": {
      "text/html": [
       "<div>\n",
       "<style scoped>\n",
       "    .dataframe tbody tr th:only-of-type {\n",
       "        vertical-align: middle;\n",
       "    }\n",
       "\n",
       "    .dataframe tbody tr th {\n",
       "        vertical-align: top;\n",
       "    }\n",
       "\n",
       "    .dataframe thead th {\n",
       "        text-align: right;\n",
       "    }\n",
       "</style>\n",
       "<table border=\"1\" class=\"dataframe\">\n",
       "  <thead>\n",
       "    <tr style=\"text-align: right;\">\n",
       "      <th></th>\n",
       "      <th>index</th>\n",
       "      <th>Unnamed: 0</th>\n",
       "      <th>events</th>\n",
       "      <th>subject_id</th>\n",
       "      <th>time</th>\n",
       "      <th>eve_index</th>\n",
       "      <th>index_date</th>\n",
       "      <th>count</th>\n",
       "    </tr>\n",
       "  </thead>\n",
       "  <tbody>\n",
       "    <tr>\n",
       "      <th>0</th>\n",
       "      <td>12328</td>\n",
       "      <td>13154</td>\n",
       "      <td>lisinopril</td>\n",
       "      <td>10005012</td>\n",
       "      <td>2169-10-23 10:00:00</td>\n",
       "      <td>32963</td>\n",
       "      <td>2169-10-29 20:00:00</td>\n",
       "      <td>74</td>\n",
       "    </tr>\n",
       "    <tr>\n",
       "      <th>1</th>\n",
       "      <td>12329</td>\n",
       "      <td>13155</td>\n",
       "      <td>clopidogrel</td>\n",
       "      <td>10005012</td>\n",
       "      <td>2169-10-23 10:00:00</td>\n",
       "      <td>30222</td>\n",
       "      <td>2169-10-29 20:00:00</td>\n",
       "      <td>74</td>\n",
       "    </tr>\n",
       "    <tr>\n",
       "      <th>2</th>\n",
       "      <td>12330</td>\n",
       "      <td>13156</td>\n",
       "      <td>folic acid</td>\n",
       "      <td>10005012</td>\n",
       "      <td>2169-10-23 10:00:00</td>\n",
       "      <td>31551</td>\n",
       "      <td>2169-10-29 20:00:00</td>\n",
       "      <td>74</td>\n",
       "    </tr>\n",
       "    <tr>\n",
       "      <th>3</th>\n",
       "      <td>12331</td>\n",
       "      <td>13157</td>\n",
       "      <td>furosemide</td>\n",
       "      <td>10005012</td>\n",
       "      <td>2169-10-23 10:00:00</td>\n",
       "      <td>31594</td>\n",
       "      <td>2169-10-29 20:00:00</td>\n",
       "      <td>74</td>\n",
       "    </tr>\n",
       "    <tr>\n",
       "      <th>4</th>\n",
       "      <td>12332</td>\n",
       "      <td>13158</td>\n",
       "      <td>aspirin</td>\n",
       "      <td>10005012</td>\n",
       "      <td>2169-10-23 10:00:00</td>\n",
       "      <td>29171</td>\n",
       "      <td>2169-10-29 20:00:00</td>\n",
       "      <td>74</td>\n",
       "    </tr>\n",
       "  </tbody>\n",
       "</table>\n",
       "</div>"
      ],
      "text/plain": [
       "   index  Unnamed: 0       events  subject_id                 time  eve_index  \\\n",
       "0  12328       13154   lisinopril    10005012  2169-10-23 10:00:00      32963   \n",
       "1  12329       13155  clopidogrel    10005012  2169-10-23 10:00:00      30222   \n",
       "2  12330       13156   folic acid    10005012  2169-10-23 10:00:00      31551   \n",
       "3  12331       13157   furosemide    10005012  2169-10-23 10:00:00      31594   \n",
       "4  12332       13158      aspirin    10005012  2169-10-23 10:00:00      29171   \n",
       "\n",
       "           index_date  count  \n",
       "0 2169-10-29 20:00:00     74  \n",
       "1 2169-10-29 20:00:00     74  \n",
       "2 2169-10-29 20:00:00     74  \n",
       "3 2169-10-29 20:00:00     74  \n",
       "4 2169-10-29 20:00:00     74  "
      ]
     },
     "execution_count": 91,
     "metadata": {},
     "output_type": "execute_result"
    }
   ],
   "source": [
    "control_out.head()"
   ]
  },
  {
   "cell_type": "code",
   "execution_count": 92,
   "id": "48c72d0d",
   "metadata": {},
   "outputs": [],
   "source": [
    "control_out2=pd.merge(control_out,control_demo_FA,how='inner',on=[\"subject_id\"])"
   ]
  },
  {
   "cell_type": "code",
   "execution_count": 93,
   "id": "143d716d",
   "metadata": {},
   "outputs": [
    {
     "data": {
      "text/html": [
       "<div>\n",
       "<style scoped>\n",
       "    .dataframe tbody tr th:only-of-type {\n",
       "        vertical-align: middle;\n",
       "    }\n",
       "\n",
       "    .dataframe tbody tr th {\n",
       "        vertical-align: top;\n",
       "    }\n",
       "\n",
       "    .dataframe thead th {\n",
       "        text-align: right;\n",
       "    }\n",
       "</style>\n",
       "<table border=\"1\" class=\"dataframe\">\n",
       "  <thead>\n",
       "    <tr style=\"text-align: right;\">\n",
       "      <th></th>\n",
       "      <th>index</th>\n",
       "      <th>Unnamed: 0</th>\n",
       "      <th>events</th>\n",
       "      <th>subject_id</th>\n",
       "      <th>time</th>\n",
       "      <th>eve_index</th>\n",
       "      <th>index_date</th>\n",
       "      <th>count</th>\n",
       "      <th>gender</th>\n",
       "      <th>AGE</th>\n",
       "      <th>AMERICAN INDIAN/ALASKA NATIVE</th>\n",
       "      <th>ASIAN</th>\n",
       "      <th>BLACK/AFRICAN AMERICAN</th>\n",
       "      <th>HISPANIC/LATINO</th>\n",
       "      <th>OTHER</th>\n",
       "      <th>UNABLE TO OBTAIN</th>\n",
       "      <th>UNKNOWN</th>\n",
       "      <th>WHITE</th>\n",
       "    </tr>\n",
       "  </thead>\n",
       "  <tbody>\n",
       "    <tr>\n",
       "      <th>0</th>\n",
       "      <td>44664</td>\n",
       "      <td>46695</td>\n",
       "      <td>30590</td>\n",
       "      <td>10019992</td>\n",
       "      <td>2140-09-16 20:55:00</td>\n",
       "      <td>2634</td>\n",
       "      <td>2140-09-17 13:00:00</td>\n",
       "      <td>18</td>\n",
       "      <td>0</td>\n",
       "      <td>44</td>\n",
       "      <td>0</td>\n",
       "      <td>0</td>\n",
       "      <td>0</td>\n",
       "      <td>0</td>\n",
       "      <td>0</td>\n",
       "      <td>0</td>\n",
       "      <td>0</td>\n",
       "      <td>1</td>\n",
       "    </tr>\n",
       "    <tr>\n",
       "      <th>1</th>\n",
       "      <td>44665</td>\n",
       "      <td>46696</td>\n",
       "      <td>3051</td>\n",
       "      <td>10019992</td>\n",
       "      <td>2140-09-16 20:55:00</td>\n",
       "      <td>2606</td>\n",
       "      <td>2140-09-17 13:00:00</td>\n",
       "      <td>18</td>\n",
       "      <td>0</td>\n",
       "      <td>44</td>\n",
       "      <td>0</td>\n",
       "      <td>0</td>\n",
       "      <td>0</td>\n",
       "      <td>0</td>\n",
       "      <td>0</td>\n",
       "      <td>0</td>\n",
       "      <td>0</td>\n",
       "      <td>1</td>\n",
       "    </tr>\n",
       "    <tr>\n",
       "      <th>2</th>\n",
       "      <td>44666</td>\n",
       "      <td>46697</td>\n",
       "      <td>30560</td>\n",
       "      <td>10019992</td>\n",
       "      <td>2140-09-16 20:55:00</td>\n",
       "      <td>2623</td>\n",
       "      <td>2140-09-17 13:00:00</td>\n",
       "      <td>18</td>\n",
       "      <td>0</td>\n",
       "      <td>44</td>\n",
       "      <td>0</td>\n",
       "      <td>0</td>\n",
       "      <td>0</td>\n",
       "      <td>0</td>\n",
       "      <td>0</td>\n",
       "      <td>0</td>\n",
       "      <td>0</td>\n",
       "      <td>1</td>\n",
       "    </tr>\n",
       "    <tr>\n",
       "      <th>3</th>\n",
       "      <td>44667</td>\n",
       "      <td>46698</td>\n",
       "      <td>30550</td>\n",
       "      <td>10019992</td>\n",
       "      <td>2140-09-16 20:55:00</td>\n",
       "      <td>2619</td>\n",
       "      <td>2140-09-17 13:00:00</td>\n",
       "      <td>18</td>\n",
       "      <td>0</td>\n",
       "      <td>44</td>\n",
       "      <td>0</td>\n",
       "      <td>0</td>\n",
       "      <td>0</td>\n",
       "      <td>0</td>\n",
       "      <td>0</td>\n",
       "      <td>0</td>\n",
       "      <td>0</td>\n",
       "      <td>1</td>\n",
       "    </tr>\n",
       "    <tr>\n",
       "      <th>4</th>\n",
       "      <td>44668</td>\n",
       "      <td>46699</td>\n",
       "      <td>E8499</td>\n",
       "      <td>10019992</td>\n",
       "      <td>2140-09-16 20:55:00</td>\n",
       "      <td>11730</td>\n",
       "      <td>2140-09-17 13:00:00</td>\n",
       "      <td>18</td>\n",
       "      <td>0</td>\n",
       "      <td>44</td>\n",
       "      <td>0</td>\n",
       "      <td>0</td>\n",
       "      <td>0</td>\n",
       "      <td>0</td>\n",
       "      <td>0</td>\n",
       "      <td>0</td>\n",
       "      <td>0</td>\n",
       "      <td>1</td>\n",
       "    </tr>\n",
       "  </tbody>\n",
       "</table>\n",
       "</div>"
      ],
      "text/plain": [
       "   index  Unnamed: 0 events  subject_id                 time  eve_index  \\\n",
       "0  44664       46695  30590    10019992  2140-09-16 20:55:00       2634   \n",
       "1  44665       46696   3051    10019992  2140-09-16 20:55:00       2606   \n",
       "2  44666       46697  30560    10019992  2140-09-16 20:55:00       2623   \n",
       "3  44667       46698  30550    10019992  2140-09-16 20:55:00       2619   \n",
       "4  44668       46699  E8499    10019992  2140-09-16 20:55:00      11730   \n",
       "\n",
       "           index_date  count  gender  AGE  AMERICAN INDIAN/ALASKA NATIVE  \\\n",
       "0 2140-09-17 13:00:00     18       0   44                              0   \n",
       "1 2140-09-17 13:00:00     18       0   44                              0   \n",
       "2 2140-09-17 13:00:00     18       0   44                              0   \n",
       "3 2140-09-17 13:00:00     18       0   44                              0   \n",
       "4 2140-09-17 13:00:00     18       0   44                              0   \n",
       "\n",
       "   ASIAN  BLACK/AFRICAN AMERICAN  HISPANIC/LATINO  OTHER  UNABLE TO OBTAIN  \\\n",
       "0      0                       0                0      0                 0   \n",
       "1      0                       0                0      0                 0   \n",
       "2      0                       0                0      0                 0   \n",
       "3      0                       0                0      0                 0   \n",
       "4      0                       0                0      0                 0   \n",
       "\n",
       "   UNKNOWN  WHITE  \n",
       "0        0      1  \n",
       "1        0      1  \n",
       "2        0      1  \n",
       "3        0      1  \n",
       "4        0      1  "
      ]
     },
     "execution_count": 93,
     "metadata": {},
     "output_type": "execute_result"
    }
   ],
   "source": [
    "control_out2.head()"
   ]
  },
  {
   "cell_type": "code",
   "execution_count": 94,
   "id": "dad40c7d",
   "metadata": {},
   "outputs": [
    {
     "data": {
      "text/plain": [
       "292"
      ]
     },
     "execution_count": 94,
     "metadata": {},
     "output_type": "execute_result"
    }
   ],
   "source": [
    "np.unique(control_out2.subject_id).size"
   ]
  },
  {
   "cell_type": "code",
   "execution_count": 95,
   "id": "024743b7",
   "metadata": {},
   "outputs": [
    {
     "data": {
      "text/html": [
       "<div>\n",
       "<style scoped>\n",
       "    .dataframe tbody tr th:only-of-type {\n",
       "        vertical-align: middle;\n",
       "    }\n",
       "\n",
       "    .dataframe tbody tr th {\n",
       "        vertical-align: top;\n",
       "    }\n",
       "\n",
       "    .dataframe thead th {\n",
       "        text-align: right;\n",
       "    }\n",
       "</style>\n",
       "<table border=\"1\" class=\"dataframe\">\n",
       "  <thead>\n",
       "    <tr style=\"text-align: right;\">\n",
       "      <th></th>\n",
       "      <th>subject_id</th>\n",
       "      <th>time</th>\n",
       "      <th>eve_index</th>\n",
       "    </tr>\n",
       "  </thead>\n",
       "  <tbody>\n",
       "    <tr>\n",
       "      <th>0</th>\n",
       "      <td>10019992</td>\n",
       "      <td>2140-09-16 20:55:00</td>\n",
       "      <td>2634</td>\n",
       "    </tr>\n",
       "    <tr>\n",
       "      <th>1</th>\n",
       "      <td>10019992</td>\n",
       "      <td>2140-09-16 20:55:00</td>\n",
       "      <td>2606</td>\n",
       "    </tr>\n",
       "    <tr>\n",
       "      <th>2</th>\n",
       "      <td>10019992</td>\n",
       "      <td>2140-09-16 20:55:00</td>\n",
       "      <td>2623</td>\n",
       "    </tr>\n",
       "    <tr>\n",
       "      <th>3</th>\n",
       "      <td>10019992</td>\n",
       "      <td>2140-09-16 20:55:00</td>\n",
       "      <td>2619</td>\n",
       "    </tr>\n",
       "    <tr>\n",
       "      <th>4</th>\n",
       "      <td>10019992</td>\n",
       "      <td>2140-09-16 20:55:00</td>\n",
       "      <td>11730</td>\n",
       "    </tr>\n",
       "    <tr>\n",
       "      <th>...</th>\n",
       "      <td>...</td>\n",
       "      <td>...</td>\n",
       "      <td>...</td>\n",
       "    </tr>\n",
       "    <tr>\n",
       "      <th>21045</th>\n",
       "      <td>19347423</td>\n",
       "      <td>2167-02-10 16:00:00</td>\n",
       "      <td>36802</td>\n",
       "    </tr>\n",
       "    <tr>\n",
       "      <th>21046</th>\n",
       "      <td>19347423</td>\n",
       "      <td>2167-02-11 16:00:00</td>\n",
       "      <td>36584</td>\n",
       "    </tr>\n",
       "    <tr>\n",
       "      <th>21047</th>\n",
       "      <td>19347423</td>\n",
       "      <td>2167-02-11 16:00:00</td>\n",
       "      <td>36802</td>\n",
       "    </tr>\n",
       "    <tr>\n",
       "      <th>21048</th>\n",
       "      <td>19347423</td>\n",
       "      <td>2167-02-12 19:00:00</td>\n",
       "      <td>36584</td>\n",
       "    </tr>\n",
       "    <tr>\n",
       "      <th>21049</th>\n",
       "      <td>19347423</td>\n",
       "      <td>2167-02-12 20:00:00</td>\n",
       "      <td>29899</td>\n",
       "    </tr>\n",
       "  </tbody>\n",
       "</table>\n",
       "<p>21050 rows × 3 columns</p>\n",
       "</div>"
      ],
      "text/plain": [
       "       subject_id                 time  eve_index\n",
       "0        10019992  2140-09-16 20:55:00       2634\n",
       "1        10019992  2140-09-16 20:55:00       2606\n",
       "2        10019992  2140-09-16 20:55:00       2623\n",
       "3        10019992  2140-09-16 20:55:00       2619\n",
       "4        10019992  2140-09-16 20:55:00      11730\n",
       "...           ...                  ...        ...\n",
       "21045    19347423  2167-02-10 16:00:00      36802\n",
       "21046    19347423  2167-02-11 16:00:00      36584\n",
       "21047    19347423  2167-02-11 16:00:00      36802\n",
       "21048    19347423  2167-02-12 19:00:00      36584\n",
       "21049    19347423  2167-02-12 20:00:00      29899\n",
       "\n",
       "[21050 rows x 3 columns]"
      ]
     },
     "execution_count": 95,
     "metadata": {},
     "output_type": "execute_result"
    }
   ],
   "source": [
    "control_out2.loc[:,['subject_id','time','eve_index']]"
   ]
  },
  {
   "cell_type": "code",
   "execution_count": 96,
   "id": "4e8535c8",
   "metadata": {},
   "outputs": [],
   "source": [
    "if with_time:\n",
    "    control_out2.loc[:,['subject_id','time','eve_index']].to_csv('../cleaned_data/control_w_time.csv')\n",
    "    case_filter_out.loc[:,['subject_id','time','eve_index']].to_csv('../cleaned_data/case_w_time.csv')\n",
    "else:\n",
    "    control_out2.loc[:,['subject_id','time','eve_index']].to_csv('../cleaned_data/control.csv')\n",
    "    case_filter_out.loc[:,['subject_id','time','eve_index']].to_csv('../cleaned_data/case.csv')"
   ]
  },
  {
   "cell_type": "code",
   "execution_count": 97,
   "id": "83c0374b",
   "metadata": {},
   "outputs": [
    {
     "data": {
      "text/html": [
       "<div>\n",
       "<style scoped>\n",
       "    .dataframe tbody tr th:only-of-type {\n",
       "        vertical-align: middle;\n",
       "    }\n",
       "\n",
       "    .dataframe tbody tr th {\n",
       "        vertical-align: top;\n",
       "    }\n",
       "\n",
       "    .dataframe thead th {\n",
       "        text-align: right;\n",
       "    }\n",
       "</style>\n",
       "<table border=\"1\" class=\"dataframe\">\n",
       "  <thead>\n",
       "    <tr style=\"text-align: right;\">\n",
       "      <th></th>\n",
       "      <th>subject_id</th>\n",
       "      <th>gender</th>\n",
       "      <th>AGE</th>\n",
       "      <th>AMERICAN INDIAN/ALASKA NATIVE</th>\n",
       "      <th>ASIAN</th>\n",
       "      <th>BLACK/AFRICAN AMERICAN</th>\n",
       "      <th>HISPANIC/LATINO</th>\n",
       "      <th>OTHER</th>\n",
       "      <th>UNABLE TO OBTAIN</th>\n",
       "      <th>UNKNOWN</th>\n",
       "      <th>WHITE</th>\n",
       "    </tr>\n",
       "  </thead>\n",
       "  <tbody>\n",
       "    <tr>\n",
       "      <th>328</th>\n",
       "      <td>10019992</td>\n",
       "      <td>0</td>\n",
       "      <td>44</td>\n",
       "      <td>0</td>\n",
       "      <td>0</td>\n",
       "      <td>0</td>\n",
       "      <td>0</td>\n",
       "      <td>0</td>\n",
       "      <td>0</td>\n",
       "      <td>0</td>\n",
       "      <td>1</td>\n",
       "    </tr>\n",
       "    <tr>\n",
       "      <th>1435</th>\n",
       "      <td>10078892</td>\n",
       "      <td>0</td>\n",
       "      <td>37</td>\n",
       "      <td>0</td>\n",
       "      <td>0</td>\n",
       "      <td>0</td>\n",
       "      <td>0</td>\n",
       "      <td>0</td>\n",
       "      <td>0</td>\n",
       "      <td>0</td>\n",
       "      <td>1</td>\n",
       "    </tr>\n",
       "    <tr>\n",
       "      <th>2448</th>\n",
       "      <td>10114736</td>\n",
       "      <td>0</td>\n",
       "      <td>49</td>\n",
       "      <td>0</td>\n",
       "      <td>0</td>\n",
       "      <td>0</td>\n",
       "      <td>0</td>\n",
       "      <td>0</td>\n",
       "      <td>0</td>\n",
       "      <td>0</td>\n",
       "      <td>1</td>\n",
       "    </tr>\n",
       "    <tr>\n",
       "      <th>4073</th>\n",
       "      <td>10182430</td>\n",
       "      <td>0</td>\n",
       "      <td>39</td>\n",
       "      <td>0</td>\n",
       "      <td>0</td>\n",
       "      <td>1</td>\n",
       "      <td>0</td>\n",
       "      <td>0</td>\n",
       "      <td>0</td>\n",
       "      <td>0</td>\n",
       "      <td>0</td>\n",
       "    </tr>\n",
       "    <tr>\n",
       "      <th>4074</th>\n",
       "      <td>10182430</td>\n",
       "      <td>0</td>\n",
       "      <td>39</td>\n",
       "      <td>0</td>\n",
       "      <td>0</td>\n",
       "      <td>0</td>\n",
       "      <td>0</td>\n",
       "      <td>1</td>\n",
       "      <td>0</td>\n",
       "      <td>0</td>\n",
       "      <td>0</td>\n",
       "    </tr>\n",
       "  </tbody>\n",
       "</table>\n",
       "</div>"
      ],
      "text/plain": [
       "      subject_id  gender  AGE  AMERICAN INDIAN/ALASKA NATIVE  ASIAN  \\\n",
       "328     10019992       0   44                              0      0   \n",
       "1435    10078892       0   37                              0      0   \n",
       "2448    10114736       0   49                              0      0   \n",
       "4073    10182430       0   39                              0      0   \n",
       "4074    10182430       0   39                              0      0   \n",
       "\n",
       "      BLACK/AFRICAN AMERICAN  HISPANIC/LATINO  OTHER  UNABLE TO OBTAIN  \\\n",
       "328                        0                0      0                 0   \n",
       "1435                       0                0      0                 0   \n",
       "2448                       0                0      0                 0   \n",
       "4073                       1                0      0                 0   \n",
       "4074                       0                0      1                 0   \n",
       "\n",
       "      UNKNOWN  WHITE  \n",
       "328         0      1  \n",
       "1435        0      1  \n",
       "2448        0      1  \n",
       "4073        0      0  \n",
       "4074        0      0  "
      ]
     },
     "execution_count": 97,
     "metadata": {},
     "output_type": "execute_result"
    }
   ],
   "source": [
    "control_demo_FA.head()"
   ]
  },
  {
   "cell_type": "code",
   "execution_count": 98,
   "id": "64eda8af",
   "metadata": {},
   "outputs": [
    {
     "data": {
      "text/plain": [
       "146"
      ]
     },
     "execution_count": 98,
     "metadata": {},
     "output_type": "execute_result"
    }
   ],
   "source": [
    "np.unique(case_filter_out.subject_id).size"
   ]
  },
  {
   "cell_type": "code",
   "execution_count": 99,
   "id": "0e23bcf3",
   "metadata": {},
   "outputs": [
    {
     "name": "stdout",
     "output_type": "stream",
     "text": [
      "0       2138-05-20 08:20:00\n",
      "50      2138-05-27 06:21:00\n",
      "114     2136-11-18 20:13:00\n",
      "152     2145-05-15 13:36:00\n",
      "167     2185-06-12 18:53:00\n",
      "                ...        \n",
      "23778   2155-03-28 22:37:00\n",
      "24042   2141-12-19 08:42:00\n",
      "24120   2147-03-02 19:11:00\n",
      "24230   2133-04-05 09:37:00\n",
      "24310   2150-03-11 13:10:00\n",
      "Name: index_date, Length: 177, dtype: datetime64[ns]\n",
      "0        31\n",
      "50       35\n",
      "114      33\n",
      "152      26\n",
      "167      31\n",
      "         ..\n",
      "23778    23\n",
      "24042    33\n",
      "24120    40\n",
      "24230    21\n",
      "24310    32\n",
      "Name: anchor_age, Length: 177, dtype: int64\n",
      "0        2134\n",
      "50       2135\n",
      "114      2136\n",
      "152      2137\n",
      "167      2180\n",
      "         ... \n",
      "23778    2149\n",
      "24042    2140\n",
      "24120    2147\n",
      "24230    2122\n",
      "24310    2148\n",
      "Name: anchor_year, Length: 177, dtype: int64\n"
     ]
    }
   ],
   "source": [
    "case_demo = get_demographic(case_filter_out)"
   ]
  },
  {
   "cell_type": "code",
   "execution_count": 100,
   "id": "9d512a00",
   "metadata": {},
   "outputs": [
    {
     "data": {
      "text/html": [
       "<div>\n",
       "<style scoped>\n",
       "    .dataframe tbody tr th:only-of-type {\n",
       "        vertical-align: middle;\n",
       "    }\n",
       "\n",
       "    .dataframe tbody tr th {\n",
       "        vertical-align: top;\n",
       "    }\n",
       "\n",
       "    .dataframe thead th {\n",
       "        text-align: right;\n",
       "    }\n",
       "</style>\n",
       "<table border=\"1\" class=\"dataframe\">\n",
       "  <thead>\n",
       "    <tr style=\"text-align: right;\">\n",
       "      <th></th>\n",
       "      <th>subject_id</th>\n",
       "      <th>gender</th>\n",
       "      <th>AGE</th>\n",
       "      <th>AMERICAN INDIAN/ALASKA NATIVE</th>\n",
       "      <th>ASIAN</th>\n",
       "      <th>BLACK/AFRICAN AMERICAN</th>\n",
       "      <th>HISPANIC/LATINO</th>\n",
       "      <th>OTHER</th>\n",
       "      <th>UNKNOWN</th>\n",
       "      <th>WHITE</th>\n",
       "    </tr>\n",
       "  </thead>\n",
       "  <tbody>\n",
       "    <tr>\n",
       "      <th>0</th>\n",
       "      <td>10026821</td>\n",
       "      <td>0</td>\n",
       "      <td>35</td>\n",
       "      <td>0</td>\n",
       "      <td>0</td>\n",
       "      <td>0</td>\n",
       "      <td>0</td>\n",
       "      <td>0</td>\n",
       "      <td>0</td>\n",
       "      <td>1</td>\n",
       "    </tr>\n",
       "    <tr>\n",
       "      <th>50</th>\n",
       "      <td>10078279</td>\n",
       "      <td>0</td>\n",
       "      <td>38</td>\n",
       "      <td>0</td>\n",
       "      <td>0</td>\n",
       "      <td>0</td>\n",
       "      <td>0</td>\n",
       "      <td>0</td>\n",
       "      <td>0</td>\n",
       "      <td>1</td>\n",
       "    </tr>\n",
       "    <tr>\n",
       "      <th>114</th>\n",
       "      <td>10130191</td>\n",
       "      <td>0</td>\n",
       "      <td>33</td>\n",
       "      <td>0</td>\n",
       "      <td>0</td>\n",
       "      <td>0</td>\n",
       "      <td>0</td>\n",
       "      <td>1</td>\n",
       "      <td>0</td>\n",
       "      <td>0</td>\n",
       "    </tr>\n",
       "    <tr>\n",
       "      <th>152</th>\n",
       "      <td>10183015</td>\n",
       "      <td>0</td>\n",
       "      <td>34</td>\n",
       "      <td>0</td>\n",
       "      <td>1</td>\n",
       "      <td>0</td>\n",
       "      <td>0</td>\n",
       "      <td>0</td>\n",
       "      <td>0</td>\n",
       "      <td>0</td>\n",
       "    </tr>\n",
       "    <tr>\n",
       "      <th>167</th>\n",
       "      <td>10230631</td>\n",
       "      <td>0</td>\n",
       "      <td>36</td>\n",
       "      <td>0</td>\n",
       "      <td>0</td>\n",
       "      <td>0</td>\n",
       "      <td>0</td>\n",
       "      <td>0</td>\n",
       "      <td>0</td>\n",
       "      <td>1</td>\n",
       "    </tr>\n",
       "  </tbody>\n",
       "</table>\n",
       "</div>"
      ],
      "text/plain": [
       "     subject_id  gender  AGE  AMERICAN INDIAN/ALASKA NATIVE  ASIAN  \\\n",
       "0      10026821       0   35                              0      0   \n",
       "50     10078279       0   38                              0      0   \n",
       "114    10130191       0   33                              0      0   \n",
       "152    10183015       0   34                              0      1   \n",
       "167    10230631       0   36                              0      0   \n",
       "\n",
       "     BLACK/AFRICAN AMERICAN  HISPANIC/LATINO  OTHER  UNKNOWN  WHITE  \n",
       "0                         0                0      0        0      1  \n",
       "50                        0                0      0        0      1  \n",
       "114                       0                0      1        0      0  \n",
       "152                       0                0      0        0      0  \n",
       "167                       0                0      0        0      1  "
      ]
     },
     "execution_count": 100,
     "metadata": {},
     "output_type": "execute_result"
    }
   ],
   "source": [
    "case_demo.head()"
   ]
  },
  {
   "cell_type": "code",
   "execution_count": 101,
   "id": "8b5ab71a",
   "metadata": {},
   "outputs": [],
   "source": [
    "if with_time:\n",
    "    control_demo_FA.to_csv('../cleaned_data/control_demo_wt.csv')\n",
    "    case_demo.to_csv('../cleaned_data/case_demo_wt.csv')\n",
    "else:\n",
    "    control_demo_FA.to_csv('../cleaned_data/control_demo.csv')\n",
    "    case_demo.to_csv('../cleaned_data/case_demo.csv')"
   ]
  },
  {
   "cell_type": "code",
   "execution_count": null,
   "id": "3005e9a4",
   "metadata": {},
   "outputs": [],
   "source": []
  }
 ],
 "metadata": {
  "kernelspec": {
   "display_name": "Python 3 (ipykernel)",
   "language": "python",
   "name": "python3"
  },
  "language_info": {
   "codemirror_mode": {
    "name": "ipython",
    "version": 3
   },
   "file_extension": ".py",
   "mimetype": "text/x-python",
   "name": "python",
   "nbconvert_exporter": "python",
   "pygments_lexer": "ipython3",
   "version": "3.9.7"
  }
 },
 "nbformat": 4,
 "nbformat_minor": 5
}
